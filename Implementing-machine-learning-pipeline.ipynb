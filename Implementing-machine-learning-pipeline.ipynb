{
 "cells": [
  {
   "cell_type": "markdown",
   "metadata": {},
   "source": [
    "Pipeline of transforms with a final estimator.\n",
    "\n",
    "Sequentially apply a list of transforms and a final estimator. Intermediate steps of the pipeline must be ‘transforms’, that is, they must implement fit and transform methods. The final estimator only needs to implement fit. The transformers in the pipeline can be cached using memory argument.\n",
    "\n",
    "The purpose of the pipeline is to assemble several steps that can be cross-validated together while setting different parameters. For this, it enables setting parameters of the various steps using their names and the parameter name separated by a '__', as in the example below. A step’s estimator may be replaced entirely by setting the parameter with its name to another estimator, or a transformer removed by setting it to 'passthrough' or None.\n",
    "\n",
    "[https://www.youtube.com/watch?v=HZ9MUzCRlzI&ab_channel=KrishNaik]"
   ]
  },
  {
   "cell_type": "markdown",
   "metadata": {},
   "source": [
    "class sklearn.pipeline.Pipeline(steps, *, memory=None, verbose=False)\n",
    "\n",
    "[https://scikit-learn.org/stable/modules/generated/sklearn.pipeline.Pipeline.html]"
   ]
  },
  {
   "cell_type": "code",
   "execution_count": 3,
   "metadata": {},
   "outputs": [],
   "source": [
    "from sklearn.pipeline import Pipeline\n",
    "from sklearn.preprocessing import StandardScaler\n",
    "from sklearn.linear_model import LogisticRegression\n",
    "\n",
    "## StandardSclaer is a transformation technique and LogisticRegression is an estimator"
   ]
  },
  {
   "cell_type": "code",
   "execution_count": 6,
   "metadata": {},
   "outputs": [
    {
     "name": "stdout",
     "output_type": "stream",
     "text": [
      "[('standard_sclaer', StandardScaler()), ('classifier', LogisticRegression())]\n"
     ]
    }
   ],
   "source": [
    "steps = [(\"standard_sclaer\", StandardScaler()),\n",
    "        (\"classifier\", LogisticRegression())]\n",
    "\n",
    "print(steps)"
   ]
  },
  {
   "cell_type": "code",
   "execution_count": 7,
   "metadata": {},
   "outputs": [
    {
     "data": {
      "text/plain": [
       "Pipeline(steps=[('standard_sclaer', StandardScaler()),\n",
       "                ('classifier', LogisticRegression())])"
      ]
     },
     "execution_count": 7,
     "metadata": {},
     "output_type": "execute_result"
    }
   ],
   "source": [
    "Pipeline(steps)"
   ]
  },
  {
   "cell_type": "code",
   "execution_count": 8,
   "metadata": {},
   "outputs": [],
   "source": [
    "pipe = Pipeline(steps)"
   ]
  },
  {
   "cell_type": "code",
   "execution_count": 9,
   "metadata": {},
   "outputs": [],
   "source": [
    "# Now we are going to visualize the pipeline\n",
    "\n",
    "from sklearn import set_config\n",
    "set_config(display=\"diagram\")"
   ]
  },
  {
   "cell_type": "code",
   "execution_count": 10,
   "metadata": {},
   "outputs": [
    {
     "data": {
      "text/html": [
       "<style>#sk-a9d1f569-68d9-4a43-bfa0-9c516ed293b2 {color: black;background-color: white;}#sk-a9d1f569-68d9-4a43-bfa0-9c516ed293b2 pre{padding: 0;}#sk-a9d1f569-68d9-4a43-bfa0-9c516ed293b2 div.sk-toggleable {background-color: white;}#sk-a9d1f569-68d9-4a43-bfa0-9c516ed293b2 label.sk-toggleable__label {cursor: pointer;display: block;width: 100%;margin-bottom: 0;padding: 0.2em 0.3em;box-sizing: border-box;text-align: center;}#sk-a9d1f569-68d9-4a43-bfa0-9c516ed293b2 div.sk-toggleable__content {max-height: 0;max-width: 0;overflow: hidden;text-align: left;background-color: #f0f8ff;}#sk-a9d1f569-68d9-4a43-bfa0-9c516ed293b2 div.sk-toggleable__content pre {margin: 0.2em;color: black;border-radius: 0.25em;background-color: #f0f8ff;}#sk-a9d1f569-68d9-4a43-bfa0-9c516ed293b2 input.sk-toggleable__control:checked~div.sk-toggleable__content {max-height: 200px;max-width: 100%;overflow: auto;}#sk-a9d1f569-68d9-4a43-bfa0-9c516ed293b2 div.sk-estimator input.sk-toggleable__control:checked~label.sk-toggleable__label {background-color: #d4ebff;}#sk-a9d1f569-68d9-4a43-bfa0-9c516ed293b2 div.sk-label input.sk-toggleable__control:checked~label.sk-toggleable__label {background-color: #d4ebff;}#sk-a9d1f569-68d9-4a43-bfa0-9c516ed293b2 input.sk-hidden--visually {border: 0;clip: rect(1px 1px 1px 1px);clip: rect(1px, 1px, 1px, 1px);height: 1px;margin: -1px;overflow: hidden;padding: 0;position: absolute;width: 1px;}#sk-a9d1f569-68d9-4a43-bfa0-9c516ed293b2 div.sk-estimator {font-family: monospace;background-color: #f0f8ff;margin: 0.25em 0.25em;border: 1px dotted black;border-radius: 0.25em;box-sizing: border-box;}#sk-a9d1f569-68d9-4a43-bfa0-9c516ed293b2 div.sk-estimator:hover {background-color: #d4ebff;}#sk-a9d1f569-68d9-4a43-bfa0-9c516ed293b2 div.sk-parallel-item::after {content: \"\";width: 100%;border-bottom: 1px solid gray;flex-grow: 1;}#sk-a9d1f569-68d9-4a43-bfa0-9c516ed293b2 div.sk-label:hover label.sk-toggleable__label {background-color: #d4ebff;}#sk-a9d1f569-68d9-4a43-bfa0-9c516ed293b2 div.sk-serial::before {content: \"\";position: absolute;border-left: 1px solid gray;box-sizing: border-box;top: 2em;bottom: 0;left: 50%;}#sk-a9d1f569-68d9-4a43-bfa0-9c516ed293b2 div.sk-serial {display: flex;flex-direction: column;align-items: center;background-color: white;}#sk-a9d1f569-68d9-4a43-bfa0-9c516ed293b2 div.sk-item {z-index: 1;}#sk-a9d1f569-68d9-4a43-bfa0-9c516ed293b2 div.sk-parallel {display: flex;align-items: stretch;justify-content: center;background-color: white;}#sk-a9d1f569-68d9-4a43-bfa0-9c516ed293b2 div.sk-parallel-item {display: flex;flex-direction: column;position: relative;background-color: white;}#sk-a9d1f569-68d9-4a43-bfa0-9c516ed293b2 div.sk-parallel-item:first-child::after {align-self: flex-end;width: 50%;}#sk-a9d1f569-68d9-4a43-bfa0-9c516ed293b2 div.sk-parallel-item:last-child::after {align-self: flex-start;width: 50%;}#sk-a9d1f569-68d9-4a43-bfa0-9c516ed293b2 div.sk-parallel-item:only-child::after {width: 0;}#sk-a9d1f569-68d9-4a43-bfa0-9c516ed293b2 div.sk-dashed-wrapped {border: 1px dashed gray;margin: 0.2em;box-sizing: border-box;padding-bottom: 0.1em;background-color: white;position: relative;}#sk-a9d1f569-68d9-4a43-bfa0-9c516ed293b2 div.sk-label label {font-family: monospace;font-weight: bold;background-color: white;display: inline-block;line-height: 1.2em;}#sk-a9d1f569-68d9-4a43-bfa0-9c516ed293b2 div.sk-label-container {position: relative;z-index: 2;text-align: center;}#sk-a9d1f569-68d9-4a43-bfa0-9c516ed293b2 div.sk-container {display: inline-block;position: relative;}</style><div id=\"sk-a9d1f569-68d9-4a43-bfa0-9c516ed293b2\" class\"sk-top-container\"><div class=\"sk-container\"><div class=\"sk-item sk-dashed-wrapped\"><div class=\"sk-label-container\"><div class=\"sk-label sk-toggleable\"><input class=\"sk-toggleable__control sk-hidden--visually\" id=\"6f681742-28e6-4540-8b2c-b9ef1269c739\" type=\"checkbox\" ><label class=\"sk-toggleable__label\" for=\"6f681742-28e6-4540-8b2c-b9ef1269c739\">Pipeline</label><div class=\"sk-toggleable__content\"><pre>Pipeline(steps=[('standard_sclaer', StandardScaler()),\n",
       "                ('classifier', LogisticRegression())])</pre></div></div></div><div class=\"sk-serial\"><div class=\"sk-item\"><div class=\"sk-estimator sk-toggleable\"><input class=\"sk-toggleable__control sk-hidden--visually\" id=\"6373f786-6e13-4193-8d37-f641d63268a2\" type=\"checkbox\" ><label class=\"sk-toggleable__label\" for=\"6373f786-6e13-4193-8d37-f641d63268a2\">StandardScaler</label><div class=\"sk-toggleable__content\"><pre>StandardScaler()</pre></div></div></div><div class=\"sk-item\"><div class=\"sk-estimator sk-toggleable\"><input class=\"sk-toggleable__control sk-hidden--visually\" id=\"e3a31ca9-74dd-4037-bdfb-94d5759e2b25\" type=\"checkbox\" ><label class=\"sk-toggleable__label\" for=\"e3a31ca9-74dd-4037-bdfb-94d5759e2b25\">LogisticRegression</label><div class=\"sk-toggleable__content\"><pre>LogisticRegression()</pre></div></div></div></div></div></div></div>"
      ],
      "text/plain": [
       "Pipeline(steps=[('standard_sclaer', StandardScaler()),\n",
       "                ('classifier', LogisticRegression())])"
      ]
     },
     "execution_count": 10,
     "metadata": {},
     "output_type": "execute_result"
    }
   ],
   "source": [
    "pipe"
   ]
  },
  {
   "cell_type": "code",
   "execution_count": 11,
   "metadata": {},
   "outputs": [],
   "source": [
    "## create dataset\n",
    "from sklearn.datasets import make_classification\n",
    "\n",
    "X, y = make_classification(n_samples=1000)"
   ]
  },
  {
   "cell_type": "code",
   "execution_count": 12,
   "metadata": {},
   "outputs": [
    {
     "data": {
      "text/plain": [
       "((1000, 20), (1000,))"
      ]
     },
     "execution_count": 12,
     "metadata": {},
     "output_type": "execute_result"
    }
   ],
   "source": [
    "X.shape, y.shape"
   ]
  },
  {
   "cell_type": "code",
   "execution_count": 13,
   "metadata": {},
   "outputs": [],
   "source": [
    "from sklearn.model_selection import train_test_split\n",
    "\n",
    "X_train, X_test, y_train, y_test = train_test_split(X, y, random_state = 42, test_size = 0.3)"
   ]
  },
  {
   "cell_type": "code",
   "execution_count": 14,
   "metadata": {},
   "outputs": [
    {
     "data": {
      "text/plain": [
       "((700, 20), (300, 20), (700,), (300,))"
      ]
     },
     "execution_count": 14,
     "metadata": {},
     "output_type": "execute_result"
    }
   ],
   "source": [
    "X_train.shape, X_test.shape, y_train.shape, y_test.shape"
   ]
  },
  {
   "cell_type": "code",
   "execution_count": 15,
   "metadata": {},
   "outputs": [
    {
     "data": {
      "text/plain": [
       "array([[-0.73096954,  0.72161213,  0.59709576, ...,  1.25703038,\n",
       "        -0.49860009,  1.05549933],\n",
       "       [ 1.20328064, -0.30281421, -1.29242428, ..., -1.98274232,\n",
       "        -1.74760109, -1.56782264],\n",
       "       [-0.59169192,  0.62315217,  0.87528252, ..., -1.69220857,\n",
       "         0.67135837, -0.31361111],\n",
       "       ...,\n",
       "       [-0.85936136, -0.24332362, -1.9811566 , ...,  1.395996  ,\n",
       "        -0.25180935,  1.0299083 ],\n",
       "       [-0.27260729, -1.13200134,  0.46995393, ...,  1.33836653,\n",
       "         0.17655464, -0.75096714],\n",
       "       [ 2.39817533, -0.2314117 , -0.01630132, ...,  1.52961345,\n",
       "        -0.78749187,  2.02508267]])"
      ]
     },
     "execution_count": 15,
     "metadata": {},
     "output_type": "execute_result"
    }
   ],
   "source": [
    "X_train"
   ]
  },
  {
   "cell_type": "code",
   "execution_count": 16,
   "metadata": {},
   "outputs": [
    {
     "data": {
      "text/html": [
       "<style>#sk-d668f821-5851-4ebd-a640-d05d6fc4e6df {color: black;background-color: white;}#sk-d668f821-5851-4ebd-a640-d05d6fc4e6df pre{padding: 0;}#sk-d668f821-5851-4ebd-a640-d05d6fc4e6df div.sk-toggleable {background-color: white;}#sk-d668f821-5851-4ebd-a640-d05d6fc4e6df label.sk-toggleable__label {cursor: pointer;display: block;width: 100%;margin-bottom: 0;padding: 0.2em 0.3em;box-sizing: border-box;text-align: center;}#sk-d668f821-5851-4ebd-a640-d05d6fc4e6df div.sk-toggleable__content {max-height: 0;max-width: 0;overflow: hidden;text-align: left;background-color: #f0f8ff;}#sk-d668f821-5851-4ebd-a640-d05d6fc4e6df div.sk-toggleable__content pre {margin: 0.2em;color: black;border-radius: 0.25em;background-color: #f0f8ff;}#sk-d668f821-5851-4ebd-a640-d05d6fc4e6df input.sk-toggleable__control:checked~div.sk-toggleable__content {max-height: 200px;max-width: 100%;overflow: auto;}#sk-d668f821-5851-4ebd-a640-d05d6fc4e6df div.sk-estimator input.sk-toggleable__control:checked~label.sk-toggleable__label {background-color: #d4ebff;}#sk-d668f821-5851-4ebd-a640-d05d6fc4e6df div.sk-label input.sk-toggleable__control:checked~label.sk-toggleable__label {background-color: #d4ebff;}#sk-d668f821-5851-4ebd-a640-d05d6fc4e6df input.sk-hidden--visually {border: 0;clip: rect(1px 1px 1px 1px);clip: rect(1px, 1px, 1px, 1px);height: 1px;margin: -1px;overflow: hidden;padding: 0;position: absolute;width: 1px;}#sk-d668f821-5851-4ebd-a640-d05d6fc4e6df div.sk-estimator {font-family: monospace;background-color: #f0f8ff;margin: 0.25em 0.25em;border: 1px dotted black;border-radius: 0.25em;box-sizing: border-box;}#sk-d668f821-5851-4ebd-a640-d05d6fc4e6df div.sk-estimator:hover {background-color: #d4ebff;}#sk-d668f821-5851-4ebd-a640-d05d6fc4e6df div.sk-parallel-item::after {content: \"\";width: 100%;border-bottom: 1px solid gray;flex-grow: 1;}#sk-d668f821-5851-4ebd-a640-d05d6fc4e6df div.sk-label:hover label.sk-toggleable__label {background-color: #d4ebff;}#sk-d668f821-5851-4ebd-a640-d05d6fc4e6df div.sk-serial::before {content: \"\";position: absolute;border-left: 1px solid gray;box-sizing: border-box;top: 2em;bottom: 0;left: 50%;}#sk-d668f821-5851-4ebd-a640-d05d6fc4e6df div.sk-serial {display: flex;flex-direction: column;align-items: center;background-color: white;}#sk-d668f821-5851-4ebd-a640-d05d6fc4e6df div.sk-item {z-index: 1;}#sk-d668f821-5851-4ebd-a640-d05d6fc4e6df div.sk-parallel {display: flex;align-items: stretch;justify-content: center;background-color: white;}#sk-d668f821-5851-4ebd-a640-d05d6fc4e6df div.sk-parallel-item {display: flex;flex-direction: column;position: relative;background-color: white;}#sk-d668f821-5851-4ebd-a640-d05d6fc4e6df div.sk-parallel-item:first-child::after {align-self: flex-end;width: 50%;}#sk-d668f821-5851-4ebd-a640-d05d6fc4e6df div.sk-parallel-item:last-child::after {align-self: flex-start;width: 50%;}#sk-d668f821-5851-4ebd-a640-d05d6fc4e6df div.sk-parallel-item:only-child::after {width: 0;}#sk-d668f821-5851-4ebd-a640-d05d6fc4e6df div.sk-dashed-wrapped {border: 1px dashed gray;margin: 0.2em;box-sizing: border-box;padding-bottom: 0.1em;background-color: white;position: relative;}#sk-d668f821-5851-4ebd-a640-d05d6fc4e6df div.sk-label label {font-family: monospace;font-weight: bold;background-color: white;display: inline-block;line-height: 1.2em;}#sk-d668f821-5851-4ebd-a640-d05d6fc4e6df div.sk-label-container {position: relative;z-index: 2;text-align: center;}#sk-d668f821-5851-4ebd-a640-d05d6fc4e6df div.sk-container {display: inline-block;position: relative;}</style><div id=\"sk-d668f821-5851-4ebd-a640-d05d6fc4e6df\" class\"sk-top-container\"><div class=\"sk-container\"><div class=\"sk-item sk-dashed-wrapped\"><div class=\"sk-label-container\"><div class=\"sk-label sk-toggleable\"><input class=\"sk-toggleable__control sk-hidden--visually\" id=\"ec931497-e4c9-4f32-a501-74535ea1ac6f\" type=\"checkbox\" ><label class=\"sk-toggleable__label\" for=\"ec931497-e4c9-4f32-a501-74535ea1ac6f\">Pipeline</label><div class=\"sk-toggleable__content\"><pre>Pipeline(steps=[('standard_sclaer', StandardScaler()),\n",
       "                ('classifier', LogisticRegression())])</pre></div></div></div><div class=\"sk-serial\"><div class=\"sk-item\"><div class=\"sk-estimator sk-toggleable\"><input class=\"sk-toggleable__control sk-hidden--visually\" id=\"55c1fb71-975e-480a-89ae-a557b8bf32f4\" type=\"checkbox\" ><label class=\"sk-toggleable__label\" for=\"55c1fb71-975e-480a-89ae-a557b8bf32f4\">StandardScaler</label><div class=\"sk-toggleable__content\"><pre>StandardScaler()</pre></div></div></div><div class=\"sk-item\"><div class=\"sk-estimator sk-toggleable\"><input class=\"sk-toggleable__control sk-hidden--visually\" id=\"de4a611a-5674-441a-877c-55117455694e\" type=\"checkbox\" ><label class=\"sk-toggleable__label\" for=\"de4a611a-5674-441a-877c-55117455694e\">LogisticRegression</label><div class=\"sk-toggleable__content\"><pre>LogisticRegression()</pre></div></div></div></div></div></div></div>"
      ],
      "text/plain": [
       "Pipeline(steps=[('standard_sclaer', StandardScaler()),\n",
       "                ('classifier', LogisticRegression())])"
      ]
     },
     "execution_count": 16,
     "metadata": {},
     "output_type": "execute_result"
    }
   ],
   "source": [
    "pipe.fit(X_train, y_train)  # we don't need to transform data separetly using standardscaler. The data transformation will be done inside \n",
    "                            # the pipeline and logistic regression will be performed."
   ]
  },
  {
   "cell_type": "code",
   "execution_count": 17,
   "metadata": {},
   "outputs": [],
   "source": [
    "y_pred = pipe.predict(X_test) # only transform is performed (no fit is required)"
   ]
  },
  {
   "cell_type": "code",
   "execution_count": 18,
   "metadata": {},
   "outputs": [
    {
     "data": {
      "text/plain": [
       "array([1, 0, 0, 1, 1, 0, 1, 1, 1, 0, 0, 1, 0, 1, 0, 1, 0, 0, 1, 1, 1, 1,\n",
       "       1, 0, 0, 1, 1, 0, 0, 0, 1, 0, 1, 1, 1, 1, 0, 1, 1, 0, 0, 1, 0, 0,\n",
       "       0, 1, 0, 0, 0, 1, 0, 0, 0, 0, 0, 0, 1, 1, 0, 0, 1, 0, 0, 0, 0, 1,\n",
       "       0, 0, 1, 1, 1, 1, 0, 1, 0, 0, 1, 0, 0, 1, 1, 1, 1, 0, 0, 0, 0, 0,\n",
       "       0, 0, 1, 1, 1, 1, 1, 0, 1, 1, 0, 0, 0, 0, 1, 0, 1, 0, 1, 1, 1, 1,\n",
       "       1, 0, 1, 1, 1, 1, 1, 1, 0, 1, 1, 0, 0, 0, 1, 0, 1, 0, 1, 1, 0, 0,\n",
       "       0, 1, 1, 0, 1, 0, 0, 0, 1, 0, 1, 0, 1, 1, 1, 0, 0, 1, 1, 0, 0, 0,\n",
       "       0, 1, 0, 1, 1, 0, 0, 1, 1, 0, 0, 1, 1, 1, 0, 0, 0, 1, 0, 0, 1, 0,\n",
       "       1, 0, 1, 0, 1, 0, 0, 0, 1, 1, 0, 0, 0, 1, 0, 1, 0, 1, 1, 1, 0, 1,\n",
       "       0, 1, 0, 0, 0, 0, 1, 0, 0, 0, 0, 1, 0, 0, 0, 0, 0, 1, 0, 0, 1, 0,\n",
       "       1, 1, 0, 0, 1, 1, 1, 1, 1, 1, 0, 1, 0, 0, 1, 0, 1, 1, 0, 1, 0, 0,\n",
       "       1, 1, 1, 0, 0, 1, 0, 0, 1, 1, 1, 0, 0, 1, 0, 1, 0, 0, 1, 0, 1, 0,\n",
       "       1, 0, 0, 1, 1, 0, 1, 1, 0, 0, 0, 1, 0, 0, 1, 0, 1, 0, 0, 1, 1, 1,\n",
       "       1, 0, 1, 1, 1, 1, 1, 0, 0, 0, 0, 0, 0, 1])"
      ]
     },
     "execution_count": 18,
     "metadata": {},
     "output_type": "execute_result"
    }
   ],
   "source": [
    "y_pred"
   ]
  },
  {
   "cell_type": "markdown",
   "metadata": {},
   "source": [
    "This time we will combine pre-processing steps. Let's see how we can perform this using pipeline.\n",
    "\n",
    "Standard Scaling ---> PCA ---> Estimator"
   ]
  },
  {
   "cell_type": "code",
   "execution_count": 19,
   "metadata": {},
   "outputs": [],
   "source": [
    "from sklearn.decomposition import PCA\n",
    "from sklearn.svm import SVC"
   ]
  },
  {
   "cell_type": "code",
   "execution_count": 20,
   "metadata": {},
   "outputs": [],
   "source": [
    "steps = [(\"standard_scaler\", StandardScaler()), \n",
    "        (\"pca\", PCA(n_components = 3)),\n",
    "        (\"svc\", SVC())]"
   ]
  },
  {
   "cell_type": "code",
   "execution_count": 21,
   "metadata": {},
   "outputs": [
    {
     "data": {
      "text/plain": [
       "[('standard_scaler', StandardScaler()),\n",
       " ('pca', PCA(n_components=3)),\n",
       " ('svc', SVC())]"
      ]
     },
     "execution_count": 21,
     "metadata": {},
     "output_type": "execute_result"
    }
   ],
   "source": [
    "steps"
   ]
  },
  {
   "cell_type": "code",
   "execution_count": 22,
   "metadata": {},
   "outputs": [
    {
     "name": "stdout",
     "output_type": "stream",
     "text": [
      "Pipeline(steps=[('standard_scaler', StandardScaler()),\n",
      "                ('pca', PCA(n_components=3)), ('svc', SVC())])\n"
     ]
    }
   ],
   "source": [
    "pipe = Pipeline(steps)\n",
    "print(pipe)"
   ]
  },
  {
   "cell_type": "code",
   "execution_count": 23,
   "metadata": {},
   "outputs": [
    {
     "data": {
      "text/html": [
       "<style>#sk-9ff96368-bff3-4def-be72-af54eb2dd069 {color: black;background-color: white;}#sk-9ff96368-bff3-4def-be72-af54eb2dd069 pre{padding: 0;}#sk-9ff96368-bff3-4def-be72-af54eb2dd069 div.sk-toggleable {background-color: white;}#sk-9ff96368-bff3-4def-be72-af54eb2dd069 label.sk-toggleable__label {cursor: pointer;display: block;width: 100%;margin-bottom: 0;padding: 0.2em 0.3em;box-sizing: border-box;text-align: center;}#sk-9ff96368-bff3-4def-be72-af54eb2dd069 div.sk-toggleable__content {max-height: 0;max-width: 0;overflow: hidden;text-align: left;background-color: #f0f8ff;}#sk-9ff96368-bff3-4def-be72-af54eb2dd069 div.sk-toggleable__content pre {margin: 0.2em;color: black;border-radius: 0.25em;background-color: #f0f8ff;}#sk-9ff96368-bff3-4def-be72-af54eb2dd069 input.sk-toggleable__control:checked~div.sk-toggleable__content {max-height: 200px;max-width: 100%;overflow: auto;}#sk-9ff96368-bff3-4def-be72-af54eb2dd069 div.sk-estimator input.sk-toggleable__control:checked~label.sk-toggleable__label {background-color: #d4ebff;}#sk-9ff96368-bff3-4def-be72-af54eb2dd069 div.sk-label input.sk-toggleable__control:checked~label.sk-toggleable__label {background-color: #d4ebff;}#sk-9ff96368-bff3-4def-be72-af54eb2dd069 input.sk-hidden--visually {border: 0;clip: rect(1px 1px 1px 1px);clip: rect(1px, 1px, 1px, 1px);height: 1px;margin: -1px;overflow: hidden;padding: 0;position: absolute;width: 1px;}#sk-9ff96368-bff3-4def-be72-af54eb2dd069 div.sk-estimator {font-family: monospace;background-color: #f0f8ff;margin: 0.25em 0.25em;border: 1px dotted black;border-radius: 0.25em;box-sizing: border-box;}#sk-9ff96368-bff3-4def-be72-af54eb2dd069 div.sk-estimator:hover {background-color: #d4ebff;}#sk-9ff96368-bff3-4def-be72-af54eb2dd069 div.sk-parallel-item::after {content: \"\";width: 100%;border-bottom: 1px solid gray;flex-grow: 1;}#sk-9ff96368-bff3-4def-be72-af54eb2dd069 div.sk-label:hover label.sk-toggleable__label {background-color: #d4ebff;}#sk-9ff96368-bff3-4def-be72-af54eb2dd069 div.sk-serial::before {content: \"\";position: absolute;border-left: 1px solid gray;box-sizing: border-box;top: 2em;bottom: 0;left: 50%;}#sk-9ff96368-bff3-4def-be72-af54eb2dd069 div.sk-serial {display: flex;flex-direction: column;align-items: center;background-color: white;}#sk-9ff96368-bff3-4def-be72-af54eb2dd069 div.sk-item {z-index: 1;}#sk-9ff96368-bff3-4def-be72-af54eb2dd069 div.sk-parallel {display: flex;align-items: stretch;justify-content: center;background-color: white;}#sk-9ff96368-bff3-4def-be72-af54eb2dd069 div.sk-parallel-item {display: flex;flex-direction: column;position: relative;background-color: white;}#sk-9ff96368-bff3-4def-be72-af54eb2dd069 div.sk-parallel-item:first-child::after {align-self: flex-end;width: 50%;}#sk-9ff96368-bff3-4def-be72-af54eb2dd069 div.sk-parallel-item:last-child::after {align-self: flex-start;width: 50%;}#sk-9ff96368-bff3-4def-be72-af54eb2dd069 div.sk-parallel-item:only-child::after {width: 0;}#sk-9ff96368-bff3-4def-be72-af54eb2dd069 div.sk-dashed-wrapped {border: 1px dashed gray;margin: 0.2em;box-sizing: border-box;padding-bottom: 0.1em;background-color: white;position: relative;}#sk-9ff96368-bff3-4def-be72-af54eb2dd069 div.sk-label label {font-family: monospace;font-weight: bold;background-color: white;display: inline-block;line-height: 1.2em;}#sk-9ff96368-bff3-4def-be72-af54eb2dd069 div.sk-label-container {position: relative;z-index: 2;text-align: center;}#sk-9ff96368-bff3-4def-be72-af54eb2dd069 div.sk-container {display: inline-block;position: relative;}</style><div id=\"sk-9ff96368-bff3-4def-be72-af54eb2dd069\" class\"sk-top-container\"><div class=\"sk-container\"><div class=\"sk-item sk-dashed-wrapped\"><div class=\"sk-label-container\"><div class=\"sk-label sk-toggleable\"><input class=\"sk-toggleable__control sk-hidden--visually\" id=\"450d73ea-80a7-4a5e-b074-f90b3ef3fd7c\" type=\"checkbox\" ><label class=\"sk-toggleable__label\" for=\"450d73ea-80a7-4a5e-b074-f90b3ef3fd7c\">Pipeline</label><div class=\"sk-toggleable__content\"><pre>Pipeline(steps=[('standard_scaler', StandardScaler()),\n",
       "                ('pca', PCA(n_components=3)), ('svc', SVC())])</pre></div></div></div><div class=\"sk-serial\"><div class=\"sk-item\"><div class=\"sk-estimator sk-toggleable\"><input class=\"sk-toggleable__control sk-hidden--visually\" id=\"24bbd303-8251-4837-9b96-2f03f1ab6c01\" type=\"checkbox\" ><label class=\"sk-toggleable__label\" for=\"24bbd303-8251-4837-9b96-2f03f1ab6c01\">StandardScaler</label><div class=\"sk-toggleable__content\"><pre>StandardScaler()</pre></div></div></div><div class=\"sk-item\"><div class=\"sk-estimator sk-toggleable\"><input class=\"sk-toggleable__control sk-hidden--visually\" id=\"79cbed4c-6ef8-4114-b4bc-ba9008be50f0\" type=\"checkbox\" ><label class=\"sk-toggleable__label\" for=\"79cbed4c-6ef8-4114-b4bc-ba9008be50f0\">PCA</label><div class=\"sk-toggleable__content\"><pre>PCA(n_components=3)</pre></div></div></div><div class=\"sk-item\"><div class=\"sk-estimator sk-toggleable\"><input class=\"sk-toggleable__control sk-hidden--visually\" id=\"94afb083-147b-4bbe-ac53-f3311f9cfe36\" type=\"checkbox\" ><label class=\"sk-toggleable__label\" for=\"94afb083-147b-4bbe-ac53-f3311f9cfe36\">SVC</label><div class=\"sk-toggleable__content\"><pre>SVC()</pre></div></div></div></div></div></div></div>"
      ],
      "text/plain": [
       "Pipeline(steps=[('standard_scaler', StandardScaler()),\n",
       "                ('pca', PCA(n_components=3)), ('svc', SVC())])"
      ]
     },
     "execution_count": 23,
     "metadata": {},
     "output_type": "execute_result"
    }
   ],
   "source": [
    "pipe"
   ]
  },
  {
   "cell_type": "code",
   "execution_count": 27,
   "metadata": {},
   "outputs": [],
   "source": [
    "# pipe['standard_scaler'].fit_transform(X_train)   # In case, if we want to check if a particular pipeline is working correctly\n",
    "                                                # we need to use the key to access it"
   ]
  },
  {
   "cell_type": "code",
   "execution_count": 28,
   "metadata": {},
   "outputs": [
    {
     "data": {
      "text/html": [
       "<style>#sk-249f5e52-ef93-48a3-be53-ae00ed071115 {color: black;background-color: white;}#sk-249f5e52-ef93-48a3-be53-ae00ed071115 pre{padding: 0;}#sk-249f5e52-ef93-48a3-be53-ae00ed071115 div.sk-toggleable {background-color: white;}#sk-249f5e52-ef93-48a3-be53-ae00ed071115 label.sk-toggleable__label {cursor: pointer;display: block;width: 100%;margin-bottom: 0;padding: 0.2em 0.3em;box-sizing: border-box;text-align: center;}#sk-249f5e52-ef93-48a3-be53-ae00ed071115 div.sk-toggleable__content {max-height: 0;max-width: 0;overflow: hidden;text-align: left;background-color: #f0f8ff;}#sk-249f5e52-ef93-48a3-be53-ae00ed071115 div.sk-toggleable__content pre {margin: 0.2em;color: black;border-radius: 0.25em;background-color: #f0f8ff;}#sk-249f5e52-ef93-48a3-be53-ae00ed071115 input.sk-toggleable__control:checked~div.sk-toggleable__content {max-height: 200px;max-width: 100%;overflow: auto;}#sk-249f5e52-ef93-48a3-be53-ae00ed071115 div.sk-estimator input.sk-toggleable__control:checked~label.sk-toggleable__label {background-color: #d4ebff;}#sk-249f5e52-ef93-48a3-be53-ae00ed071115 div.sk-label input.sk-toggleable__control:checked~label.sk-toggleable__label {background-color: #d4ebff;}#sk-249f5e52-ef93-48a3-be53-ae00ed071115 input.sk-hidden--visually {border: 0;clip: rect(1px 1px 1px 1px);clip: rect(1px, 1px, 1px, 1px);height: 1px;margin: -1px;overflow: hidden;padding: 0;position: absolute;width: 1px;}#sk-249f5e52-ef93-48a3-be53-ae00ed071115 div.sk-estimator {font-family: monospace;background-color: #f0f8ff;margin: 0.25em 0.25em;border: 1px dotted black;border-radius: 0.25em;box-sizing: border-box;}#sk-249f5e52-ef93-48a3-be53-ae00ed071115 div.sk-estimator:hover {background-color: #d4ebff;}#sk-249f5e52-ef93-48a3-be53-ae00ed071115 div.sk-parallel-item::after {content: \"\";width: 100%;border-bottom: 1px solid gray;flex-grow: 1;}#sk-249f5e52-ef93-48a3-be53-ae00ed071115 div.sk-label:hover label.sk-toggleable__label {background-color: #d4ebff;}#sk-249f5e52-ef93-48a3-be53-ae00ed071115 div.sk-serial::before {content: \"\";position: absolute;border-left: 1px solid gray;box-sizing: border-box;top: 2em;bottom: 0;left: 50%;}#sk-249f5e52-ef93-48a3-be53-ae00ed071115 div.sk-serial {display: flex;flex-direction: column;align-items: center;background-color: white;}#sk-249f5e52-ef93-48a3-be53-ae00ed071115 div.sk-item {z-index: 1;}#sk-249f5e52-ef93-48a3-be53-ae00ed071115 div.sk-parallel {display: flex;align-items: stretch;justify-content: center;background-color: white;}#sk-249f5e52-ef93-48a3-be53-ae00ed071115 div.sk-parallel-item {display: flex;flex-direction: column;position: relative;background-color: white;}#sk-249f5e52-ef93-48a3-be53-ae00ed071115 div.sk-parallel-item:first-child::after {align-self: flex-end;width: 50%;}#sk-249f5e52-ef93-48a3-be53-ae00ed071115 div.sk-parallel-item:last-child::after {align-self: flex-start;width: 50%;}#sk-249f5e52-ef93-48a3-be53-ae00ed071115 div.sk-parallel-item:only-child::after {width: 0;}#sk-249f5e52-ef93-48a3-be53-ae00ed071115 div.sk-dashed-wrapped {border: 1px dashed gray;margin: 0.2em;box-sizing: border-box;padding-bottom: 0.1em;background-color: white;position: relative;}#sk-249f5e52-ef93-48a3-be53-ae00ed071115 div.sk-label label {font-family: monospace;font-weight: bold;background-color: white;display: inline-block;line-height: 1.2em;}#sk-249f5e52-ef93-48a3-be53-ae00ed071115 div.sk-label-container {position: relative;z-index: 2;text-align: center;}#sk-249f5e52-ef93-48a3-be53-ae00ed071115 div.sk-container {display: inline-block;position: relative;}</style><div id=\"sk-249f5e52-ef93-48a3-be53-ae00ed071115\" class\"sk-top-container\"><div class=\"sk-container\"><div class=\"sk-item sk-dashed-wrapped\"><div class=\"sk-label-container\"><div class=\"sk-label sk-toggleable\"><input class=\"sk-toggleable__control sk-hidden--visually\" id=\"47e1965e-ca3b-4208-9da3-f7e5761fd40c\" type=\"checkbox\" ><label class=\"sk-toggleable__label\" for=\"47e1965e-ca3b-4208-9da3-f7e5761fd40c\">Pipeline</label><div class=\"sk-toggleable__content\"><pre>Pipeline(steps=[('standard_scaler', StandardScaler()),\n",
       "                ('pca', PCA(n_components=3)), ('svc', SVC())])</pre></div></div></div><div class=\"sk-serial\"><div class=\"sk-item\"><div class=\"sk-estimator sk-toggleable\"><input class=\"sk-toggleable__control sk-hidden--visually\" id=\"7effc4d7-fbde-417d-bfaf-c0b530d80bb4\" type=\"checkbox\" ><label class=\"sk-toggleable__label\" for=\"7effc4d7-fbde-417d-bfaf-c0b530d80bb4\">StandardScaler</label><div class=\"sk-toggleable__content\"><pre>StandardScaler()</pre></div></div></div><div class=\"sk-item\"><div class=\"sk-estimator sk-toggleable\"><input class=\"sk-toggleable__control sk-hidden--visually\" id=\"f3adf082-ed0b-4beb-b80c-d1ce7d2c83e1\" type=\"checkbox\" ><label class=\"sk-toggleable__label\" for=\"f3adf082-ed0b-4beb-b80c-d1ce7d2c83e1\">PCA</label><div class=\"sk-toggleable__content\"><pre>PCA(n_components=3)</pre></div></div></div><div class=\"sk-item\"><div class=\"sk-estimator sk-toggleable\"><input class=\"sk-toggleable__control sk-hidden--visually\" id=\"f72c81a5-34ec-45fe-8ee6-71132c6490ea\" type=\"checkbox\" ><label class=\"sk-toggleable__label\" for=\"f72c81a5-34ec-45fe-8ee6-71132c6490ea\">SVC</label><div class=\"sk-toggleable__content\"><pre>SVC()</pre></div></div></div></div></div></div></div>"
      ],
      "text/plain": [
       "Pipeline(steps=[('standard_scaler', StandardScaler()),\n",
       "                ('pca', PCA(n_components=3)), ('svc', SVC())])"
      ]
     },
     "execution_count": 28,
     "metadata": {},
     "output_type": "execute_result"
    }
   ],
   "source": [
    "pipe.fit(X_train, y_train)"
   ]
  },
  {
   "cell_type": "code",
   "execution_count": 29,
   "metadata": {},
   "outputs": [
    {
     "data": {
      "text/plain": [
       "array([1, 0, 0, 1, 1, 0, 0, 1, 1, 0, 0, 1, 0, 1, 0, 1, 0, 0, 1, 0, 1, 1,\n",
       "       0, 0, 0, 0, 1, 0, 0, 0, 0, 0, 1, 1, 1, 1, 0, 1, 0, 0, 0, 1, 0, 0,\n",
       "       0, 1, 0, 0, 0, 1, 0, 0, 0, 0, 0, 0, 1, 1, 0, 0, 0, 0, 0, 0, 0, 1,\n",
       "       0, 0, 1, 1, 1, 1, 0, 1, 0, 0, 1, 0, 0, 1, 0, 1, 0, 0, 0, 0, 0, 0,\n",
       "       0, 0, 0, 0, 0, 0, 1, 0, 1, 0, 0, 0, 0, 0, 1, 0, 0, 0, 1, 1, 0, 0,\n",
       "       1, 0, 1, 1, 0, 1, 1, 1, 0, 1, 1, 0, 0, 1, 1, 0, 0, 0, 1, 0, 0, 0,\n",
       "       0, 0, 1, 0, 1, 0, 0, 0, 0, 0, 1, 0, 1, 1, 1, 0, 0, 0, 1, 0, 0, 0,\n",
       "       0, 1, 0, 1, 1, 0, 0, 1, 1, 0, 0, 1, 1, 1, 0, 0, 1, 1, 0, 0, 1, 0,\n",
       "       1, 0, 1, 0, 1, 0, 0, 0, 1, 1, 0, 0, 0, 0, 0, 1, 0, 1, 1, 1, 0, 0,\n",
       "       0, 1, 0, 0, 0, 1, 1, 0, 0, 0, 0, 0, 0, 0, 0, 0, 1, 1, 0, 0, 1, 0,\n",
       "       1, 1, 0, 0, 1, 1, 1, 1, 1, 1, 1, 1, 0, 0, 1, 0, 1, 1, 0, 1, 0, 0,\n",
       "       1, 1, 0, 1, 0, 1, 0, 0, 0, 1, 1, 1, 0, 1, 0, 1, 0, 0, 1, 0, 1, 0,\n",
       "       1, 0, 0, 0, 1, 0, 1, 1, 0, 0, 0, 1, 0, 0, 1, 0, 1, 0, 0, 1, 1, 1,\n",
       "       1, 0, 1, 1, 1, 1, 1, 0, 0, 0, 0, 1, 0, 1])"
      ]
     },
     "execution_count": 29,
     "metadata": {},
     "output_type": "execute_result"
    }
   ],
   "source": [
    "pipe.predict(X_test)"
   ]
  },
  {
   "cell_type": "markdown",
   "metadata": {},
   "source": [
    "Now we are going to see a new example of column transformer."
   ]
  },
  {
   "cell_type": "code",
   "execution_count": 30,
   "metadata": {},
   "outputs": [],
   "source": [
    "from sklearn.impute import SimpleImputer  # numerical variable imputing\n",
    "import numpy as np"
   ]
  },
  {
   "cell_type": "code",
   "execution_count": 34,
   "metadata": {},
   "outputs": [],
   "source": [
    "numeric_processor = Pipeline(steps = [(\"imputation_mean\", SimpleImputer(missing_values=np.nan, strategy=\"mean\")),\n",
    "                    (\"standard_scaler\", StandardScaler())])\n",
    "\n",
    "                    # this pipeline is created for creating numerical data processing"
   ]
  },
  {
   "cell_type": "code",
   "execution_count": 35,
   "metadata": {},
   "outputs": [
    {
     "data": {
      "text/html": [
       "<style>#sk-d41ae919-42c9-47b5-b358-c7d3d084d11f {color: black;background-color: white;}#sk-d41ae919-42c9-47b5-b358-c7d3d084d11f pre{padding: 0;}#sk-d41ae919-42c9-47b5-b358-c7d3d084d11f div.sk-toggleable {background-color: white;}#sk-d41ae919-42c9-47b5-b358-c7d3d084d11f label.sk-toggleable__label {cursor: pointer;display: block;width: 100%;margin-bottom: 0;padding: 0.2em 0.3em;box-sizing: border-box;text-align: center;}#sk-d41ae919-42c9-47b5-b358-c7d3d084d11f div.sk-toggleable__content {max-height: 0;max-width: 0;overflow: hidden;text-align: left;background-color: #f0f8ff;}#sk-d41ae919-42c9-47b5-b358-c7d3d084d11f div.sk-toggleable__content pre {margin: 0.2em;color: black;border-radius: 0.25em;background-color: #f0f8ff;}#sk-d41ae919-42c9-47b5-b358-c7d3d084d11f input.sk-toggleable__control:checked~div.sk-toggleable__content {max-height: 200px;max-width: 100%;overflow: auto;}#sk-d41ae919-42c9-47b5-b358-c7d3d084d11f div.sk-estimator input.sk-toggleable__control:checked~label.sk-toggleable__label {background-color: #d4ebff;}#sk-d41ae919-42c9-47b5-b358-c7d3d084d11f div.sk-label input.sk-toggleable__control:checked~label.sk-toggleable__label {background-color: #d4ebff;}#sk-d41ae919-42c9-47b5-b358-c7d3d084d11f input.sk-hidden--visually {border: 0;clip: rect(1px 1px 1px 1px);clip: rect(1px, 1px, 1px, 1px);height: 1px;margin: -1px;overflow: hidden;padding: 0;position: absolute;width: 1px;}#sk-d41ae919-42c9-47b5-b358-c7d3d084d11f div.sk-estimator {font-family: monospace;background-color: #f0f8ff;margin: 0.25em 0.25em;border: 1px dotted black;border-radius: 0.25em;box-sizing: border-box;}#sk-d41ae919-42c9-47b5-b358-c7d3d084d11f div.sk-estimator:hover {background-color: #d4ebff;}#sk-d41ae919-42c9-47b5-b358-c7d3d084d11f div.sk-parallel-item::after {content: \"\";width: 100%;border-bottom: 1px solid gray;flex-grow: 1;}#sk-d41ae919-42c9-47b5-b358-c7d3d084d11f div.sk-label:hover label.sk-toggleable__label {background-color: #d4ebff;}#sk-d41ae919-42c9-47b5-b358-c7d3d084d11f div.sk-serial::before {content: \"\";position: absolute;border-left: 1px solid gray;box-sizing: border-box;top: 2em;bottom: 0;left: 50%;}#sk-d41ae919-42c9-47b5-b358-c7d3d084d11f div.sk-serial {display: flex;flex-direction: column;align-items: center;background-color: white;}#sk-d41ae919-42c9-47b5-b358-c7d3d084d11f div.sk-item {z-index: 1;}#sk-d41ae919-42c9-47b5-b358-c7d3d084d11f div.sk-parallel {display: flex;align-items: stretch;justify-content: center;background-color: white;}#sk-d41ae919-42c9-47b5-b358-c7d3d084d11f div.sk-parallel-item {display: flex;flex-direction: column;position: relative;background-color: white;}#sk-d41ae919-42c9-47b5-b358-c7d3d084d11f div.sk-parallel-item:first-child::after {align-self: flex-end;width: 50%;}#sk-d41ae919-42c9-47b5-b358-c7d3d084d11f div.sk-parallel-item:last-child::after {align-self: flex-start;width: 50%;}#sk-d41ae919-42c9-47b5-b358-c7d3d084d11f div.sk-parallel-item:only-child::after {width: 0;}#sk-d41ae919-42c9-47b5-b358-c7d3d084d11f div.sk-dashed-wrapped {border: 1px dashed gray;margin: 0.2em;box-sizing: border-box;padding-bottom: 0.1em;background-color: white;position: relative;}#sk-d41ae919-42c9-47b5-b358-c7d3d084d11f div.sk-label label {font-family: monospace;font-weight: bold;background-color: white;display: inline-block;line-height: 1.2em;}#sk-d41ae919-42c9-47b5-b358-c7d3d084d11f div.sk-label-container {position: relative;z-index: 2;text-align: center;}#sk-d41ae919-42c9-47b5-b358-c7d3d084d11f div.sk-container {display: inline-block;position: relative;}</style><div id=\"sk-d41ae919-42c9-47b5-b358-c7d3d084d11f\" class\"sk-top-container\"><div class=\"sk-container\"><div class=\"sk-item sk-dashed-wrapped\"><div class=\"sk-label-container\"><div class=\"sk-label sk-toggleable\"><input class=\"sk-toggleable__control sk-hidden--visually\" id=\"5084dc36-5b5b-4d0f-a177-2d14007c521b\" type=\"checkbox\" ><label class=\"sk-toggleable__label\" for=\"5084dc36-5b5b-4d0f-a177-2d14007c521b\">Pipeline</label><div class=\"sk-toggleable__content\"><pre>Pipeline(steps=[('imputation_mean', SimpleImputer()),\n",
       "                ('standard_scaler', StandardScaler())])</pre></div></div></div><div class=\"sk-serial\"><div class=\"sk-item\"><div class=\"sk-estimator sk-toggleable\"><input class=\"sk-toggleable__control sk-hidden--visually\" id=\"3288e280-e762-4f34-b208-3b8ce1b8489e\" type=\"checkbox\" ><label class=\"sk-toggleable__label\" for=\"3288e280-e762-4f34-b208-3b8ce1b8489e\">SimpleImputer</label><div class=\"sk-toggleable__content\"><pre>SimpleImputer()</pre></div></div></div><div class=\"sk-item\"><div class=\"sk-estimator sk-toggleable\"><input class=\"sk-toggleable__control sk-hidden--visually\" id=\"3eaf9620-d1b2-4514-b74e-563792389350\" type=\"checkbox\" ><label class=\"sk-toggleable__label\" for=\"3eaf9620-d1b2-4514-b74e-563792389350\">StandardScaler</label><div class=\"sk-toggleable__content\"><pre>StandardScaler()</pre></div></div></div></div></div></div></div>"
      ],
      "text/plain": [
       "Pipeline(steps=[('imputation_mean', SimpleImputer()),\n",
       "                ('standard_scaler', StandardScaler())])"
      ]
     },
     "execution_count": 35,
     "metadata": {},
     "output_type": "execute_result"
    }
   ],
   "source": [
    "numeric_processor"
   ]
  },
  {
   "cell_type": "code",
   "execution_count": 37,
   "metadata": {},
   "outputs": [],
   "source": [
    "from sklearn.preprocessing import OneHotEncoder\n",
    "\n",
    "categorical_processor = Pipeline(steps = [(\"imputation_constant\", SimpleImputer(fill_value= \"missing\", strategy=\"constant\")),\n",
    "                        (\"onehot\", OneHotEncoder(handle_unknown = \"ignore\"))])"
   ]
  },
  {
   "cell_type": "code",
   "execution_count": 38,
   "metadata": {},
   "outputs": [
    {
     "data": {
      "text/html": [
       "<style>#sk-2449dc14-b7b3-4d81-9dfc-b724f3fc2dc4 {color: black;background-color: white;}#sk-2449dc14-b7b3-4d81-9dfc-b724f3fc2dc4 pre{padding: 0;}#sk-2449dc14-b7b3-4d81-9dfc-b724f3fc2dc4 div.sk-toggleable {background-color: white;}#sk-2449dc14-b7b3-4d81-9dfc-b724f3fc2dc4 label.sk-toggleable__label {cursor: pointer;display: block;width: 100%;margin-bottom: 0;padding: 0.2em 0.3em;box-sizing: border-box;text-align: center;}#sk-2449dc14-b7b3-4d81-9dfc-b724f3fc2dc4 div.sk-toggleable__content {max-height: 0;max-width: 0;overflow: hidden;text-align: left;background-color: #f0f8ff;}#sk-2449dc14-b7b3-4d81-9dfc-b724f3fc2dc4 div.sk-toggleable__content pre {margin: 0.2em;color: black;border-radius: 0.25em;background-color: #f0f8ff;}#sk-2449dc14-b7b3-4d81-9dfc-b724f3fc2dc4 input.sk-toggleable__control:checked~div.sk-toggleable__content {max-height: 200px;max-width: 100%;overflow: auto;}#sk-2449dc14-b7b3-4d81-9dfc-b724f3fc2dc4 div.sk-estimator input.sk-toggleable__control:checked~label.sk-toggleable__label {background-color: #d4ebff;}#sk-2449dc14-b7b3-4d81-9dfc-b724f3fc2dc4 div.sk-label input.sk-toggleable__control:checked~label.sk-toggleable__label {background-color: #d4ebff;}#sk-2449dc14-b7b3-4d81-9dfc-b724f3fc2dc4 input.sk-hidden--visually {border: 0;clip: rect(1px 1px 1px 1px);clip: rect(1px, 1px, 1px, 1px);height: 1px;margin: -1px;overflow: hidden;padding: 0;position: absolute;width: 1px;}#sk-2449dc14-b7b3-4d81-9dfc-b724f3fc2dc4 div.sk-estimator {font-family: monospace;background-color: #f0f8ff;margin: 0.25em 0.25em;border: 1px dotted black;border-radius: 0.25em;box-sizing: border-box;}#sk-2449dc14-b7b3-4d81-9dfc-b724f3fc2dc4 div.sk-estimator:hover {background-color: #d4ebff;}#sk-2449dc14-b7b3-4d81-9dfc-b724f3fc2dc4 div.sk-parallel-item::after {content: \"\";width: 100%;border-bottom: 1px solid gray;flex-grow: 1;}#sk-2449dc14-b7b3-4d81-9dfc-b724f3fc2dc4 div.sk-label:hover label.sk-toggleable__label {background-color: #d4ebff;}#sk-2449dc14-b7b3-4d81-9dfc-b724f3fc2dc4 div.sk-serial::before {content: \"\";position: absolute;border-left: 1px solid gray;box-sizing: border-box;top: 2em;bottom: 0;left: 50%;}#sk-2449dc14-b7b3-4d81-9dfc-b724f3fc2dc4 div.sk-serial {display: flex;flex-direction: column;align-items: center;background-color: white;}#sk-2449dc14-b7b3-4d81-9dfc-b724f3fc2dc4 div.sk-item {z-index: 1;}#sk-2449dc14-b7b3-4d81-9dfc-b724f3fc2dc4 div.sk-parallel {display: flex;align-items: stretch;justify-content: center;background-color: white;}#sk-2449dc14-b7b3-4d81-9dfc-b724f3fc2dc4 div.sk-parallel-item {display: flex;flex-direction: column;position: relative;background-color: white;}#sk-2449dc14-b7b3-4d81-9dfc-b724f3fc2dc4 div.sk-parallel-item:first-child::after {align-self: flex-end;width: 50%;}#sk-2449dc14-b7b3-4d81-9dfc-b724f3fc2dc4 div.sk-parallel-item:last-child::after {align-self: flex-start;width: 50%;}#sk-2449dc14-b7b3-4d81-9dfc-b724f3fc2dc4 div.sk-parallel-item:only-child::after {width: 0;}#sk-2449dc14-b7b3-4d81-9dfc-b724f3fc2dc4 div.sk-dashed-wrapped {border: 1px dashed gray;margin: 0.2em;box-sizing: border-box;padding-bottom: 0.1em;background-color: white;position: relative;}#sk-2449dc14-b7b3-4d81-9dfc-b724f3fc2dc4 div.sk-label label {font-family: monospace;font-weight: bold;background-color: white;display: inline-block;line-height: 1.2em;}#sk-2449dc14-b7b3-4d81-9dfc-b724f3fc2dc4 div.sk-label-container {position: relative;z-index: 2;text-align: center;}#sk-2449dc14-b7b3-4d81-9dfc-b724f3fc2dc4 div.sk-container {display: inline-block;position: relative;}</style><div id=\"sk-2449dc14-b7b3-4d81-9dfc-b724f3fc2dc4\" class\"sk-top-container\"><div class=\"sk-container\"><div class=\"sk-item sk-dashed-wrapped\"><div class=\"sk-label-container\"><div class=\"sk-label sk-toggleable\"><input class=\"sk-toggleable__control sk-hidden--visually\" id=\"25e22285-7c29-4b38-b803-854be8dccc29\" type=\"checkbox\" ><label class=\"sk-toggleable__label\" for=\"25e22285-7c29-4b38-b803-854be8dccc29\">Pipeline</label><div class=\"sk-toggleable__content\"><pre>Pipeline(steps=[('imputation_constant',\n",
       "                 SimpleImputer(fill_value='missing', strategy='constant')),\n",
       "                ('onehot', OneHotEncoder(handle_unknown='ignore'))])</pre></div></div></div><div class=\"sk-serial\"><div class=\"sk-item\"><div class=\"sk-estimator sk-toggleable\"><input class=\"sk-toggleable__control sk-hidden--visually\" id=\"760947ba-6b2b-4979-87b1-fda5c2a52c70\" type=\"checkbox\" ><label class=\"sk-toggleable__label\" for=\"760947ba-6b2b-4979-87b1-fda5c2a52c70\">SimpleImputer</label><div class=\"sk-toggleable__content\"><pre>SimpleImputer(fill_value='missing', strategy='constant')</pre></div></div></div><div class=\"sk-item\"><div class=\"sk-estimator sk-toggleable\"><input class=\"sk-toggleable__control sk-hidden--visually\" id=\"c5f18404-b087-417b-ba59-68f2c46bf722\" type=\"checkbox\" ><label class=\"sk-toggleable__label\" for=\"c5f18404-b087-417b-ba59-68f2c46bf722\">OneHotEncoder</label><div class=\"sk-toggleable__content\"><pre>OneHotEncoder(handle_unknown='ignore')</pre></div></div></div></div></div></div></div>"
      ],
      "text/plain": [
       "Pipeline(steps=[('imputation_constant',\n",
       "                 SimpleImputer(fill_value='missing', strategy='constant')),\n",
       "                ('onehot', OneHotEncoder(handle_unknown='ignore'))])"
      ]
     },
     "execution_count": 38,
     "metadata": {},
     "output_type": "execute_result"
    }
   ],
   "source": [
    "categorical_processor"
   ]
  },
  {
   "cell_type": "markdown",
   "metadata": {},
   "source": [
    "Now are going to combine both of these pipelines."
   ]
  },
  {
   "cell_type": "code",
   "execution_count": 39,
   "metadata": {},
   "outputs": [],
   "source": [
    "from sklearn.compose import ColumnTransformer\n",
    "\n",
    "preprocessor=ColumnTransformer(\n",
    "    [(\"categorical\",categorical_processor,[\"gender\",\"City\"]),\n",
    "    (\"numerical\",numeric_processor,[\"age\",\"height\"])])"
   ]
  },
  {
   "cell_type": "code",
   "execution_count": 40,
   "metadata": {},
   "outputs": [
    {
     "data": {
      "text/html": [
       "<style>#sk-90911875-1d2a-47a2-9827-8d992f58f663 {color: black;background-color: white;}#sk-90911875-1d2a-47a2-9827-8d992f58f663 pre{padding: 0;}#sk-90911875-1d2a-47a2-9827-8d992f58f663 div.sk-toggleable {background-color: white;}#sk-90911875-1d2a-47a2-9827-8d992f58f663 label.sk-toggleable__label {cursor: pointer;display: block;width: 100%;margin-bottom: 0;padding: 0.2em 0.3em;box-sizing: border-box;text-align: center;}#sk-90911875-1d2a-47a2-9827-8d992f58f663 div.sk-toggleable__content {max-height: 0;max-width: 0;overflow: hidden;text-align: left;background-color: #f0f8ff;}#sk-90911875-1d2a-47a2-9827-8d992f58f663 div.sk-toggleable__content pre {margin: 0.2em;color: black;border-radius: 0.25em;background-color: #f0f8ff;}#sk-90911875-1d2a-47a2-9827-8d992f58f663 input.sk-toggleable__control:checked~div.sk-toggleable__content {max-height: 200px;max-width: 100%;overflow: auto;}#sk-90911875-1d2a-47a2-9827-8d992f58f663 div.sk-estimator input.sk-toggleable__control:checked~label.sk-toggleable__label {background-color: #d4ebff;}#sk-90911875-1d2a-47a2-9827-8d992f58f663 div.sk-label input.sk-toggleable__control:checked~label.sk-toggleable__label {background-color: #d4ebff;}#sk-90911875-1d2a-47a2-9827-8d992f58f663 input.sk-hidden--visually {border: 0;clip: rect(1px 1px 1px 1px);clip: rect(1px, 1px, 1px, 1px);height: 1px;margin: -1px;overflow: hidden;padding: 0;position: absolute;width: 1px;}#sk-90911875-1d2a-47a2-9827-8d992f58f663 div.sk-estimator {font-family: monospace;background-color: #f0f8ff;margin: 0.25em 0.25em;border: 1px dotted black;border-radius: 0.25em;box-sizing: border-box;}#sk-90911875-1d2a-47a2-9827-8d992f58f663 div.sk-estimator:hover {background-color: #d4ebff;}#sk-90911875-1d2a-47a2-9827-8d992f58f663 div.sk-parallel-item::after {content: \"\";width: 100%;border-bottom: 1px solid gray;flex-grow: 1;}#sk-90911875-1d2a-47a2-9827-8d992f58f663 div.sk-label:hover label.sk-toggleable__label {background-color: #d4ebff;}#sk-90911875-1d2a-47a2-9827-8d992f58f663 div.sk-serial::before {content: \"\";position: absolute;border-left: 1px solid gray;box-sizing: border-box;top: 2em;bottom: 0;left: 50%;}#sk-90911875-1d2a-47a2-9827-8d992f58f663 div.sk-serial {display: flex;flex-direction: column;align-items: center;background-color: white;}#sk-90911875-1d2a-47a2-9827-8d992f58f663 div.sk-item {z-index: 1;}#sk-90911875-1d2a-47a2-9827-8d992f58f663 div.sk-parallel {display: flex;align-items: stretch;justify-content: center;background-color: white;}#sk-90911875-1d2a-47a2-9827-8d992f58f663 div.sk-parallel-item {display: flex;flex-direction: column;position: relative;background-color: white;}#sk-90911875-1d2a-47a2-9827-8d992f58f663 div.sk-parallel-item:first-child::after {align-self: flex-end;width: 50%;}#sk-90911875-1d2a-47a2-9827-8d992f58f663 div.sk-parallel-item:last-child::after {align-self: flex-start;width: 50%;}#sk-90911875-1d2a-47a2-9827-8d992f58f663 div.sk-parallel-item:only-child::after {width: 0;}#sk-90911875-1d2a-47a2-9827-8d992f58f663 div.sk-dashed-wrapped {border: 1px dashed gray;margin: 0.2em;box-sizing: border-box;padding-bottom: 0.1em;background-color: white;position: relative;}#sk-90911875-1d2a-47a2-9827-8d992f58f663 div.sk-label label {font-family: monospace;font-weight: bold;background-color: white;display: inline-block;line-height: 1.2em;}#sk-90911875-1d2a-47a2-9827-8d992f58f663 div.sk-label-container {position: relative;z-index: 2;text-align: center;}#sk-90911875-1d2a-47a2-9827-8d992f58f663 div.sk-container {display: inline-block;position: relative;}</style><div id=\"sk-90911875-1d2a-47a2-9827-8d992f58f663\" class\"sk-top-container\"><div class=\"sk-container\"><div class=\"sk-item sk-dashed-wrapped\"><div class=\"sk-label-container\"><div class=\"sk-label sk-toggleable\"><input class=\"sk-toggleable__control sk-hidden--visually\" id=\"9e28a078-743b-4d50-b5d7-3ed81e5580fc\" type=\"checkbox\" ><label class=\"sk-toggleable__label\" for=\"9e28a078-743b-4d50-b5d7-3ed81e5580fc\">ColumnTransformer</label><div class=\"sk-toggleable__content\"><pre>ColumnTransformer(transformers=[('categorical',\n",
       "                                 Pipeline(steps=[('imputation_constant',\n",
       "                                                  SimpleImputer(fill_value='missing',\n",
       "                                                                strategy='constant')),\n",
       "                                                 ('onehot',\n",
       "                                                  OneHotEncoder(handle_unknown='ignore'))]),\n",
       "                                 ['gender', 'City']),\n",
       "                                ('numerical',\n",
       "                                 Pipeline(steps=[('imputation_mean',\n",
       "                                                  SimpleImputer()),\n",
       "                                                 ('standard_scaler',\n",
       "                                                  StandardScaler())]),\n",
       "                                 ['age', 'height'])])</pre></div></div></div><div class=\"sk-parallel\"><div class=\"sk-parallel-item\"><div class=\"sk-item\"><div class=\"sk-label-container\"><div class=\"sk-label sk-toggleable\"><input class=\"sk-toggleable__control sk-hidden--visually\" id=\"3edbd696-0d29-4593-85d8-9e5bc8d5263c\" type=\"checkbox\" ><label class=\"sk-toggleable__label\" for=\"3edbd696-0d29-4593-85d8-9e5bc8d5263c\">categorical</label><div class=\"sk-toggleable__content\"><pre>['gender', 'City']</pre></div></div></div><div class=\"sk-serial\"><div class=\"sk-item\"><div class=\"sk-serial\"><div class=\"sk-item\"><div class=\"sk-estimator sk-toggleable\"><input class=\"sk-toggleable__control sk-hidden--visually\" id=\"2c218370-f12c-40ba-b448-55a8680152e8\" type=\"checkbox\" ><label class=\"sk-toggleable__label\" for=\"2c218370-f12c-40ba-b448-55a8680152e8\">SimpleImputer</label><div class=\"sk-toggleable__content\"><pre>SimpleImputer(fill_value='missing', strategy='constant')</pre></div></div></div><div class=\"sk-item\"><div class=\"sk-estimator sk-toggleable\"><input class=\"sk-toggleable__control sk-hidden--visually\" id=\"3ff2a75e-9134-445b-802d-720d909ef55b\" type=\"checkbox\" ><label class=\"sk-toggleable__label\" for=\"3ff2a75e-9134-445b-802d-720d909ef55b\">OneHotEncoder</label><div class=\"sk-toggleable__content\"><pre>OneHotEncoder(handle_unknown='ignore')</pre></div></div></div></div></div></div></div></div><div class=\"sk-parallel-item\"><div class=\"sk-item\"><div class=\"sk-label-container\"><div class=\"sk-label sk-toggleable\"><input class=\"sk-toggleable__control sk-hidden--visually\" id=\"50418427-9823-4ee8-9ddb-fd8f59d36df8\" type=\"checkbox\" ><label class=\"sk-toggleable__label\" for=\"50418427-9823-4ee8-9ddb-fd8f59d36df8\">numerical</label><div class=\"sk-toggleable__content\"><pre>['age', 'height']</pre></div></div></div><div class=\"sk-serial\"><div class=\"sk-item\"><div class=\"sk-serial\"><div class=\"sk-item\"><div class=\"sk-estimator sk-toggleable\"><input class=\"sk-toggleable__control sk-hidden--visually\" id=\"d9db0eb9-86b8-4a89-9df4-e6c3ae62e0fe\" type=\"checkbox\" ><label class=\"sk-toggleable__label\" for=\"d9db0eb9-86b8-4a89-9df4-e6c3ae62e0fe\">SimpleImputer</label><div class=\"sk-toggleable__content\"><pre>SimpleImputer()</pre></div></div></div><div class=\"sk-item\"><div class=\"sk-estimator sk-toggleable\"><input class=\"sk-toggleable__control sk-hidden--visually\" id=\"c3b72ee8-dc69-446e-b346-03af941208df\" type=\"checkbox\" ><label class=\"sk-toggleable__label\" for=\"c3b72ee8-dc69-446e-b346-03af941208df\">StandardScaler</label><div class=\"sk-toggleable__content\"><pre>StandardScaler()</pre></div></div></div></div></div></div></div></div></div></div></div></div>"
      ],
      "text/plain": [
       "ColumnTransformer(transformers=[('categorical',\n",
       "                                 Pipeline(steps=[('imputation_constant',\n",
       "                                                  SimpleImputer(fill_value='missing',\n",
       "                                                                strategy='constant')),\n",
       "                                                 ('onehot',\n",
       "                                                  OneHotEncoder(handle_unknown='ignore'))]),\n",
       "                                 ['gender', 'City']),\n",
       "                                ('numerical',\n",
       "                                 Pipeline(steps=[('imputation_mean',\n",
       "                                                  SimpleImputer()),\n",
       "                                                 ('standard_scaler',\n",
       "                                                  StandardScaler())]),\n",
       "                                 ['age', 'height'])])"
      ]
     },
     "execution_count": 40,
     "metadata": {},
     "output_type": "execute_result"
    }
   ],
   "source": [
    "preprocessor"
   ]
  },
  {
   "cell_type": "markdown",
   "metadata": {},
   "source": [
    "**Making final pipeline**"
   ]
  },
  {
   "cell_type": "code",
   "execution_count": 41,
   "metadata": {},
   "outputs": [],
   "source": [
    "from sklearn.pipeline import make_pipeline\n",
    "\n",
    "pipe = make_pipeline(preprocessor, LogisticRegression())"
   ]
  },
  {
   "cell_type": "code",
   "execution_count": 42,
   "metadata": {},
   "outputs": [
    {
     "data": {
      "text/html": [
       "<style>#sk-31d3eb0d-1bed-4926-a34d-684e85ea1b53 {color: black;background-color: white;}#sk-31d3eb0d-1bed-4926-a34d-684e85ea1b53 pre{padding: 0;}#sk-31d3eb0d-1bed-4926-a34d-684e85ea1b53 div.sk-toggleable {background-color: white;}#sk-31d3eb0d-1bed-4926-a34d-684e85ea1b53 label.sk-toggleable__label {cursor: pointer;display: block;width: 100%;margin-bottom: 0;padding: 0.2em 0.3em;box-sizing: border-box;text-align: center;}#sk-31d3eb0d-1bed-4926-a34d-684e85ea1b53 div.sk-toggleable__content {max-height: 0;max-width: 0;overflow: hidden;text-align: left;background-color: #f0f8ff;}#sk-31d3eb0d-1bed-4926-a34d-684e85ea1b53 div.sk-toggleable__content pre {margin: 0.2em;color: black;border-radius: 0.25em;background-color: #f0f8ff;}#sk-31d3eb0d-1bed-4926-a34d-684e85ea1b53 input.sk-toggleable__control:checked~div.sk-toggleable__content {max-height: 200px;max-width: 100%;overflow: auto;}#sk-31d3eb0d-1bed-4926-a34d-684e85ea1b53 div.sk-estimator input.sk-toggleable__control:checked~label.sk-toggleable__label {background-color: #d4ebff;}#sk-31d3eb0d-1bed-4926-a34d-684e85ea1b53 div.sk-label input.sk-toggleable__control:checked~label.sk-toggleable__label {background-color: #d4ebff;}#sk-31d3eb0d-1bed-4926-a34d-684e85ea1b53 input.sk-hidden--visually {border: 0;clip: rect(1px 1px 1px 1px);clip: rect(1px, 1px, 1px, 1px);height: 1px;margin: -1px;overflow: hidden;padding: 0;position: absolute;width: 1px;}#sk-31d3eb0d-1bed-4926-a34d-684e85ea1b53 div.sk-estimator {font-family: monospace;background-color: #f0f8ff;margin: 0.25em 0.25em;border: 1px dotted black;border-radius: 0.25em;box-sizing: border-box;}#sk-31d3eb0d-1bed-4926-a34d-684e85ea1b53 div.sk-estimator:hover {background-color: #d4ebff;}#sk-31d3eb0d-1bed-4926-a34d-684e85ea1b53 div.sk-parallel-item::after {content: \"\";width: 100%;border-bottom: 1px solid gray;flex-grow: 1;}#sk-31d3eb0d-1bed-4926-a34d-684e85ea1b53 div.sk-label:hover label.sk-toggleable__label {background-color: #d4ebff;}#sk-31d3eb0d-1bed-4926-a34d-684e85ea1b53 div.sk-serial::before {content: \"\";position: absolute;border-left: 1px solid gray;box-sizing: border-box;top: 2em;bottom: 0;left: 50%;}#sk-31d3eb0d-1bed-4926-a34d-684e85ea1b53 div.sk-serial {display: flex;flex-direction: column;align-items: center;background-color: white;}#sk-31d3eb0d-1bed-4926-a34d-684e85ea1b53 div.sk-item {z-index: 1;}#sk-31d3eb0d-1bed-4926-a34d-684e85ea1b53 div.sk-parallel {display: flex;align-items: stretch;justify-content: center;background-color: white;}#sk-31d3eb0d-1bed-4926-a34d-684e85ea1b53 div.sk-parallel-item {display: flex;flex-direction: column;position: relative;background-color: white;}#sk-31d3eb0d-1bed-4926-a34d-684e85ea1b53 div.sk-parallel-item:first-child::after {align-self: flex-end;width: 50%;}#sk-31d3eb0d-1bed-4926-a34d-684e85ea1b53 div.sk-parallel-item:last-child::after {align-self: flex-start;width: 50%;}#sk-31d3eb0d-1bed-4926-a34d-684e85ea1b53 div.sk-parallel-item:only-child::after {width: 0;}#sk-31d3eb0d-1bed-4926-a34d-684e85ea1b53 div.sk-dashed-wrapped {border: 1px dashed gray;margin: 0.2em;box-sizing: border-box;padding-bottom: 0.1em;background-color: white;position: relative;}#sk-31d3eb0d-1bed-4926-a34d-684e85ea1b53 div.sk-label label {font-family: monospace;font-weight: bold;background-color: white;display: inline-block;line-height: 1.2em;}#sk-31d3eb0d-1bed-4926-a34d-684e85ea1b53 div.sk-label-container {position: relative;z-index: 2;text-align: center;}#sk-31d3eb0d-1bed-4926-a34d-684e85ea1b53 div.sk-container {display: inline-block;position: relative;}</style><div id=\"sk-31d3eb0d-1bed-4926-a34d-684e85ea1b53\" class\"sk-top-container\"><div class=\"sk-container\"><div class=\"sk-item sk-dashed-wrapped\"><div class=\"sk-label-container\"><div class=\"sk-label sk-toggleable\"><input class=\"sk-toggleable__control sk-hidden--visually\" id=\"24686799-1a42-4faf-8b94-1e31983552fc\" type=\"checkbox\" ><label class=\"sk-toggleable__label\" for=\"24686799-1a42-4faf-8b94-1e31983552fc\">Pipeline</label><div class=\"sk-toggleable__content\"><pre>Pipeline(steps=[('columntransformer',\n",
       "                 ColumnTransformer(transformers=[('categorical',\n",
       "                                                  Pipeline(steps=[('imputation_constant',\n",
       "                                                                   SimpleImputer(fill_value='missing',\n",
       "                                                                                 strategy='constant')),\n",
       "                                                                  ('onehot',\n",
       "                                                                   OneHotEncoder(handle_unknown='ignore'))]),\n",
       "                                                  ['gender', 'City']),\n",
       "                                                 ('numerical',\n",
       "                                                  Pipeline(steps=[('imputation_mean',\n",
       "                                                                   SimpleImputer()),\n",
       "                                                                  ('standard_scaler',\n",
       "                                                                   StandardScaler())]),\n",
       "                                                  ['age', 'height'])])),\n",
       "                ('logisticregression', LogisticRegression())])</pre></div></div></div><div class=\"sk-serial\"><div class=\"sk-item sk-dashed-wrapped\"><div class=\"sk-label-container\"><div class=\"sk-label sk-toggleable\"><input class=\"sk-toggleable__control sk-hidden--visually\" id=\"94354227-00c9-4d8f-ab5f-56ab5088d020\" type=\"checkbox\" ><label class=\"sk-toggleable__label\" for=\"94354227-00c9-4d8f-ab5f-56ab5088d020\">columntransformer: ColumnTransformer</label><div class=\"sk-toggleable__content\"><pre>ColumnTransformer(transformers=[('categorical',\n",
       "                                 Pipeline(steps=[('imputation_constant',\n",
       "                                                  SimpleImputer(fill_value='missing',\n",
       "                                                                strategy='constant')),\n",
       "                                                 ('onehot',\n",
       "                                                  OneHotEncoder(handle_unknown='ignore'))]),\n",
       "                                 ['gender', 'City']),\n",
       "                                ('numerical',\n",
       "                                 Pipeline(steps=[('imputation_mean',\n",
       "                                                  SimpleImputer()),\n",
       "                                                 ('standard_scaler',\n",
       "                                                  StandardScaler())]),\n",
       "                                 ['age', 'height'])])</pre></div></div></div><div class=\"sk-parallel\"><div class=\"sk-parallel-item\"><div class=\"sk-item\"><div class=\"sk-label-container\"><div class=\"sk-label sk-toggleable\"><input class=\"sk-toggleable__control sk-hidden--visually\" id=\"cbf628cf-734a-43f6-885b-05b6efed70f3\" type=\"checkbox\" ><label class=\"sk-toggleable__label\" for=\"cbf628cf-734a-43f6-885b-05b6efed70f3\">categorical</label><div class=\"sk-toggleable__content\"><pre>['gender', 'City']</pre></div></div></div><div class=\"sk-serial\"><div class=\"sk-item\"><div class=\"sk-serial\"><div class=\"sk-item\"><div class=\"sk-estimator sk-toggleable\"><input class=\"sk-toggleable__control sk-hidden--visually\" id=\"c002ded0-e26a-4673-a12e-ee87afb1b27f\" type=\"checkbox\" ><label class=\"sk-toggleable__label\" for=\"c002ded0-e26a-4673-a12e-ee87afb1b27f\">SimpleImputer</label><div class=\"sk-toggleable__content\"><pre>SimpleImputer(fill_value='missing', strategy='constant')</pre></div></div></div><div class=\"sk-item\"><div class=\"sk-estimator sk-toggleable\"><input class=\"sk-toggleable__control sk-hidden--visually\" id=\"1179ca52-95ac-4907-9f22-7816bfa8464d\" type=\"checkbox\" ><label class=\"sk-toggleable__label\" for=\"1179ca52-95ac-4907-9f22-7816bfa8464d\">OneHotEncoder</label><div class=\"sk-toggleable__content\"><pre>OneHotEncoder(handle_unknown='ignore')</pre></div></div></div></div></div></div></div></div><div class=\"sk-parallel-item\"><div class=\"sk-item\"><div class=\"sk-label-container\"><div class=\"sk-label sk-toggleable\"><input class=\"sk-toggleable__control sk-hidden--visually\" id=\"d78aa4ab-1d03-4150-a5dc-f2bed4d0c788\" type=\"checkbox\" ><label class=\"sk-toggleable__label\" for=\"d78aa4ab-1d03-4150-a5dc-f2bed4d0c788\">numerical</label><div class=\"sk-toggleable__content\"><pre>['age', 'height']</pre></div></div></div><div class=\"sk-serial\"><div class=\"sk-item\"><div class=\"sk-serial\"><div class=\"sk-item\"><div class=\"sk-estimator sk-toggleable\"><input class=\"sk-toggleable__control sk-hidden--visually\" id=\"567a3272-315e-4d59-b18e-a6be063626a2\" type=\"checkbox\" ><label class=\"sk-toggleable__label\" for=\"567a3272-315e-4d59-b18e-a6be063626a2\">SimpleImputer</label><div class=\"sk-toggleable__content\"><pre>SimpleImputer()</pre></div></div></div><div class=\"sk-item\"><div class=\"sk-estimator sk-toggleable\"><input class=\"sk-toggleable__control sk-hidden--visually\" id=\"b40cdb25-9ee7-4cb2-b464-cb09f0d8e9fa\" type=\"checkbox\" ><label class=\"sk-toggleable__label\" for=\"b40cdb25-9ee7-4cb2-b464-cb09f0d8e9fa\">StandardScaler</label><div class=\"sk-toggleable__content\"><pre>StandardScaler()</pre></div></div></div></div></div></div></div></div></div></div><div class=\"sk-item\"><div class=\"sk-estimator sk-toggleable\"><input class=\"sk-toggleable__control sk-hidden--visually\" id=\"d8334982-5734-4828-b8ea-c544864e5a70\" type=\"checkbox\" ><label class=\"sk-toggleable__label\" for=\"d8334982-5734-4828-b8ea-c544864e5a70\">LogisticRegression</label><div class=\"sk-toggleable__content\"><pre>LogisticRegression()</pre></div></div></div></div></div></div></div>"
      ],
      "text/plain": [
       "Pipeline(steps=[('columntransformer',\n",
       "                 ColumnTransformer(transformers=[('categorical',\n",
       "                                                  Pipeline(steps=[('imputation_constant',\n",
       "                                                                   SimpleImputer(fill_value='missing',\n",
       "                                                                                 strategy='constant')),\n",
       "                                                                  ('onehot',\n",
       "                                                                   OneHotEncoder(handle_unknown='ignore'))]),\n",
       "                                                  ['gender', 'City']),\n",
       "                                                 ('numerical',\n",
       "                                                  Pipeline(steps=[('imputation_mean',\n",
       "                                                                   SimpleImputer()),\n",
       "                                                                  ('standard_scaler',\n",
       "                                                                   StandardScaler())]),\n",
       "                                                  ['age', 'height'])])),\n",
       "                ('logisticregression', LogisticRegression())])"
      ]
     },
     "execution_count": 42,
     "metadata": {},
     "output_type": "execute_result"
    }
   ],
   "source": [
    "pipe"
   ]
  },
  {
   "cell_type": "code",
   "execution_count": 51,
   "metadata": {},
   "outputs": [
    {
     "data": {
      "text/html": [
       "<div>\n",
       "<style scoped>\n",
       "    .dataframe tbody tr th:only-of-type {\n",
       "        vertical-align: middle;\n",
       "    }\n",
       "\n",
       "    .dataframe tbody tr th {\n",
       "        vertical-align: top;\n",
       "    }\n",
       "\n",
       "    .dataframe thead th {\n",
       "        text-align: right;\n",
       "    }\n",
       "</style>\n",
       "<table border=\"1\" class=\"dataframe\">\n",
       "  <thead>\n",
       "    <tr style=\"text-align: right;\">\n",
       "      <th></th>\n",
       "      <th>gender</th>\n",
       "      <th>City</th>\n",
       "      <th>age</th>\n",
       "      <th>height</th>\n",
       "      <th>passed</th>\n",
       "    </tr>\n",
       "  </thead>\n",
       "  <tbody>\n",
       "    <tr>\n",
       "      <th>0</th>\n",
       "      <td>M</td>\n",
       "      <td>D</td>\n",
       "      <td>19</td>\n",
       "      <td>170</td>\n",
       "      <td>1</td>\n",
       "    </tr>\n",
       "    <tr>\n",
       "      <th>1</th>\n",
       "      <td>F</td>\n",
       "      <td>C</td>\n",
       "      <td>23</td>\n",
       "      <td>155</td>\n",
       "      <td>0</td>\n",
       "    </tr>\n",
       "    <tr>\n",
       "      <th>2</th>\n",
       "      <td>F</td>\n",
       "      <td>B</td>\n",
       "      <td>17</td>\n",
       "      <td>145</td>\n",
       "      <td>1</td>\n",
       "    </tr>\n",
       "    <tr>\n",
       "      <th>3</th>\n",
       "      <td>F</td>\n",
       "      <td>K</td>\n",
       "      <td>21</td>\n",
       "      <td>152</td>\n",
       "      <td>1</td>\n",
       "    </tr>\n",
       "    <tr>\n",
       "      <th>4</th>\n",
       "      <td>M</td>\n",
       "      <td>R</td>\n",
       "      <td>25</td>\n",
       "      <td>165</td>\n",
       "      <td>0</td>\n",
       "    </tr>\n",
       "  </tbody>\n",
       "</table>\n",
       "</div>"
      ],
      "text/plain": [
       "  gender City  age  height  passed\n",
       "0      M    D   19     170       1\n",
       "1      F    C   23     155       0\n",
       "2      F    B   17     145       1\n",
       "3      F    K   21     152       1\n",
       "4      M    R   25     165       0"
      ]
     },
     "execution_count": 51,
     "metadata": {},
     "output_type": "execute_result"
    }
   ],
   "source": [
    "import pandas as pd\n",
    "df = pd.read_csv(r\"C:\\Users\\USER\\Desktop\\Project\\Brushing Up Machine Learning\\pipeline_dataset.csv\")\n",
    "df.head()"
   ]
  },
  {
   "cell_type": "code",
   "execution_count": 52,
   "metadata": {},
   "outputs": [],
   "source": [
    "X = df.iloc[:, 0:4]\n",
    "y = df.iloc[:, 4]"
   ]
  },
  {
   "cell_type": "code",
   "execution_count": 53,
   "metadata": {},
   "outputs": [
    {
     "data": {
      "text/html": [
       "<div>\n",
       "<style scoped>\n",
       "    .dataframe tbody tr th:only-of-type {\n",
       "        vertical-align: middle;\n",
       "    }\n",
       "\n",
       "    .dataframe tbody tr th {\n",
       "        vertical-align: top;\n",
       "    }\n",
       "\n",
       "    .dataframe thead th {\n",
       "        text-align: right;\n",
       "    }\n",
       "</style>\n",
       "<table border=\"1\" class=\"dataframe\">\n",
       "  <thead>\n",
       "    <tr style=\"text-align: right;\">\n",
       "      <th></th>\n",
       "      <th>gender</th>\n",
       "      <th>City</th>\n",
       "      <th>age</th>\n",
       "      <th>height</th>\n",
       "    </tr>\n",
       "  </thead>\n",
       "  <tbody>\n",
       "    <tr>\n",
       "      <th>0</th>\n",
       "      <td>M</td>\n",
       "      <td>D</td>\n",
       "      <td>19</td>\n",
       "      <td>170</td>\n",
       "    </tr>\n",
       "    <tr>\n",
       "      <th>1</th>\n",
       "      <td>F</td>\n",
       "      <td>C</td>\n",
       "      <td>23</td>\n",
       "      <td>155</td>\n",
       "    </tr>\n",
       "    <tr>\n",
       "      <th>2</th>\n",
       "      <td>F</td>\n",
       "      <td>B</td>\n",
       "      <td>17</td>\n",
       "      <td>145</td>\n",
       "    </tr>\n",
       "    <tr>\n",
       "      <th>3</th>\n",
       "      <td>F</td>\n",
       "      <td>K</td>\n",
       "      <td>21</td>\n",
       "      <td>152</td>\n",
       "    </tr>\n",
       "    <tr>\n",
       "      <th>4</th>\n",
       "      <td>M</td>\n",
       "      <td>R</td>\n",
       "      <td>25</td>\n",
       "      <td>165</td>\n",
       "    </tr>\n",
       "  </tbody>\n",
       "</table>\n",
       "</div>"
      ],
      "text/plain": [
       "  gender City  age  height\n",
       "0      M    D   19     170\n",
       "1      F    C   23     155\n",
       "2      F    B   17     145\n",
       "3      F    K   21     152\n",
       "4      M    R   25     165"
      ]
     },
     "execution_count": 53,
     "metadata": {},
     "output_type": "execute_result"
    }
   ],
   "source": [
    "X.head()"
   ]
  },
  {
   "cell_type": "code",
   "execution_count": 54,
   "metadata": {},
   "outputs": [
    {
     "data": {
      "text/plain": [
       "0    1\n",
       "1    0\n",
       "2    1\n",
       "3    1\n",
       "4    0\n",
       "Name: passed, dtype: int64"
      ]
     },
     "execution_count": 54,
     "metadata": {},
     "output_type": "execute_result"
    }
   ],
   "source": [
    "y.head()"
   ]
  },
  {
   "cell_type": "code",
   "execution_count": 55,
   "metadata": {},
   "outputs": [],
   "source": [
    "X_train, X_test, y_train, y_test = train_test_split(X, y, random_state = 3, test_size = 0.3)"
   ]
  },
  {
   "cell_type": "code",
   "execution_count": 56,
   "metadata": {},
   "outputs": [
    {
     "data": {
      "text/plain": [
       "((3, 4), (2, 4), (3,), (2,))"
      ]
     },
     "execution_count": 56,
     "metadata": {},
     "output_type": "execute_result"
    }
   ],
   "source": [
    "X_train.shape, X_test.shape, y_train.shape, y_test.shape"
   ]
  },
  {
   "cell_type": "code",
   "execution_count": 57,
   "metadata": {},
   "outputs": [
    {
     "data": {
      "text/html": [
       "<style>#sk-14edd7f3-b445-4a9a-b899-40249a519adf {color: black;background-color: white;}#sk-14edd7f3-b445-4a9a-b899-40249a519adf pre{padding: 0;}#sk-14edd7f3-b445-4a9a-b899-40249a519adf div.sk-toggleable {background-color: white;}#sk-14edd7f3-b445-4a9a-b899-40249a519adf label.sk-toggleable__label {cursor: pointer;display: block;width: 100%;margin-bottom: 0;padding: 0.2em 0.3em;box-sizing: border-box;text-align: center;}#sk-14edd7f3-b445-4a9a-b899-40249a519adf div.sk-toggleable__content {max-height: 0;max-width: 0;overflow: hidden;text-align: left;background-color: #f0f8ff;}#sk-14edd7f3-b445-4a9a-b899-40249a519adf div.sk-toggleable__content pre {margin: 0.2em;color: black;border-radius: 0.25em;background-color: #f0f8ff;}#sk-14edd7f3-b445-4a9a-b899-40249a519adf input.sk-toggleable__control:checked~div.sk-toggleable__content {max-height: 200px;max-width: 100%;overflow: auto;}#sk-14edd7f3-b445-4a9a-b899-40249a519adf div.sk-estimator input.sk-toggleable__control:checked~label.sk-toggleable__label {background-color: #d4ebff;}#sk-14edd7f3-b445-4a9a-b899-40249a519adf div.sk-label input.sk-toggleable__control:checked~label.sk-toggleable__label {background-color: #d4ebff;}#sk-14edd7f3-b445-4a9a-b899-40249a519adf input.sk-hidden--visually {border: 0;clip: rect(1px 1px 1px 1px);clip: rect(1px, 1px, 1px, 1px);height: 1px;margin: -1px;overflow: hidden;padding: 0;position: absolute;width: 1px;}#sk-14edd7f3-b445-4a9a-b899-40249a519adf div.sk-estimator {font-family: monospace;background-color: #f0f8ff;margin: 0.25em 0.25em;border: 1px dotted black;border-radius: 0.25em;box-sizing: border-box;}#sk-14edd7f3-b445-4a9a-b899-40249a519adf div.sk-estimator:hover {background-color: #d4ebff;}#sk-14edd7f3-b445-4a9a-b899-40249a519adf div.sk-parallel-item::after {content: \"\";width: 100%;border-bottom: 1px solid gray;flex-grow: 1;}#sk-14edd7f3-b445-4a9a-b899-40249a519adf div.sk-label:hover label.sk-toggleable__label {background-color: #d4ebff;}#sk-14edd7f3-b445-4a9a-b899-40249a519adf div.sk-serial::before {content: \"\";position: absolute;border-left: 1px solid gray;box-sizing: border-box;top: 2em;bottom: 0;left: 50%;}#sk-14edd7f3-b445-4a9a-b899-40249a519adf div.sk-serial {display: flex;flex-direction: column;align-items: center;background-color: white;}#sk-14edd7f3-b445-4a9a-b899-40249a519adf div.sk-item {z-index: 1;}#sk-14edd7f3-b445-4a9a-b899-40249a519adf div.sk-parallel {display: flex;align-items: stretch;justify-content: center;background-color: white;}#sk-14edd7f3-b445-4a9a-b899-40249a519adf div.sk-parallel-item {display: flex;flex-direction: column;position: relative;background-color: white;}#sk-14edd7f3-b445-4a9a-b899-40249a519adf div.sk-parallel-item:first-child::after {align-self: flex-end;width: 50%;}#sk-14edd7f3-b445-4a9a-b899-40249a519adf div.sk-parallel-item:last-child::after {align-self: flex-start;width: 50%;}#sk-14edd7f3-b445-4a9a-b899-40249a519adf div.sk-parallel-item:only-child::after {width: 0;}#sk-14edd7f3-b445-4a9a-b899-40249a519adf div.sk-dashed-wrapped {border: 1px dashed gray;margin: 0.2em;box-sizing: border-box;padding-bottom: 0.1em;background-color: white;position: relative;}#sk-14edd7f3-b445-4a9a-b899-40249a519adf div.sk-label label {font-family: monospace;font-weight: bold;background-color: white;display: inline-block;line-height: 1.2em;}#sk-14edd7f3-b445-4a9a-b899-40249a519adf div.sk-label-container {position: relative;z-index: 2;text-align: center;}#sk-14edd7f3-b445-4a9a-b899-40249a519adf div.sk-container {display: inline-block;position: relative;}</style><div id=\"sk-14edd7f3-b445-4a9a-b899-40249a519adf\" class\"sk-top-container\"><div class=\"sk-container\"><div class=\"sk-item sk-dashed-wrapped\"><div class=\"sk-label-container\"><div class=\"sk-label sk-toggleable\"><input class=\"sk-toggleable__control sk-hidden--visually\" id=\"ba52c9c3-cc42-4a2c-adb9-3e01f57db248\" type=\"checkbox\" ><label class=\"sk-toggleable__label\" for=\"ba52c9c3-cc42-4a2c-adb9-3e01f57db248\">Pipeline</label><div class=\"sk-toggleable__content\"><pre>Pipeline(steps=[('columntransformer',\n",
       "                 ColumnTransformer(transformers=[('categorical',\n",
       "                                                  Pipeline(steps=[('imputation_constant',\n",
       "                                                                   SimpleImputer(fill_value='missing',\n",
       "                                                                                 strategy='constant')),\n",
       "                                                                  ('onehot',\n",
       "                                                                   OneHotEncoder(handle_unknown='ignore'))]),\n",
       "                                                  ['gender', 'City']),\n",
       "                                                 ('numerical',\n",
       "                                                  Pipeline(steps=[('imputation_mean',\n",
       "                                                                   SimpleImputer()),\n",
       "                                                                  ('standard_scaler',\n",
       "                                                                   StandardScaler())]),\n",
       "                                                  ['age', 'height'])])),\n",
       "                ('logisticregression', LogisticRegression())])</pre></div></div></div><div class=\"sk-serial\"><div class=\"sk-item sk-dashed-wrapped\"><div class=\"sk-label-container\"><div class=\"sk-label sk-toggleable\"><input class=\"sk-toggleable__control sk-hidden--visually\" id=\"e080bdec-2634-4d2f-96c6-c706f97c17a4\" type=\"checkbox\" ><label class=\"sk-toggleable__label\" for=\"e080bdec-2634-4d2f-96c6-c706f97c17a4\">columntransformer: ColumnTransformer</label><div class=\"sk-toggleable__content\"><pre>ColumnTransformer(transformers=[('categorical',\n",
       "                                 Pipeline(steps=[('imputation_constant',\n",
       "                                                  SimpleImputer(fill_value='missing',\n",
       "                                                                strategy='constant')),\n",
       "                                                 ('onehot',\n",
       "                                                  OneHotEncoder(handle_unknown='ignore'))]),\n",
       "                                 ['gender', 'City']),\n",
       "                                ('numerical',\n",
       "                                 Pipeline(steps=[('imputation_mean',\n",
       "                                                  SimpleImputer()),\n",
       "                                                 ('standard_scaler',\n",
       "                                                  StandardScaler())]),\n",
       "                                 ['age', 'height'])])</pre></div></div></div><div class=\"sk-parallel\"><div class=\"sk-parallel-item\"><div class=\"sk-item\"><div class=\"sk-label-container\"><div class=\"sk-label sk-toggleable\"><input class=\"sk-toggleable__control sk-hidden--visually\" id=\"684abc6f-787c-4e3c-9bb1-963784eadc7b\" type=\"checkbox\" ><label class=\"sk-toggleable__label\" for=\"684abc6f-787c-4e3c-9bb1-963784eadc7b\">categorical</label><div class=\"sk-toggleable__content\"><pre>['gender', 'City']</pre></div></div></div><div class=\"sk-serial\"><div class=\"sk-item\"><div class=\"sk-serial\"><div class=\"sk-item\"><div class=\"sk-estimator sk-toggleable\"><input class=\"sk-toggleable__control sk-hidden--visually\" id=\"6a29bebc-7d05-4033-8e5b-7f5e7e18248f\" type=\"checkbox\" ><label class=\"sk-toggleable__label\" for=\"6a29bebc-7d05-4033-8e5b-7f5e7e18248f\">SimpleImputer</label><div class=\"sk-toggleable__content\"><pre>SimpleImputer(fill_value='missing', strategy='constant')</pre></div></div></div><div class=\"sk-item\"><div class=\"sk-estimator sk-toggleable\"><input class=\"sk-toggleable__control sk-hidden--visually\" id=\"bd2d3dee-c9da-4dac-9ecf-e997975bde9f\" type=\"checkbox\" ><label class=\"sk-toggleable__label\" for=\"bd2d3dee-c9da-4dac-9ecf-e997975bde9f\">OneHotEncoder</label><div class=\"sk-toggleable__content\"><pre>OneHotEncoder(handle_unknown='ignore')</pre></div></div></div></div></div></div></div></div><div class=\"sk-parallel-item\"><div class=\"sk-item\"><div class=\"sk-label-container\"><div class=\"sk-label sk-toggleable\"><input class=\"sk-toggleable__control sk-hidden--visually\" id=\"59e137b6-476a-438e-8974-6b448d6f9d22\" type=\"checkbox\" ><label class=\"sk-toggleable__label\" for=\"59e137b6-476a-438e-8974-6b448d6f9d22\">numerical</label><div class=\"sk-toggleable__content\"><pre>['age', 'height']</pre></div></div></div><div class=\"sk-serial\"><div class=\"sk-item\"><div class=\"sk-serial\"><div class=\"sk-item\"><div class=\"sk-estimator sk-toggleable\"><input class=\"sk-toggleable__control sk-hidden--visually\" id=\"2e535085-160b-4a63-8bac-21ac11be0ab0\" type=\"checkbox\" ><label class=\"sk-toggleable__label\" for=\"2e535085-160b-4a63-8bac-21ac11be0ab0\">SimpleImputer</label><div class=\"sk-toggleable__content\"><pre>SimpleImputer()</pre></div></div></div><div class=\"sk-item\"><div class=\"sk-estimator sk-toggleable\"><input class=\"sk-toggleable__control sk-hidden--visually\" id=\"02ab2959-b703-4993-9ec6-3bf088f39b56\" type=\"checkbox\" ><label class=\"sk-toggleable__label\" for=\"02ab2959-b703-4993-9ec6-3bf088f39b56\">StandardScaler</label><div class=\"sk-toggleable__content\"><pre>StandardScaler()</pre></div></div></div></div></div></div></div></div></div></div><div class=\"sk-item\"><div class=\"sk-estimator sk-toggleable\"><input class=\"sk-toggleable__control sk-hidden--visually\" id=\"eb0902cb-4680-42c4-be2e-1f3f4cf5718c\" type=\"checkbox\" ><label class=\"sk-toggleable__label\" for=\"eb0902cb-4680-42c4-be2e-1f3f4cf5718c\">LogisticRegression</label><div class=\"sk-toggleable__content\"><pre>LogisticRegression()</pre></div></div></div></div></div></div></div>"
      ],
      "text/plain": [
       "Pipeline(steps=[('columntransformer',\n",
       "                 ColumnTransformer(transformers=[('categorical',\n",
       "                                                  Pipeline(steps=[('imputation_constant',\n",
       "                                                                   SimpleImputer(fill_value='missing',\n",
       "                                                                                 strategy='constant')),\n",
       "                                                                  ('onehot',\n",
       "                                                                   OneHotEncoder(handle_unknown='ignore'))]),\n",
       "                                                  ['gender', 'City']),\n",
       "                                                 ('numerical',\n",
       "                                                  Pipeline(steps=[('imputation_mean',\n",
       "                                                                   SimpleImputer()),\n",
       "                                                                  ('standard_scaler',\n",
       "                                                                   StandardScaler())]),\n",
       "                                                  ['age', 'height'])])),\n",
       "                ('logisticregression', LogisticRegression())])"
      ]
     },
     "execution_count": 57,
     "metadata": {},
     "output_type": "execute_result"
    }
   ],
   "source": [
    "pipe.fit(X_train, y_train)"
   ]
  },
  {
   "cell_type": "code",
   "execution_count": 59,
   "metadata": {},
   "outputs": [],
   "source": [
    "y_pred = pipe.predict(X_test)"
   ]
  },
  {
   "cell_type": "code",
   "execution_count": 60,
   "metadata": {},
   "outputs": [
    {
     "data": {
      "text/plain": [
       "array([1, 0], dtype=int64)"
      ]
     },
     "execution_count": 60,
     "metadata": {},
     "output_type": "execute_result"
    }
   ],
   "source": [
    "y_pred"
   ]
  },
  {
   "cell_type": "code",
   "execution_count": 61,
   "metadata": {},
   "outputs": [
    {
     "name": "stdout",
     "output_type": "stream",
     "text": [
      "              precision    recall  f1-score   support\n",
      "\n",
      "           0       1.00      1.00      1.00         1\n",
      "           1       1.00      1.00      1.00         1\n",
      "\n",
      "    accuracy                           1.00         2\n",
      "   macro avg       1.00      1.00      1.00         2\n",
      "weighted avg       1.00      1.00      1.00         2\n",
      "\n"
     ]
    }
   ],
   "source": [
    "from sklearn.metrics import classification_report\n",
    "\n",
    "print(classification_report(y_test, y_pred))"
   ]
  },
  {
   "cell_type": "code",
   "execution_count": null,
   "metadata": {},
   "outputs": [],
   "source": []
  }
 ],
 "metadata": {
  "kernelspec": {
   "display_name": "Python 3.9.7 64-bit",
   "language": "python",
   "name": "python3"
  },
  "language_info": {
   "codemirror_mode": {
    "name": "ipython",
    "version": 3
   },
   "file_extension": ".py",
   "mimetype": "text/x-python",
   "name": "python",
   "nbconvert_exporter": "python",
   "pygments_lexer": "ipython3",
   "version": "3.9.7"
  },
  "orig_nbformat": 4,
  "vscode": {
   "interpreter": {
    "hash": "d53f250bb2553594e063185717e70639c4fad0553ce47f360ebb15c939323966"
   }
  }
 },
 "nbformat": 4,
 "nbformat_minor": 2
}
