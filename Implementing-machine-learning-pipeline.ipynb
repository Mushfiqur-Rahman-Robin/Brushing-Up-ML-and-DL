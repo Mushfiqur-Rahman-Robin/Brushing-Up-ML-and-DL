{
 "cells": [
  {
   "cell_type": "markdown",
   "metadata": {},
   "source": [
    "Pipeline of transforms with a final estimator.\n",
    "\n",
    "Sequentially apply a list of transforms and a final estimator. Intermediate steps of the pipeline must be ‘transforms’, that is, they must implement fit and transform methods. The final estimator only needs to implement fit. The transformers in the pipeline can be cached using memory argument.\n",
    "\n",
    "The purpose of the pipeline is to assemble several steps that can be cross-validated together while setting different parameters. For this, it enables setting parameters of the various steps using their names and the parameter name separated by a '__', as in the example below. A step’s estimator may be replaced entirely by setting the parameter with its name to another estimator, or a transformer removed by setting it to 'passthrough' or None.\n",
    "\n",
    "[https://www.youtube.com/watch?v=HZ9MUzCRlzI&ab_channel=KrishNaik]"
   ]
  },
  {
   "cell_type": "markdown",
   "metadata": {},
   "source": [
    "class sklearn.pipeline.Pipeline(steps, *, memory=None, verbose=False)\n",
    "\n",
    "[https://scikit-learn.org/stable/modules/generated/sklearn.pipeline.Pipeline.html]"
   ]
  },
  {
   "cell_type": "code",
   "execution_count": 3,
   "metadata": {},
   "outputs": [],
   "source": [
    "from sklearn.pipeline import Pipeline\n",
    "from sklearn.preprocessing import StandardScaler\n",
    "from sklearn.linear_model import LogisticRegression\n",
    "\n",
    "## StandardSclaer is a transformation technique and LogisticRegression is an estimator"
   ]
  },
  {
   "cell_type": "code",
   "execution_count": 6,
   "metadata": {},
   "outputs": [
    {
     "name": "stdout",
     "output_type": "stream",
     "text": [
      "[('standard_sclaer', StandardScaler()), ('classifier', LogisticRegression())]\n"
     ]
    }
   ],
   "source": [
    "steps = [(\"standard_sclaer\", StandardScaler()),\n",
    "        (\"classifier\", LogisticRegression())]\n",
    "\n",
    "print(steps)"
   ]
  },
  {
   "cell_type": "code",
   "execution_count": 7,
   "metadata": {},
   "outputs": [
    {
     "data": {
      "text/plain": [
       "Pipeline(steps=[('standard_sclaer', StandardScaler()),\n",
       "                ('classifier', LogisticRegression())])"
      ]
     },
     "execution_count": 7,
     "metadata": {},
     "output_type": "execute_result"
    }
   ],
   "source": [
    "Pipeline(steps)"
   ]
  },
  {
   "cell_type": "code",
   "execution_count": 8,
   "metadata": {},
   "outputs": [],
   "source": [
    "pipe = Pipeline(steps)"
   ]
  },
  {
   "cell_type": "code",
   "execution_count": 9,
   "metadata": {},
   "outputs": [],
   "source": [
    "# Now we are going to visualize the pipeline\n",
    "\n",
    "from sklearn import set_config\n",
    "set_config(display=\"diagram\")"
   ]
  },
  {
   "cell_type": "code",
   "execution_count": 10,
   "metadata": {},
   "outputs": [
    {
     "data": {
      "text/html": [
       "<style>#sk-a9d1f569-68d9-4a43-bfa0-9c516ed293b2 {color: black;background-color: white;}#sk-a9d1f569-68d9-4a43-bfa0-9c516ed293b2 pre{padding: 0;}#sk-a9d1f569-68d9-4a43-bfa0-9c516ed293b2 div.sk-toggleable {background-color: white;}#sk-a9d1f569-68d9-4a43-bfa0-9c516ed293b2 label.sk-toggleable__label {cursor: pointer;display: block;width: 100%;margin-bottom: 0;padding: 0.2em 0.3em;box-sizing: border-box;text-align: center;}#sk-a9d1f569-68d9-4a43-bfa0-9c516ed293b2 div.sk-toggleable__content {max-height: 0;max-width: 0;overflow: hidden;text-align: left;background-color: #f0f8ff;}#sk-a9d1f569-68d9-4a43-bfa0-9c516ed293b2 div.sk-toggleable__content pre {margin: 0.2em;color: black;border-radius: 0.25em;background-color: #f0f8ff;}#sk-a9d1f569-68d9-4a43-bfa0-9c516ed293b2 input.sk-toggleable__control:checked~div.sk-toggleable__content {max-height: 200px;max-width: 100%;overflow: auto;}#sk-a9d1f569-68d9-4a43-bfa0-9c516ed293b2 div.sk-estimator input.sk-toggleable__control:checked~label.sk-toggleable__label {background-color: #d4ebff;}#sk-a9d1f569-68d9-4a43-bfa0-9c516ed293b2 div.sk-label input.sk-toggleable__control:checked~label.sk-toggleable__label {background-color: #d4ebff;}#sk-a9d1f569-68d9-4a43-bfa0-9c516ed293b2 input.sk-hidden--visually {border: 0;clip: rect(1px 1px 1px 1px);clip: rect(1px, 1px, 1px, 1px);height: 1px;margin: -1px;overflow: hidden;padding: 0;position: absolute;width: 1px;}#sk-a9d1f569-68d9-4a43-bfa0-9c516ed293b2 div.sk-estimator {font-family: monospace;background-color: #f0f8ff;margin: 0.25em 0.25em;border: 1px dotted black;border-radius: 0.25em;box-sizing: border-box;}#sk-a9d1f569-68d9-4a43-bfa0-9c516ed293b2 div.sk-estimator:hover {background-color: #d4ebff;}#sk-a9d1f569-68d9-4a43-bfa0-9c516ed293b2 div.sk-parallel-item::after {content: \"\";width: 100%;border-bottom: 1px solid gray;flex-grow: 1;}#sk-a9d1f569-68d9-4a43-bfa0-9c516ed293b2 div.sk-label:hover label.sk-toggleable__label {background-color: #d4ebff;}#sk-a9d1f569-68d9-4a43-bfa0-9c516ed293b2 div.sk-serial::before {content: \"\";position: absolute;border-left: 1px solid gray;box-sizing: border-box;top: 2em;bottom: 0;left: 50%;}#sk-a9d1f569-68d9-4a43-bfa0-9c516ed293b2 div.sk-serial {display: flex;flex-direction: column;align-items: center;background-color: white;}#sk-a9d1f569-68d9-4a43-bfa0-9c516ed293b2 div.sk-item {z-index: 1;}#sk-a9d1f569-68d9-4a43-bfa0-9c516ed293b2 div.sk-parallel {display: flex;align-items: stretch;justify-content: center;background-color: white;}#sk-a9d1f569-68d9-4a43-bfa0-9c516ed293b2 div.sk-parallel-item {display: flex;flex-direction: column;position: relative;background-color: white;}#sk-a9d1f569-68d9-4a43-bfa0-9c516ed293b2 div.sk-parallel-item:first-child::after {align-self: flex-end;width: 50%;}#sk-a9d1f569-68d9-4a43-bfa0-9c516ed293b2 div.sk-parallel-item:last-child::after {align-self: flex-start;width: 50%;}#sk-a9d1f569-68d9-4a43-bfa0-9c516ed293b2 div.sk-parallel-item:only-child::after {width: 0;}#sk-a9d1f569-68d9-4a43-bfa0-9c516ed293b2 div.sk-dashed-wrapped {border: 1px dashed gray;margin: 0.2em;box-sizing: border-box;padding-bottom: 0.1em;background-color: white;position: relative;}#sk-a9d1f569-68d9-4a43-bfa0-9c516ed293b2 div.sk-label label {font-family: monospace;font-weight: bold;background-color: white;display: inline-block;line-height: 1.2em;}#sk-a9d1f569-68d9-4a43-bfa0-9c516ed293b2 div.sk-label-container {position: relative;z-index: 2;text-align: center;}#sk-a9d1f569-68d9-4a43-bfa0-9c516ed293b2 div.sk-container {display: inline-block;position: relative;}</style><div id=\"sk-a9d1f569-68d9-4a43-bfa0-9c516ed293b2\" class\"sk-top-container\"><div class=\"sk-container\"><div class=\"sk-item sk-dashed-wrapped\"><div class=\"sk-label-container\"><div class=\"sk-label sk-toggleable\"><input class=\"sk-toggleable__control sk-hidden--visually\" id=\"6f681742-28e6-4540-8b2c-b9ef1269c739\" type=\"checkbox\" ><label class=\"sk-toggleable__label\" for=\"6f681742-28e6-4540-8b2c-b9ef1269c739\">Pipeline</label><div class=\"sk-toggleable__content\"><pre>Pipeline(steps=[('standard_sclaer', StandardScaler()),\n",
       "                ('classifier', LogisticRegression())])</pre></div></div></div><div class=\"sk-serial\"><div class=\"sk-item\"><div class=\"sk-estimator sk-toggleable\"><input class=\"sk-toggleable__control sk-hidden--visually\" id=\"6373f786-6e13-4193-8d37-f641d63268a2\" type=\"checkbox\" ><label class=\"sk-toggleable__label\" for=\"6373f786-6e13-4193-8d37-f641d63268a2\">StandardScaler</label><div class=\"sk-toggleable__content\"><pre>StandardScaler()</pre></div></div></div><div class=\"sk-item\"><div class=\"sk-estimator sk-toggleable\"><input class=\"sk-toggleable__control sk-hidden--visually\" id=\"e3a31ca9-74dd-4037-bdfb-94d5759e2b25\" type=\"checkbox\" ><label class=\"sk-toggleable__label\" for=\"e3a31ca9-74dd-4037-bdfb-94d5759e2b25\">LogisticRegression</label><div class=\"sk-toggleable__content\"><pre>LogisticRegression()</pre></div></div></div></div></div></div></div>"
      ],
      "text/plain": [
       "Pipeline(steps=[('standard_sclaer', StandardScaler()),\n",
       "                ('classifier', LogisticRegression())])"
      ]
     },
     "execution_count": 10,
     "metadata": {},
     "output_type": "execute_result"
    }
   ],
   "source": [
    "pipe"
   ]
  },
  {
   "cell_type": "code",
   "execution_count": 11,
   "metadata": {},
   "outputs": [],
   "source": [
    "## create dataset\n",
    "from sklearn.datasets import make_classification\n",
    "\n",
    "X, y = make_classification(n_samples=1000)"
   ]
  },
  {
   "cell_type": "code",
   "execution_count": 12,
   "metadata": {},
   "outputs": [
    {
     "data": {
      "text/plain": [
       "((1000, 20), (1000,))"
      ]
     },
     "execution_count": 12,
     "metadata": {},
     "output_type": "execute_result"
    }
   ],
   "source": [
    "X.shape, y.shape"
   ]
  },
  {
   "cell_type": "code",
   "execution_count": 13,
   "metadata": {},
   "outputs": [],
   "source": [
    "from sklearn.model_selection import train_test_split\n",
    "\n",
    "X_train, X_test, y_train, y_test = train_test_split(X, y, random_state = 42, test_size = 0.3)"
   ]
  },
  {
   "cell_type": "code",
   "execution_count": 14,
   "metadata": {},
   "outputs": [
    {
     "data": {
      "text/plain": [
       "((700, 20), (300, 20), (700,), (300,))"
      ]
     },
     "execution_count": 14,
     "metadata": {},
     "output_type": "execute_result"
    }
   ],
   "source": [
    "X_train.shape, X_test.shape, y_train.shape, y_test.shape"
   ]
  },
  {
   "cell_type": "code",
   "execution_count": 15,
   "metadata": {},
   "outputs": [
    {
     "data": {
      "text/plain": [
       "array([[-0.73096954,  0.72161213,  0.59709576, ...,  1.25703038,\n",
       "        -0.49860009,  1.05549933],\n",
       "       [ 1.20328064, -0.30281421, -1.29242428, ..., -1.98274232,\n",
       "        -1.74760109, -1.56782264],\n",
       "       [-0.59169192,  0.62315217,  0.87528252, ..., -1.69220857,\n",
       "         0.67135837, -0.31361111],\n",
       "       ...,\n",
       "       [-0.85936136, -0.24332362, -1.9811566 , ...,  1.395996  ,\n",
       "        -0.25180935,  1.0299083 ],\n",
       "       [-0.27260729, -1.13200134,  0.46995393, ...,  1.33836653,\n",
       "         0.17655464, -0.75096714],\n",
       "       [ 2.39817533, -0.2314117 , -0.01630132, ...,  1.52961345,\n",
       "        -0.78749187,  2.02508267]])"
      ]
     },
     "execution_count": 15,
     "metadata": {},
     "output_type": "execute_result"
    }
   ],
   "source": [
    "X_train"
   ]
  },
  {
   "cell_type": "code",
   "execution_count": 16,
   "metadata": {},
   "outputs": [
    {
     "data": {
      "text/html": [
       "<style>#sk-d668f821-5851-4ebd-a640-d05d6fc4e6df {color: black;background-color: white;}#sk-d668f821-5851-4ebd-a640-d05d6fc4e6df pre{padding: 0;}#sk-d668f821-5851-4ebd-a640-d05d6fc4e6df div.sk-toggleable {background-color: white;}#sk-d668f821-5851-4ebd-a640-d05d6fc4e6df label.sk-toggleable__label {cursor: pointer;display: block;width: 100%;margin-bottom: 0;padding: 0.2em 0.3em;box-sizing: border-box;text-align: center;}#sk-d668f821-5851-4ebd-a640-d05d6fc4e6df div.sk-toggleable__content {max-height: 0;max-width: 0;overflow: hidden;text-align: left;background-color: #f0f8ff;}#sk-d668f821-5851-4ebd-a640-d05d6fc4e6df div.sk-toggleable__content pre {margin: 0.2em;color: black;border-radius: 0.25em;background-color: #f0f8ff;}#sk-d668f821-5851-4ebd-a640-d05d6fc4e6df input.sk-toggleable__control:checked~div.sk-toggleable__content {max-height: 200px;max-width: 100%;overflow: auto;}#sk-d668f821-5851-4ebd-a640-d05d6fc4e6df div.sk-estimator input.sk-toggleable__control:checked~label.sk-toggleable__label {background-color: #d4ebff;}#sk-d668f821-5851-4ebd-a640-d05d6fc4e6df div.sk-label input.sk-toggleable__control:checked~label.sk-toggleable__label {background-color: #d4ebff;}#sk-d668f821-5851-4ebd-a640-d05d6fc4e6df input.sk-hidden--visually {border: 0;clip: rect(1px 1px 1px 1px);clip: rect(1px, 1px, 1px, 1px);height: 1px;margin: -1px;overflow: hidden;padding: 0;position: absolute;width: 1px;}#sk-d668f821-5851-4ebd-a640-d05d6fc4e6df div.sk-estimator {font-family: monospace;background-color: #f0f8ff;margin: 0.25em 0.25em;border: 1px dotted black;border-radius: 0.25em;box-sizing: border-box;}#sk-d668f821-5851-4ebd-a640-d05d6fc4e6df div.sk-estimator:hover {background-color: #d4ebff;}#sk-d668f821-5851-4ebd-a640-d05d6fc4e6df div.sk-parallel-item::after {content: \"\";width: 100%;border-bottom: 1px solid gray;flex-grow: 1;}#sk-d668f821-5851-4ebd-a640-d05d6fc4e6df div.sk-label:hover label.sk-toggleable__label {background-color: #d4ebff;}#sk-d668f821-5851-4ebd-a640-d05d6fc4e6df div.sk-serial::before {content: \"\";position: absolute;border-left: 1px solid gray;box-sizing: border-box;top: 2em;bottom: 0;left: 50%;}#sk-d668f821-5851-4ebd-a640-d05d6fc4e6df div.sk-serial {display: flex;flex-direction: column;align-items: center;background-color: white;}#sk-d668f821-5851-4ebd-a640-d05d6fc4e6df div.sk-item {z-index: 1;}#sk-d668f821-5851-4ebd-a640-d05d6fc4e6df div.sk-parallel {display: flex;align-items: stretch;justify-content: center;background-color: white;}#sk-d668f821-5851-4ebd-a640-d05d6fc4e6df div.sk-parallel-item {display: flex;flex-direction: column;position: relative;background-color: white;}#sk-d668f821-5851-4ebd-a640-d05d6fc4e6df div.sk-parallel-item:first-child::after {align-self: flex-end;width: 50%;}#sk-d668f821-5851-4ebd-a640-d05d6fc4e6df div.sk-parallel-item:last-child::after {align-self: flex-start;width: 50%;}#sk-d668f821-5851-4ebd-a640-d05d6fc4e6df div.sk-parallel-item:only-child::after {width: 0;}#sk-d668f821-5851-4ebd-a640-d05d6fc4e6df div.sk-dashed-wrapped {border: 1px dashed gray;margin: 0.2em;box-sizing: border-box;padding-bottom: 0.1em;background-color: white;position: relative;}#sk-d668f821-5851-4ebd-a640-d05d6fc4e6df div.sk-label label {font-family: monospace;font-weight: bold;background-color: white;display: inline-block;line-height: 1.2em;}#sk-d668f821-5851-4ebd-a640-d05d6fc4e6df div.sk-label-container {position: relative;z-index: 2;text-align: center;}#sk-d668f821-5851-4ebd-a640-d05d6fc4e6df div.sk-container {display: inline-block;position: relative;}</style><div id=\"sk-d668f821-5851-4ebd-a640-d05d6fc4e6df\" class\"sk-top-container\"><div class=\"sk-container\"><div class=\"sk-item sk-dashed-wrapped\"><div class=\"sk-label-container\"><div class=\"sk-label sk-toggleable\"><input class=\"sk-toggleable__control sk-hidden--visually\" id=\"ec931497-e4c9-4f32-a501-74535ea1ac6f\" type=\"checkbox\" ><label class=\"sk-toggleable__label\" for=\"ec931497-e4c9-4f32-a501-74535ea1ac6f\">Pipeline</label><div class=\"sk-toggleable__content\"><pre>Pipeline(steps=[('standard_sclaer', StandardScaler()),\n",
       "                ('classifier', LogisticRegression())])</pre></div></div></div><div class=\"sk-serial\"><div class=\"sk-item\"><div class=\"sk-estimator sk-toggleable\"><input class=\"sk-toggleable__control sk-hidden--visually\" id=\"55c1fb71-975e-480a-89ae-a557b8bf32f4\" type=\"checkbox\" ><label class=\"sk-toggleable__label\" for=\"55c1fb71-975e-480a-89ae-a557b8bf32f4\">StandardScaler</label><div class=\"sk-toggleable__content\"><pre>StandardScaler()</pre></div></div></div><div class=\"sk-item\"><div class=\"sk-estimator sk-toggleable\"><input class=\"sk-toggleable__control sk-hidden--visually\" id=\"de4a611a-5674-441a-877c-55117455694e\" type=\"checkbox\" ><label class=\"sk-toggleable__label\" for=\"de4a611a-5674-441a-877c-55117455694e\">LogisticRegression</label><div class=\"sk-toggleable__content\"><pre>LogisticRegression()</pre></div></div></div></div></div></div></div>"
      ],
      "text/plain": [
       "Pipeline(steps=[('standard_sclaer', StandardScaler()),\n",
       "                ('classifier', LogisticRegression())])"
      ]
     },
     "execution_count": 16,
     "metadata": {},
     "output_type": "execute_result"
    }
   ],
   "source": [
    "pipe.fit(X_train, y_train)  # we don't need to transform data separetly using standardscaler. The data transformation will be done inside \n",
    "                            # the pipeline and logistic regression will be performed."
   ]
  },
  {
   "cell_type": "code",
   "execution_count": 17,
   "metadata": {},
   "outputs": [],
   "source": [
    "y_pred = pipe.predict(X_test) # only transform is performed (no fit is required)"
   ]
  },
  {
   "cell_type": "code",
   "execution_count": 18,
   "metadata": {},
   "outputs": [
    {
     "data": {
      "text/plain": [
       "array([1, 0, 0, 1, 1, 0, 1, 1, 1, 0, 0, 1, 0, 1, 0, 1, 0, 0, 1, 1, 1, 1,\n",
       "       1, 0, 0, 1, 1, 0, 0, 0, 1, 0, 1, 1, 1, 1, 0, 1, 1, 0, 0, 1, 0, 0,\n",
       "       0, 1, 0, 0, 0, 1, 0, 0, 0, 0, 0, 0, 1, 1, 0, 0, 1, 0, 0, 0, 0, 1,\n",
       "       0, 0, 1, 1, 1, 1, 0, 1, 0, 0, 1, 0, 0, 1, 1, 1, 1, 0, 0, 0, 0, 0,\n",
       "       0, 0, 1, 1, 1, 1, 1, 0, 1, 1, 0, 0, 0, 0, 1, 0, 1, 0, 1, 1, 1, 1,\n",
       "       1, 0, 1, 1, 1, 1, 1, 1, 0, 1, 1, 0, 0, 0, 1, 0, 1, 0, 1, 1, 0, 0,\n",
       "       0, 1, 1, 0, 1, 0, 0, 0, 1, 0, 1, 0, 1, 1, 1, 0, 0, 1, 1, 0, 0, 0,\n",
       "       0, 1, 0, 1, 1, 0, 0, 1, 1, 0, 0, 1, 1, 1, 0, 0, 0, 1, 0, 0, 1, 0,\n",
       "       1, 0, 1, 0, 1, 0, 0, 0, 1, 1, 0, 0, 0, 1, 0, 1, 0, 1, 1, 1, 0, 1,\n",
       "       0, 1, 0, 0, 0, 0, 1, 0, 0, 0, 0, 1, 0, 0, 0, 0, 0, 1, 0, 0, 1, 0,\n",
       "       1, 1, 0, 0, 1, 1, 1, 1, 1, 1, 0, 1, 0, 0, 1, 0, 1, 1, 0, 1, 0, 0,\n",
       "       1, 1, 1, 0, 0, 1, 0, 0, 1, 1, 1, 0, 0, 1, 0, 1, 0, 0, 1, 0, 1, 0,\n",
       "       1, 0, 0, 1, 1, 0, 1, 1, 0, 0, 0, 1, 0, 0, 1, 0, 1, 0, 0, 1, 1, 1,\n",
       "       1, 0, 1, 1, 1, 1, 1, 0, 0, 0, 0, 0, 0, 1])"
      ]
     },
     "execution_count": 18,
     "metadata": {},
     "output_type": "execute_result"
    }
   ],
   "source": [
    "y_pred"
   ]
  },
  {
   "cell_type": "markdown",
   "metadata": {},
   "source": [
    "This time we will combine pre-processing steps. Let's see how we can perform this using pipeline.\n",
    "\n",
    "Standard Scaling ---> PCA ---> Estimator"
   ]
  },
  {
   "cell_type": "code",
   "execution_count": 19,
   "metadata": {},
   "outputs": [],
   "source": [
    "from sklearn.decomposition import PCA\n",
    "from sklearn.svm import SVC"
   ]
  },
  {
   "cell_type": "code",
   "execution_count": 20,
   "metadata": {},
   "outputs": [],
   "source": [
    "steps = [(\"standard_scaler\", StandardScaler()), \n",
    "        (\"pca\", PCA(n_components = 3)),\n",
    "        (\"svc\", SVC())]"
   ]
  },
  {
   "cell_type": "code",
   "execution_count": 21,
   "metadata": {},
   "outputs": [
    {
     "data": {
      "text/plain": [
       "[('standard_scaler', StandardScaler()),\n",
       " ('pca', PCA(n_components=3)),\n",
       " ('svc', SVC())]"
      ]
     },
     "execution_count": 21,
     "metadata": {},
     "output_type": "execute_result"
    }
   ],
   "source": [
    "steps"
   ]
  },
  {
   "cell_type": "code",
   "execution_count": 22,
   "metadata": {},
   "outputs": [
    {
     "name": "stdout",
     "output_type": "stream",
     "text": [
      "Pipeline(steps=[('standard_scaler', StandardScaler()),\n",
      "                ('pca', PCA(n_components=3)), ('svc', SVC())])\n"
     ]
    }
   ],
   "source": [
    "pipe = Pipeline(steps)\n",
    "print(pipe)"
   ]
  },
  {
   "cell_type": "code",
   "execution_count": 23,
   "metadata": {},
   "outputs": [
    {
     "data": {
      "text/html": [
       "<style>#sk-9ff96368-bff3-4def-be72-af54eb2dd069 {color: black;background-color: white;}#sk-9ff96368-bff3-4def-be72-af54eb2dd069 pre{padding: 0;}#sk-9ff96368-bff3-4def-be72-af54eb2dd069 div.sk-toggleable {background-color: white;}#sk-9ff96368-bff3-4def-be72-af54eb2dd069 label.sk-toggleable__label {cursor: pointer;display: block;width: 100%;margin-bottom: 0;padding: 0.2em 0.3em;box-sizing: border-box;text-align: center;}#sk-9ff96368-bff3-4def-be72-af54eb2dd069 div.sk-toggleable__content {max-height: 0;max-width: 0;overflow: hidden;text-align: left;background-color: #f0f8ff;}#sk-9ff96368-bff3-4def-be72-af54eb2dd069 div.sk-toggleable__content pre {margin: 0.2em;color: black;border-radius: 0.25em;background-color: #f0f8ff;}#sk-9ff96368-bff3-4def-be72-af54eb2dd069 input.sk-toggleable__control:checked~div.sk-toggleable__content {max-height: 200px;max-width: 100%;overflow: auto;}#sk-9ff96368-bff3-4def-be72-af54eb2dd069 div.sk-estimator input.sk-toggleable__control:checked~label.sk-toggleable__label {background-color: #d4ebff;}#sk-9ff96368-bff3-4def-be72-af54eb2dd069 div.sk-label input.sk-toggleable__control:checked~label.sk-toggleable__label {background-color: #d4ebff;}#sk-9ff96368-bff3-4def-be72-af54eb2dd069 input.sk-hidden--visually {border: 0;clip: rect(1px 1px 1px 1px);clip: rect(1px, 1px, 1px, 1px);height: 1px;margin: -1px;overflow: hidden;padding: 0;position: absolute;width: 1px;}#sk-9ff96368-bff3-4def-be72-af54eb2dd069 div.sk-estimator {font-family: monospace;background-color: #f0f8ff;margin: 0.25em 0.25em;border: 1px dotted black;border-radius: 0.25em;box-sizing: border-box;}#sk-9ff96368-bff3-4def-be72-af54eb2dd069 div.sk-estimator:hover {background-color: #d4ebff;}#sk-9ff96368-bff3-4def-be72-af54eb2dd069 div.sk-parallel-item::after {content: \"\";width: 100%;border-bottom: 1px solid gray;flex-grow: 1;}#sk-9ff96368-bff3-4def-be72-af54eb2dd069 div.sk-label:hover label.sk-toggleable__label {background-color: #d4ebff;}#sk-9ff96368-bff3-4def-be72-af54eb2dd069 div.sk-serial::before {content: \"\";position: absolute;border-left: 1px solid gray;box-sizing: border-box;top: 2em;bottom: 0;left: 50%;}#sk-9ff96368-bff3-4def-be72-af54eb2dd069 div.sk-serial {display: flex;flex-direction: column;align-items: center;background-color: white;}#sk-9ff96368-bff3-4def-be72-af54eb2dd069 div.sk-item {z-index: 1;}#sk-9ff96368-bff3-4def-be72-af54eb2dd069 div.sk-parallel {display: flex;align-items: stretch;justify-content: center;background-color: white;}#sk-9ff96368-bff3-4def-be72-af54eb2dd069 div.sk-parallel-item {display: flex;flex-direction: column;position: relative;background-color: white;}#sk-9ff96368-bff3-4def-be72-af54eb2dd069 div.sk-parallel-item:first-child::after {align-self: flex-end;width: 50%;}#sk-9ff96368-bff3-4def-be72-af54eb2dd069 div.sk-parallel-item:last-child::after {align-self: flex-start;width: 50%;}#sk-9ff96368-bff3-4def-be72-af54eb2dd069 div.sk-parallel-item:only-child::after {width: 0;}#sk-9ff96368-bff3-4def-be72-af54eb2dd069 div.sk-dashed-wrapped {border: 1px dashed gray;margin: 0.2em;box-sizing: border-box;padding-bottom: 0.1em;background-color: white;position: relative;}#sk-9ff96368-bff3-4def-be72-af54eb2dd069 div.sk-label label {font-family: monospace;font-weight: bold;background-color: white;display: inline-block;line-height: 1.2em;}#sk-9ff96368-bff3-4def-be72-af54eb2dd069 div.sk-label-container {position: relative;z-index: 2;text-align: center;}#sk-9ff96368-bff3-4def-be72-af54eb2dd069 div.sk-container {display: inline-block;position: relative;}</style><div id=\"sk-9ff96368-bff3-4def-be72-af54eb2dd069\" class\"sk-top-container\"><div class=\"sk-container\"><div class=\"sk-item sk-dashed-wrapped\"><div class=\"sk-label-container\"><div class=\"sk-label sk-toggleable\"><input class=\"sk-toggleable__control sk-hidden--visually\" id=\"450d73ea-80a7-4a5e-b074-f90b3ef3fd7c\" type=\"checkbox\" ><label class=\"sk-toggleable__label\" for=\"450d73ea-80a7-4a5e-b074-f90b3ef3fd7c\">Pipeline</label><div class=\"sk-toggleable__content\"><pre>Pipeline(steps=[('standard_scaler', StandardScaler()),\n",
       "                ('pca', PCA(n_components=3)), ('svc', SVC())])</pre></div></div></div><div class=\"sk-serial\"><div class=\"sk-item\"><div class=\"sk-estimator sk-toggleable\"><input class=\"sk-toggleable__control sk-hidden--visually\" id=\"24bbd303-8251-4837-9b96-2f03f1ab6c01\" type=\"checkbox\" ><label class=\"sk-toggleable__label\" for=\"24bbd303-8251-4837-9b96-2f03f1ab6c01\">StandardScaler</label><div class=\"sk-toggleable__content\"><pre>StandardScaler()</pre></div></div></div><div class=\"sk-item\"><div class=\"sk-estimator sk-toggleable\"><input class=\"sk-toggleable__control sk-hidden--visually\" id=\"79cbed4c-6ef8-4114-b4bc-ba9008be50f0\" type=\"checkbox\" ><label class=\"sk-toggleable__label\" for=\"79cbed4c-6ef8-4114-b4bc-ba9008be50f0\">PCA</label><div class=\"sk-toggleable__content\"><pre>PCA(n_components=3)</pre></div></div></div><div class=\"sk-item\"><div class=\"sk-estimator sk-toggleable\"><input class=\"sk-toggleable__control sk-hidden--visually\" id=\"94afb083-147b-4bbe-ac53-f3311f9cfe36\" type=\"checkbox\" ><label class=\"sk-toggleable__label\" for=\"94afb083-147b-4bbe-ac53-f3311f9cfe36\">SVC</label><div class=\"sk-toggleable__content\"><pre>SVC()</pre></div></div></div></div></div></div></div>"
      ],
      "text/plain": [
       "Pipeline(steps=[('standard_scaler', StandardScaler()),\n",
       "                ('pca', PCA(n_components=3)), ('svc', SVC())])"
      ]
     },
     "execution_count": 23,
     "metadata": {},
     "output_type": "execute_result"
    }
   ],
   "source": [
    "pipe"
   ]
  },
  {
   "cell_type": "code",
   "execution_count": 27,
   "metadata": {},
   "outputs": [],
   "source": [
    "# pipe['standard_scaler'].fit_transform(X_train)   # In case, if we want to check if a particular pipeline is working correctly\n",
    "                                                # we need to use the key to access it"
   ]
  },
  {
   "cell_type": "code",
   "execution_count": 28,
   "metadata": {},
   "outputs": [
    {
     "data": {
      "text/html": [
       "<style>#sk-249f5e52-ef93-48a3-be53-ae00ed071115 {color: black;background-color: white;}#sk-249f5e52-ef93-48a3-be53-ae00ed071115 pre{padding: 0;}#sk-249f5e52-ef93-48a3-be53-ae00ed071115 div.sk-toggleable {background-color: white;}#sk-249f5e52-ef93-48a3-be53-ae00ed071115 label.sk-toggleable__label {cursor: pointer;display: block;width: 100%;margin-bottom: 0;padding: 0.2em 0.3em;box-sizing: border-box;text-align: center;}#sk-249f5e52-ef93-48a3-be53-ae00ed071115 div.sk-toggleable__content {max-height: 0;max-width: 0;overflow: hidden;text-align: left;background-color: #f0f8ff;}#sk-249f5e52-ef93-48a3-be53-ae00ed071115 div.sk-toggleable__content pre {margin: 0.2em;color: black;border-radius: 0.25em;background-color: #f0f8ff;}#sk-249f5e52-ef93-48a3-be53-ae00ed071115 input.sk-toggleable__control:checked~div.sk-toggleable__content {max-height: 200px;max-width: 100%;overflow: auto;}#sk-249f5e52-ef93-48a3-be53-ae00ed071115 div.sk-estimator input.sk-toggleable__control:checked~label.sk-toggleable__label {background-color: #d4ebff;}#sk-249f5e52-ef93-48a3-be53-ae00ed071115 div.sk-label input.sk-toggleable__control:checked~label.sk-toggleable__label {background-color: #d4ebff;}#sk-249f5e52-ef93-48a3-be53-ae00ed071115 input.sk-hidden--visually {border: 0;clip: rect(1px 1px 1px 1px);clip: rect(1px, 1px, 1px, 1px);height: 1px;margin: -1px;overflow: hidden;padding: 0;position: absolute;width: 1px;}#sk-249f5e52-ef93-48a3-be53-ae00ed071115 div.sk-estimator {font-family: monospace;background-color: #f0f8ff;margin: 0.25em 0.25em;border: 1px dotted black;border-radius: 0.25em;box-sizing: border-box;}#sk-249f5e52-ef93-48a3-be53-ae00ed071115 div.sk-estimator:hover {background-color: #d4ebff;}#sk-249f5e52-ef93-48a3-be53-ae00ed071115 div.sk-parallel-item::after {content: \"\";width: 100%;border-bottom: 1px solid gray;flex-grow: 1;}#sk-249f5e52-ef93-48a3-be53-ae00ed071115 div.sk-label:hover label.sk-toggleable__label {background-color: #d4ebff;}#sk-249f5e52-ef93-48a3-be53-ae00ed071115 div.sk-serial::before {content: \"\";position: absolute;border-left: 1px solid gray;box-sizing: border-box;top: 2em;bottom: 0;left: 50%;}#sk-249f5e52-ef93-48a3-be53-ae00ed071115 div.sk-serial {display: flex;flex-direction: column;align-items: center;background-color: white;}#sk-249f5e52-ef93-48a3-be53-ae00ed071115 div.sk-item {z-index: 1;}#sk-249f5e52-ef93-48a3-be53-ae00ed071115 div.sk-parallel {display: flex;align-items: stretch;justify-content: center;background-color: white;}#sk-249f5e52-ef93-48a3-be53-ae00ed071115 div.sk-parallel-item {display: flex;flex-direction: column;position: relative;background-color: white;}#sk-249f5e52-ef93-48a3-be53-ae00ed071115 div.sk-parallel-item:first-child::after {align-self: flex-end;width: 50%;}#sk-249f5e52-ef93-48a3-be53-ae00ed071115 div.sk-parallel-item:last-child::after {align-self: flex-start;width: 50%;}#sk-249f5e52-ef93-48a3-be53-ae00ed071115 div.sk-parallel-item:only-child::after {width: 0;}#sk-249f5e52-ef93-48a3-be53-ae00ed071115 div.sk-dashed-wrapped {border: 1px dashed gray;margin: 0.2em;box-sizing: border-box;padding-bottom: 0.1em;background-color: white;position: relative;}#sk-249f5e52-ef93-48a3-be53-ae00ed071115 div.sk-label label {font-family: monospace;font-weight: bold;background-color: white;display: inline-block;line-height: 1.2em;}#sk-249f5e52-ef93-48a3-be53-ae00ed071115 div.sk-label-container {position: relative;z-index: 2;text-align: center;}#sk-249f5e52-ef93-48a3-be53-ae00ed071115 div.sk-container {display: inline-block;position: relative;}</style><div id=\"sk-249f5e52-ef93-48a3-be53-ae00ed071115\" class\"sk-top-container\"><div class=\"sk-container\"><div class=\"sk-item sk-dashed-wrapped\"><div class=\"sk-label-container\"><div class=\"sk-label sk-toggleable\"><input class=\"sk-toggleable__control sk-hidden--visually\" id=\"47e1965e-ca3b-4208-9da3-f7e5761fd40c\" type=\"checkbox\" ><label class=\"sk-toggleable__label\" for=\"47e1965e-ca3b-4208-9da3-f7e5761fd40c\">Pipeline</label><div class=\"sk-toggleable__content\"><pre>Pipeline(steps=[('standard_scaler', StandardScaler()),\n",
       "                ('pca', PCA(n_components=3)), ('svc', SVC())])</pre></div></div></div><div class=\"sk-serial\"><div class=\"sk-item\"><div class=\"sk-estimator sk-toggleable\"><input class=\"sk-toggleable__control sk-hidden--visually\" id=\"7effc4d7-fbde-417d-bfaf-c0b530d80bb4\" type=\"checkbox\" ><label class=\"sk-toggleable__label\" for=\"7effc4d7-fbde-417d-bfaf-c0b530d80bb4\">StandardScaler</label><div class=\"sk-toggleable__content\"><pre>StandardScaler()</pre></div></div></div><div class=\"sk-item\"><div class=\"sk-estimator sk-toggleable\"><input class=\"sk-toggleable__control sk-hidden--visually\" id=\"f3adf082-ed0b-4beb-b80c-d1ce7d2c83e1\" type=\"checkbox\" ><label class=\"sk-toggleable__label\" for=\"f3adf082-ed0b-4beb-b80c-d1ce7d2c83e1\">PCA</label><div class=\"sk-toggleable__content\"><pre>PCA(n_components=3)</pre></div></div></div><div class=\"sk-item\"><div class=\"sk-estimator sk-toggleable\"><input class=\"sk-toggleable__control sk-hidden--visually\" id=\"f72c81a5-34ec-45fe-8ee6-71132c6490ea\" type=\"checkbox\" ><label class=\"sk-toggleable__label\" for=\"f72c81a5-34ec-45fe-8ee6-71132c6490ea\">SVC</label><div class=\"sk-toggleable__content\"><pre>SVC()</pre></div></div></div></div></div></div></div>"
      ],
      "text/plain": [
       "Pipeline(steps=[('standard_scaler', StandardScaler()),\n",
       "                ('pca', PCA(n_components=3)), ('svc', SVC())])"
      ]
     },
     "execution_count": 28,
     "metadata": {},
     "output_type": "execute_result"
    }
   ],
   "source": [
    "pipe.fit(X_train, y_train)"
   ]
  },
  {
   "cell_type": "code",
   "execution_count": 29,
   "metadata": {},
   "outputs": [
    {
     "data": {
      "text/plain": [
       "array([1, 0, 0, 1, 1, 0, 0, 1, 1, 0, 0, 1, 0, 1, 0, 1, 0, 0, 1, 0, 1, 1,\n",
       "       0, 0, 0, 0, 1, 0, 0, 0, 0, 0, 1, 1, 1, 1, 0, 1, 0, 0, 0, 1, 0, 0,\n",
       "       0, 1, 0, 0, 0, 1, 0, 0, 0, 0, 0, 0, 1, 1, 0, 0, 0, 0, 0, 0, 0, 1,\n",
       "       0, 0, 1, 1, 1, 1, 0, 1, 0, 0, 1, 0, 0, 1, 0, 1, 0, 0, 0, 0, 0, 0,\n",
       "       0, 0, 0, 0, 0, 0, 1, 0, 1, 0, 0, 0, 0, 0, 1, 0, 0, 0, 1, 1, 0, 0,\n",
       "       1, 0, 1, 1, 0, 1, 1, 1, 0, 1, 1, 0, 0, 1, 1, 0, 0, 0, 1, 0, 0, 0,\n",
       "       0, 0, 1, 0, 1, 0, 0, 0, 0, 0, 1, 0, 1, 1, 1, 0, 0, 0, 1, 0, 0, 0,\n",
       "       0, 1, 0, 1, 1, 0, 0, 1, 1, 0, 0, 1, 1, 1, 0, 0, 1, 1, 0, 0, 1, 0,\n",
       "       1, 0, 1, 0, 1, 0, 0, 0, 1, 1, 0, 0, 0, 0, 0, 1, 0, 1, 1, 1, 0, 0,\n",
       "       0, 1, 0, 0, 0, 1, 1, 0, 0, 0, 0, 0, 0, 0, 0, 0, 1, 1, 0, 0, 1, 0,\n",
       "       1, 1, 0, 0, 1, 1, 1, 1, 1, 1, 1, 1, 0, 0, 1, 0, 1, 1, 0, 1, 0, 0,\n",
       "       1, 1, 0, 1, 0, 1, 0, 0, 0, 1, 1, 1, 0, 1, 0, 1, 0, 0, 1, 0, 1, 0,\n",
       "       1, 0, 0, 0, 1, 0, 1, 1, 0, 0, 0, 1, 0, 0, 1, 0, 1, 0, 0, 1, 1, 1,\n",
       "       1, 0, 1, 1, 1, 1, 1, 0, 0, 0, 0, 1, 0, 1])"
      ]
     },
     "execution_count": 29,
     "metadata": {},
     "output_type": "execute_result"
    }
   ],
   "source": [
    "pipe.predict(X_test)"
   ]
  },
  {
   "cell_type": "markdown",
   "metadata": {},
   "source": [
    "Now we are going to see a new example of column transformer."
   ]
  },
  {
   "cell_type": "code",
   "execution_count": 30,
   "metadata": {},
   "outputs": [],
   "source": [
    "from sklearn.impute import SimpleImputer  # numerical variable imputing\n",
    "import numpy as np"
   ]
  },
  {
   "cell_type": "code",
   "execution_count": 34,
   "metadata": {},
   "outputs": [],
   "source": [
    "numeric_processor = Pipeline(steps = [(\"imputation_mean\", SimpleImputer(missing_values=np.nan, strategy=\"mean\")),\n",
    "                    (\"standard_scaler\", StandardScaler())])\n",
    "\n",
    "                    # this pipeline is created for creating numerical data processing"
   ]
  },
  {
   "cell_type": "code",
   "execution_count": 35,
   "metadata": {},
   "outputs": [
    {
     "data": {
      "text/html": [
       "<style>#sk-d41ae919-42c9-47b5-b358-c7d3d084d11f {color: black;background-color: white;}#sk-d41ae919-42c9-47b5-b358-c7d3d084d11f pre{padding: 0;}#sk-d41ae919-42c9-47b5-b358-c7d3d084d11f div.sk-toggleable {background-color: white;}#sk-d41ae919-42c9-47b5-b358-c7d3d084d11f label.sk-toggleable__label {cursor: pointer;display: block;width: 100%;margin-bottom: 0;padding: 0.2em 0.3em;box-sizing: border-box;text-align: center;}#sk-d41ae919-42c9-47b5-b358-c7d3d084d11f div.sk-toggleable__content {max-height: 0;max-width: 0;overflow: hidden;text-align: left;background-color: #f0f8ff;}#sk-d41ae919-42c9-47b5-b358-c7d3d084d11f div.sk-toggleable__content pre {margin: 0.2em;color: black;border-radius: 0.25em;background-color: #f0f8ff;}#sk-d41ae919-42c9-47b5-b358-c7d3d084d11f input.sk-toggleable__control:checked~div.sk-toggleable__content {max-height: 200px;max-width: 100%;overflow: auto;}#sk-d41ae919-42c9-47b5-b358-c7d3d084d11f div.sk-estimator input.sk-toggleable__control:checked~label.sk-toggleable__label {background-color: #d4ebff;}#sk-d41ae919-42c9-47b5-b358-c7d3d084d11f div.sk-label input.sk-toggleable__control:checked~label.sk-toggleable__label {background-color: #d4ebff;}#sk-d41ae919-42c9-47b5-b358-c7d3d084d11f input.sk-hidden--visually {border: 0;clip: rect(1px 1px 1px 1px);clip: rect(1px, 1px, 1px, 1px);height: 1px;margin: -1px;overflow: hidden;padding: 0;position: absolute;width: 1px;}#sk-d41ae919-42c9-47b5-b358-c7d3d084d11f div.sk-estimator {font-family: monospace;background-color: #f0f8ff;margin: 0.25em 0.25em;border: 1px dotted black;border-radius: 0.25em;box-sizing: border-box;}#sk-d41ae919-42c9-47b5-b358-c7d3d084d11f div.sk-estimator:hover {background-color: #d4ebff;}#sk-d41ae919-42c9-47b5-b358-c7d3d084d11f div.sk-parallel-item::after {content: \"\";width: 100%;border-bottom: 1px solid gray;flex-grow: 1;}#sk-d41ae919-42c9-47b5-b358-c7d3d084d11f div.sk-label:hover label.sk-toggleable__label {background-color: #d4ebff;}#sk-d41ae919-42c9-47b5-b358-c7d3d084d11f div.sk-serial::before {content: \"\";position: absolute;border-left: 1px solid gray;box-sizing: border-box;top: 2em;bottom: 0;left: 50%;}#sk-d41ae919-42c9-47b5-b358-c7d3d084d11f div.sk-serial {display: flex;flex-direction: column;align-items: center;background-color: white;}#sk-d41ae919-42c9-47b5-b358-c7d3d084d11f div.sk-item {z-index: 1;}#sk-d41ae919-42c9-47b5-b358-c7d3d084d11f div.sk-parallel {display: flex;align-items: stretch;justify-content: center;background-color: white;}#sk-d41ae919-42c9-47b5-b358-c7d3d084d11f div.sk-parallel-item {display: flex;flex-direction: column;position: relative;background-color: white;}#sk-d41ae919-42c9-47b5-b358-c7d3d084d11f div.sk-parallel-item:first-child::after {align-self: flex-end;width: 50%;}#sk-d41ae919-42c9-47b5-b358-c7d3d084d11f div.sk-parallel-item:last-child::after {align-self: flex-start;width: 50%;}#sk-d41ae919-42c9-47b5-b358-c7d3d084d11f div.sk-parallel-item:only-child::after {width: 0;}#sk-d41ae919-42c9-47b5-b358-c7d3d084d11f div.sk-dashed-wrapped {border: 1px dashed gray;margin: 0.2em;box-sizing: border-box;padding-bottom: 0.1em;background-color: white;position: relative;}#sk-d41ae919-42c9-47b5-b358-c7d3d084d11f div.sk-label label {font-family: monospace;font-weight: bold;background-color: white;display: inline-block;line-height: 1.2em;}#sk-d41ae919-42c9-47b5-b358-c7d3d084d11f div.sk-label-container {position: relative;z-index: 2;text-align: center;}#sk-d41ae919-42c9-47b5-b358-c7d3d084d11f div.sk-container {display: inline-block;position: relative;}</style><div id=\"sk-d41ae919-42c9-47b5-b358-c7d3d084d11f\" class\"sk-top-container\"><div class=\"sk-container\"><div class=\"sk-item sk-dashed-wrapped\"><div class=\"sk-label-container\"><div class=\"sk-label sk-toggleable\"><input class=\"sk-toggleable__control sk-hidden--visually\" id=\"5084dc36-5b5b-4d0f-a177-2d14007c521b\" type=\"checkbox\" ><label class=\"sk-toggleable__label\" for=\"5084dc36-5b5b-4d0f-a177-2d14007c521b\">Pipeline</label><div class=\"sk-toggleable__content\"><pre>Pipeline(steps=[('imputation_mean', SimpleImputer()),\n",
       "                ('standard_scaler', StandardScaler())])</pre></div></div></div><div class=\"sk-serial\"><div class=\"sk-item\"><div class=\"sk-estimator sk-toggleable\"><input class=\"sk-toggleable__control sk-hidden--visually\" id=\"3288e280-e762-4f34-b208-3b8ce1b8489e\" type=\"checkbox\" ><label class=\"sk-toggleable__label\" for=\"3288e280-e762-4f34-b208-3b8ce1b8489e\">SimpleImputer</label><div class=\"sk-toggleable__content\"><pre>SimpleImputer()</pre></div></div></div><div class=\"sk-item\"><div class=\"sk-estimator sk-toggleable\"><input class=\"sk-toggleable__control sk-hidden--visually\" id=\"3eaf9620-d1b2-4514-b74e-563792389350\" type=\"checkbox\" ><label class=\"sk-toggleable__label\" for=\"3eaf9620-d1b2-4514-b74e-563792389350\">StandardScaler</label><div class=\"sk-toggleable__content\"><pre>StandardScaler()</pre></div></div></div></div></div></div></div>"
      ],
      "text/plain": [
       "Pipeline(steps=[('imputation_mean', SimpleImputer()),\n",
       "                ('standard_scaler', StandardScaler())])"
      ]
     },
     "execution_count": 35,
     "metadata": {},
     "output_type": "execute_result"
    }
   ],
   "source": [
    "numeric_processor"
   ]
  },
  {
   "cell_type": "code",
   "execution_count": 37,
   "metadata": {},
   "outputs": [],
   "source": [
    "from sklearn.preprocessing import OneHotEncoder\n",
    "\n",
    "categorical_processor = Pipeline(steps = [(\"imputation_constant\", SimpleImputer(fill_value= \"missing\", strategy=\"constant\")),\n",
    "                        (\"onehot\", OneHotEncoder(handle_unknown = \"ignore\"))])"
   ]
  },
  {
   "cell_type": "code",
   "execution_count": 38,
   "metadata": {},
   "outputs": [
    {
     "data": {
      "text/html": [
       "<style>#sk-2449dc14-b7b3-4d81-9dfc-b724f3fc2dc4 {color: black;background-color: white;}#sk-2449dc14-b7b3-4d81-9dfc-b724f3fc2dc4 pre{padding: 0;}#sk-2449dc14-b7b3-4d81-9dfc-b724f3fc2dc4 div.sk-toggleable {background-color: white;}#sk-2449dc14-b7b3-4d81-9dfc-b724f3fc2dc4 label.sk-toggleable__label {cursor: pointer;display: block;width: 100%;margin-bottom: 0;padding: 0.2em 0.3em;box-sizing: border-box;text-align: center;}#sk-2449dc14-b7b3-4d81-9dfc-b724f3fc2dc4 div.sk-toggleable__content {max-height: 0;max-width: 0;overflow: hidden;text-align: left;background-color: #f0f8ff;}#sk-2449dc14-b7b3-4d81-9dfc-b724f3fc2dc4 div.sk-toggleable__content pre {margin: 0.2em;color: black;border-radius: 0.25em;background-color: #f0f8ff;}#sk-2449dc14-b7b3-4d81-9dfc-b724f3fc2dc4 input.sk-toggleable__control:checked~div.sk-toggleable__content {max-height: 200px;max-width: 100%;overflow: auto;}#sk-2449dc14-b7b3-4d81-9dfc-b724f3fc2dc4 div.sk-estimator input.sk-toggleable__control:checked~label.sk-toggleable__label {background-color: #d4ebff;}#sk-2449dc14-b7b3-4d81-9dfc-b724f3fc2dc4 div.sk-label input.sk-toggleable__control:checked~label.sk-toggleable__label {background-color: #d4ebff;}#sk-2449dc14-b7b3-4d81-9dfc-b724f3fc2dc4 input.sk-hidden--visually {border: 0;clip: rect(1px 1px 1px 1px);clip: rect(1px, 1px, 1px, 1px);height: 1px;margin: -1px;overflow: hidden;padding: 0;position: absolute;width: 1px;}#sk-2449dc14-b7b3-4d81-9dfc-b724f3fc2dc4 div.sk-estimator {font-family: monospace;background-color: #f0f8ff;margin: 0.25em 0.25em;border: 1px dotted black;border-radius: 0.25em;box-sizing: border-box;}#sk-2449dc14-b7b3-4d81-9dfc-b724f3fc2dc4 div.sk-estimator:hover {background-color: #d4ebff;}#sk-2449dc14-b7b3-4d81-9dfc-b724f3fc2dc4 div.sk-parallel-item::after {content: \"\";width: 100%;border-bottom: 1px solid gray;flex-grow: 1;}#sk-2449dc14-b7b3-4d81-9dfc-b724f3fc2dc4 div.sk-label:hover label.sk-toggleable__label {background-color: #d4ebff;}#sk-2449dc14-b7b3-4d81-9dfc-b724f3fc2dc4 div.sk-serial::before {content: \"\";position: absolute;border-left: 1px solid gray;box-sizing: border-box;top: 2em;bottom: 0;left: 50%;}#sk-2449dc14-b7b3-4d81-9dfc-b724f3fc2dc4 div.sk-serial {display: flex;flex-direction: column;align-items: center;background-color: white;}#sk-2449dc14-b7b3-4d81-9dfc-b724f3fc2dc4 div.sk-item {z-index: 1;}#sk-2449dc14-b7b3-4d81-9dfc-b724f3fc2dc4 div.sk-parallel {display: flex;align-items: stretch;justify-content: center;background-color: white;}#sk-2449dc14-b7b3-4d81-9dfc-b724f3fc2dc4 div.sk-parallel-item {display: flex;flex-direction: column;position: relative;background-color: white;}#sk-2449dc14-b7b3-4d81-9dfc-b724f3fc2dc4 div.sk-parallel-item:first-child::after {align-self: flex-end;width: 50%;}#sk-2449dc14-b7b3-4d81-9dfc-b724f3fc2dc4 div.sk-parallel-item:last-child::after {align-self: flex-start;width: 50%;}#sk-2449dc14-b7b3-4d81-9dfc-b724f3fc2dc4 div.sk-parallel-item:only-child::after {width: 0;}#sk-2449dc14-b7b3-4d81-9dfc-b724f3fc2dc4 div.sk-dashed-wrapped {border: 1px dashed gray;margin: 0.2em;box-sizing: border-box;padding-bottom: 0.1em;background-color: white;position: relative;}#sk-2449dc14-b7b3-4d81-9dfc-b724f3fc2dc4 div.sk-label label {font-family: monospace;font-weight: bold;background-color: white;display: inline-block;line-height: 1.2em;}#sk-2449dc14-b7b3-4d81-9dfc-b724f3fc2dc4 div.sk-label-container {position: relative;z-index: 2;text-align: center;}#sk-2449dc14-b7b3-4d81-9dfc-b724f3fc2dc4 div.sk-container {display: inline-block;position: relative;}</style><div id=\"sk-2449dc14-b7b3-4d81-9dfc-b724f3fc2dc4\" class\"sk-top-container\"><div class=\"sk-container\"><div class=\"sk-item sk-dashed-wrapped\"><div class=\"sk-label-container\"><div class=\"sk-label sk-toggleable\"><input class=\"sk-toggleable__control sk-hidden--visually\" id=\"25e22285-7c29-4b38-b803-854be8dccc29\" type=\"checkbox\" ><label class=\"sk-toggleable__label\" for=\"25e22285-7c29-4b38-b803-854be8dccc29\">Pipeline</label><div class=\"sk-toggleable__content\"><pre>Pipeline(steps=[('imputation_constant',\n",
       "                 SimpleImputer(fill_value='missing', strategy='constant')),\n",
       "                ('onehot', OneHotEncoder(handle_unknown='ignore'))])</pre></div></div></div><div class=\"sk-serial\"><div class=\"sk-item\"><div class=\"sk-estimator sk-toggleable\"><input class=\"sk-toggleable__control sk-hidden--visually\" id=\"760947ba-6b2b-4979-87b1-fda5c2a52c70\" type=\"checkbox\" ><label class=\"sk-toggleable__label\" for=\"760947ba-6b2b-4979-87b1-fda5c2a52c70\">SimpleImputer</label><div class=\"sk-toggleable__content\"><pre>SimpleImputer(fill_value='missing', strategy='constant')</pre></div></div></div><div class=\"sk-item\"><div class=\"sk-estimator sk-toggleable\"><input class=\"sk-toggleable__control sk-hidden--visually\" id=\"c5f18404-b087-417b-ba59-68f2c46bf722\" type=\"checkbox\" ><label class=\"sk-toggleable__label\" for=\"c5f18404-b087-417b-ba59-68f2c46bf722\">OneHotEncoder</label><div class=\"sk-toggleable__content\"><pre>OneHotEncoder(handle_unknown='ignore')</pre></div></div></div></div></div></div></div>"
      ],
      "text/plain": [
       "Pipeline(steps=[('imputation_constant',\n",
       "                 SimpleImputer(fill_value='missing', strategy='constant')),\n",
       "                ('onehot', OneHotEncoder(handle_unknown='ignore'))])"
      ]
     },
     "execution_count": 38,
     "metadata": {},
     "output_type": "execute_result"
    }
   ],
   "source": [
    "categorical_processor"
   ]
  },
  {
   "cell_type": "markdown",
   "metadata": {},
   "source": [
    "Now are going to combine both of these pipelines."
   ]
  },
  {
   "cell_type": "code",
   "execution_count": null,
   "metadata": {},
   "outputs": [],
   "source": [
    "from sklearn.compose import ColumnTransformer\n"
   ]
  }
 ],
 "metadata": {
  "kernelspec": {
   "display_name": "Python 3.9.7 64-bit",
   "language": "python",
   "name": "python3"
  },
  "language_info": {
   "codemirror_mode": {
    "name": "ipython",
    "version": 3
   },
   "file_extension": ".py",
   "mimetype": "text/x-python",
   "name": "python",
   "nbconvert_exporter": "python",
   "pygments_lexer": "ipython3",
   "version": "3.9.7"
  },
  "orig_nbformat": 4,
  "vscode": {
   "interpreter": {
    "hash": "d53f250bb2553594e063185717e70639c4fad0553ce47f360ebb15c939323966"
   }
  }
 },
 "nbformat": 4,
 "nbformat_minor": 2
}
