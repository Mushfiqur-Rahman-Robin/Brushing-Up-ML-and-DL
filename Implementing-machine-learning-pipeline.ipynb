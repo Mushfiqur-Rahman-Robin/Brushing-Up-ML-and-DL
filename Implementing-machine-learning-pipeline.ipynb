{
 "cells": [
  {
   "cell_type": "markdown",
   "metadata": {},
   "source": [
    "Pipeline of transforms with a final estimator.\n",
    "\n",
    "Sequentially apply a list of transforms and a final estimator. Intermediate steps of the pipeline must be ‘transforms’, that is, they must implement fit and transform methods. The final estimator only needs to implement fit. The transformers in the pipeline can be cached using memory argument.\n",
    "\n",
    "The purpose of the pipeline is to assemble several steps that can be cross-validated together while setting different parameters. For this, it enables setting parameters of the various steps using their names and the parameter name separated by a '__', as in the example below. A step’s estimator may be replaced entirely by setting the parameter with its name to another estimator, or a transformer removed by setting it to 'passthrough' or None.\n",
    "\n",
    "[https://www.youtube.com/watch?v=HZ9MUzCRlzI&ab_channel=KrishNaik]"
   ]
  },
  {
   "cell_type": "markdown",
   "metadata": {},
   "source": [
    "class sklearn.pipeline.Pipeline(steps, *, memory=None, verbose=False)\n",
    "\n",
    "[https://scikit-learn.org/stable/modules/generated/sklearn.pipeline.Pipeline.html]"
   ]
  },
  {
   "cell_type": "code",
   "execution_count": 1,
   "metadata": {},
   "outputs": [],
   "source": [
    "from sklearn.pipeline import Pipeline\n",
    "from sklearn.preprocessing import StandardScaler\n",
    "from sklearn.linear_model import LogisticRegression\n",
    "\n",
    "## StandardSclaer is a transformation technique and LogisticRegression is an estimator"
   ]
  },
  {
   "cell_type": "code",
   "execution_count": 2,
   "metadata": {},
   "outputs": [
    {
     "name": "stdout",
     "output_type": "stream",
     "text": [
      "[('standard_sclaer', StandardScaler()), ('classifier', LogisticRegression())]\n"
     ]
    }
   ],
   "source": [
    "steps = [(\"standard_sclaer\", StandardScaler()),\n",
    "        (\"classifier\", LogisticRegression())]\n",
    "\n",
    "print(steps)"
   ]
  },
  {
   "cell_type": "code",
   "execution_count": 3,
   "metadata": {},
   "outputs": [
    {
     "data": {
      "text/plain": [
       "Pipeline(steps=[('standard_sclaer', StandardScaler()),\n",
       "                ('classifier', LogisticRegression())])"
      ]
     },
     "execution_count": 3,
     "metadata": {},
     "output_type": "execute_result"
    }
   ],
   "source": [
    "Pipeline(steps)"
   ]
  },
  {
   "cell_type": "code",
   "execution_count": 4,
   "metadata": {},
   "outputs": [],
   "source": [
    "pipe = Pipeline(steps)"
   ]
  },
  {
   "cell_type": "code",
   "execution_count": 5,
   "metadata": {},
   "outputs": [],
   "source": [
    "# Now we are going to visualize the pipeline\n",
    "\n",
    "from sklearn import set_config\n",
    "set_config(display=\"diagram\")"
   ]
  },
  {
   "cell_type": "code",
   "execution_count": 6,
   "metadata": {},
   "outputs": [
    {
     "data": {
      "text/html": [
       "<style>#sk-d361daf3-d4cb-443e-b98f-6460364cba28 {color: black;background-color: white;}#sk-d361daf3-d4cb-443e-b98f-6460364cba28 pre{padding: 0;}#sk-d361daf3-d4cb-443e-b98f-6460364cba28 div.sk-toggleable {background-color: white;}#sk-d361daf3-d4cb-443e-b98f-6460364cba28 label.sk-toggleable__label {cursor: pointer;display: block;width: 100%;margin-bottom: 0;padding: 0.2em 0.3em;box-sizing: border-box;text-align: center;}#sk-d361daf3-d4cb-443e-b98f-6460364cba28 div.sk-toggleable__content {max-height: 0;max-width: 0;overflow: hidden;text-align: left;background-color: #f0f8ff;}#sk-d361daf3-d4cb-443e-b98f-6460364cba28 div.sk-toggleable__content pre {margin: 0.2em;color: black;border-radius: 0.25em;background-color: #f0f8ff;}#sk-d361daf3-d4cb-443e-b98f-6460364cba28 input.sk-toggleable__control:checked~div.sk-toggleable__content {max-height: 200px;max-width: 100%;overflow: auto;}#sk-d361daf3-d4cb-443e-b98f-6460364cba28 div.sk-estimator input.sk-toggleable__control:checked~label.sk-toggleable__label {background-color: #d4ebff;}#sk-d361daf3-d4cb-443e-b98f-6460364cba28 div.sk-label input.sk-toggleable__control:checked~label.sk-toggleable__label {background-color: #d4ebff;}#sk-d361daf3-d4cb-443e-b98f-6460364cba28 input.sk-hidden--visually {border: 0;clip: rect(1px 1px 1px 1px);clip: rect(1px, 1px, 1px, 1px);height: 1px;margin: -1px;overflow: hidden;padding: 0;position: absolute;width: 1px;}#sk-d361daf3-d4cb-443e-b98f-6460364cba28 div.sk-estimator {font-family: monospace;background-color: #f0f8ff;margin: 0.25em 0.25em;border: 1px dotted black;border-radius: 0.25em;box-sizing: border-box;}#sk-d361daf3-d4cb-443e-b98f-6460364cba28 div.sk-estimator:hover {background-color: #d4ebff;}#sk-d361daf3-d4cb-443e-b98f-6460364cba28 div.sk-parallel-item::after {content: \"\";width: 100%;border-bottom: 1px solid gray;flex-grow: 1;}#sk-d361daf3-d4cb-443e-b98f-6460364cba28 div.sk-label:hover label.sk-toggleable__label {background-color: #d4ebff;}#sk-d361daf3-d4cb-443e-b98f-6460364cba28 div.sk-serial::before {content: \"\";position: absolute;border-left: 1px solid gray;box-sizing: border-box;top: 2em;bottom: 0;left: 50%;}#sk-d361daf3-d4cb-443e-b98f-6460364cba28 div.sk-serial {display: flex;flex-direction: column;align-items: center;background-color: white;}#sk-d361daf3-d4cb-443e-b98f-6460364cba28 div.sk-item {z-index: 1;}#sk-d361daf3-d4cb-443e-b98f-6460364cba28 div.sk-parallel {display: flex;align-items: stretch;justify-content: center;background-color: white;}#sk-d361daf3-d4cb-443e-b98f-6460364cba28 div.sk-parallel-item {display: flex;flex-direction: column;position: relative;background-color: white;}#sk-d361daf3-d4cb-443e-b98f-6460364cba28 div.sk-parallel-item:first-child::after {align-self: flex-end;width: 50%;}#sk-d361daf3-d4cb-443e-b98f-6460364cba28 div.sk-parallel-item:last-child::after {align-self: flex-start;width: 50%;}#sk-d361daf3-d4cb-443e-b98f-6460364cba28 div.sk-parallel-item:only-child::after {width: 0;}#sk-d361daf3-d4cb-443e-b98f-6460364cba28 div.sk-dashed-wrapped {border: 1px dashed gray;margin: 0.2em;box-sizing: border-box;padding-bottom: 0.1em;background-color: white;position: relative;}#sk-d361daf3-d4cb-443e-b98f-6460364cba28 div.sk-label label {font-family: monospace;font-weight: bold;background-color: white;display: inline-block;line-height: 1.2em;}#sk-d361daf3-d4cb-443e-b98f-6460364cba28 div.sk-label-container {position: relative;z-index: 2;text-align: center;}#sk-d361daf3-d4cb-443e-b98f-6460364cba28 div.sk-container {display: inline-block;position: relative;}</style><div id=\"sk-d361daf3-d4cb-443e-b98f-6460364cba28\" class\"sk-top-container\"><div class=\"sk-container\"><div class=\"sk-item sk-dashed-wrapped\"><div class=\"sk-label-container\"><div class=\"sk-label sk-toggleable\"><input class=\"sk-toggleable__control sk-hidden--visually\" id=\"c3b3290f-7684-4546-a120-770e73280280\" type=\"checkbox\" ><label class=\"sk-toggleable__label\" for=\"c3b3290f-7684-4546-a120-770e73280280\">Pipeline</label><div class=\"sk-toggleable__content\"><pre>Pipeline(steps=[('standard_sclaer', StandardScaler()),\n",
       "                ('classifier', LogisticRegression())])</pre></div></div></div><div class=\"sk-serial\"><div class=\"sk-item\"><div class=\"sk-estimator sk-toggleable\"><input class=\"sk-toggleable__control sk-hidden--visually\" id=\"e90b6476-cf7d-40c0-a8de-5c17abd85c8d\" type=\"checkbox\" ><label class=\"sk-toggleable__label\" for=\"e90b6476-cf7d-40c0-a8de-5c17abd85c8d\">StandardScaler</label><div class=\"sk-toggleable__content\"><pre>StandardScaler()</pre></div></div></div><div class=\"sk-item\"><div class=\"sk-estimator sk-toggleable\"><input class=\"sk-toggleable__control sk-hidden--visually\" id=\"d948344e-78a6-493f-af55-d7cb552aa83b\" type=\"checkbox\" ><label class=\"sk-toggleable__label\" for=\"d948344e-78a6-493f-af55-d7cb552aa83b\">LogisticRegression</label><div class=\"sk-toggleable__content\"><pre>LogisticRegression()</pre></div></div></div></div></div></div></div>"
      ],
      "text/plain": [
       "Pipeline(steps=[('standard_sclaer', StandardScaler()),\n",
       "                ('classifier', LogisticRegression())])"
      ]
     },
     "execution_count": 6,
     "metadata": {},
     "output_type": "execute_result"
    }
   ],
   "source": [
    "pipe"
   ]
  },
  {
   "cell_type": "code",
   "execution_count": 7,
   "metadata": {},
   "outputs": [],
   "source": [
    "## create dataset\n",
    "from sklearn.datasets import make_classification\n",
    "\n",
    "X, y = make_classification(n_samples=1000)"
   ]
  },
  {
   "cell_type": "code",
   "execution_count": 8,
   "metadata": {},
   "outputs": [
    {
     "data": {
      "text/plain": [
       "((1000, 20), (1000,))"
      ]
     },
     "execution_count": 8,
     "metadata": {},
     "output_type": "execute_result"
    }
   ],
   "source": [
    "X.shape, y.shape"
   ]
  },
  {
   "cell_type": "code",
   "execution_count": 9,
   "metadata": {},
   "outputs": [],
   "source": [
    "from sklearn.model_selection import train_test_split\n",
    "\n",
    "X_train, X_test, y_train, y_test = train_test_split(X, y, random_state = 42, test_size = 0.3)"
   ]
  },
  {
   "cell_type": "code",
   "execution_count": 10,
   "metadata": {},
   "outputs": [
    {
     "data": {
      "text/plain": [
       "((700, 20), (300, 20), (700,), (300,))"
      ]
     },
     "execution_count": 10,
     "metadata": {},
     "output_type": "execute_result"
    }
   ],
   "source": [
    "X_train.shape, X_test.shape, y_train.shape, y_test.shape"
   ]
  },
  {
   "cell_type": "code",
   "execution_count": 11,
   "metadata": {},
   "outputs": [
    {
     "data": {
      "text/plain": [
       "array([[-1.09684136, -0.2438515 ,  0.21127497, ...,  0.53861212,\n",
       "        -0.75666194, -0.11702523],\n",
       "       [ 1.08391049,  1.02214624,  2.88561218, ...,  1.9927919 ,\n",
       "        -1.09011547,  2.06013994],\n",
       "       [ 0.61230331, -0.67302279,  1.14870126, ...,  1.271442  ,\n",
       "         0.56955592, -1.02641368],\n",
       "       ...,\n",
       "       [-1.04161287, -1.15185711,  1.26601888, ...,  1.04374367,\n",
       "         0.19326706,  0.13513589],\n",
       "       [ 0.80747217, -1.3002386 ,  0.11236367, ...,  1.73706923,\n",
       "        -0.92800346,  0.68595133],\n",
       "       [ 2.30960466, -0.68692388,  0.92239711, ...,  1.5269985 ,\n",
       "        -0.22134621,  0.88897436]])"
      ]
     },
     "execution_count": 11,
     "metadata": {},
     "output_type": "execute_result"
    }
   ],
   "source": [
    "X_train"
   ]
  },
  {
   "cell_type": "code",
   "execution_count": 12,
   "metadata": {},
   "outputs": [
    {
     "data": {
      "text/html": [
       "<style>#sk-2d23db22-0c50-4d48-93ca-3a966b4810c7 {color: black;background-color: white;}#sk-2d23db22-0c50-4d48-93ca-3a966b4810c7 pre{padding: 0;}#sk-2d23db22-0c50-4d48-93ca-3a966b4810c7 div.sk-toggleable {background-color: white;}#sk-2d23db22-0c50-4d48-93ca-3a966b4810c7 label.sk-toggleable__label {cursor: pointer;display: block;width: 100%;margin-bottom: 0;padding: 0.2em 0.3em;box-sizing: border-box;text-align: center;}#sk-2d23db22-0c50-4d48-93ca-3a966b4810c7 div.sk-toggleable__content {max-height: 0;max-width: 0;overflow: hidden;text-align: left;background-color: #f0f8ff;}#sk-2d23db22-0c50-4d48-93ca-3a966b4810c7 div.sk-toggleable__content pre {margin: 0.2em;color: black;border-radius: 0.25em;background-color: #f0f8ff;}#sk-2d23db22-0c50-4d48-93ca-3a966b4810c7 input.sk-toggleable__control:checked~div.sk-toggleable__content {max-height: 200px;max-width: 100%;overflow: auto;}#sk-2d23db22-0c50-4d48-93ca-3a966b4810c7 div.sk-estimator input.sk-toggleable__control:checked~label.sk-toggleable__label {background-color: #d4ebff;}#sk-2d23db22-0c50-4d48-93ca-3a966b4810c7 div.sk-label input.sk-toggleable__control:checked~label.sk-toggleable__label {background-color: #d4ebff;}#sk-2d23db22-0c50-4d48-93ca-3a966b4810c7 input.sk-hidden--visually {border: 0;clip: rect(1px 1px 1px 1px);clip: rect(1px, 1px, 1px, 1px);height: 1px;margin: -1px;overflow: hidden;padding: 0;position: absolute;width: 1px;}#sk-2d23db22-0c50-4d48-93ca-3a966b4810c7 div.sk-estimator {font-family: monospace;background-color: #f0f8ff;margin: 0.25em 0.25em;border: 1px dotted black;border-radius: 0.25em;box-sizing: border-box;}#sk-2d23db22-0c50-4d48-93ca-3a966b4810c7 div.sk-estimator:hover {background-color: #d4ebff;}#sk-2d23db22-0c50-4d48-93ca-3a966b4810c7 div.sk-parallel-item::after {content: \"\";width: 100%;border-bottom: 1px solid gray;flex-grow: 1;}#sk-2d23db22-0c50-4d48-93ca-3a966b4810c7 div.sk-label:hover label.sk-toggleable__label {background-color: #d4ebff;}#sk-2d23db22-0c50-4d48-93ca-3a966b4810c7 div.sk-serial::before {content: \"\";position: absolute;border-left: 1px solid gray;box-sizing: border-box;top: 2em;bottom: 0;left: 50%;}#sk-2d23db22-0c50-4d48-93ca-3a966b4810c7 div.sk-serial {display: flex;flex-direction: column;align-items: center;background-color: white;}#sk-2d23db22-0c50-4d48-93ca-3a966b4810c7 div.sk-item {z-index: 1;}#sk-2d23db22-0c50-4d48-93ca-3a966b4810c7 div.sk-parallel {display: flex;align-items: stretch;justify-content: center;background-color: white;}#sk-2d23db22-0c50-4d48-93ca-3a966b4810c7 div.sk-parallel-item {display: flex;flex-direction: column;position: relative;background-color: white;}#sk-2d23db22-0c50-4d48-93ca-3a966b4810c7 div.sk-parallel-item:first-child::after {align-self: flex-end;width: 50%;}#sk-2d23db22-0c50-4d48-93ca-3a966b4810c7 div.sk-parallel-item:last-child::after {align-self: flex-start;width: 50%;}#sk-2d23db22-0c50-4d48-93ca-3a966b4810c7 div.sk-parallel-item:only-child::after {width: 0;}#sk-2d23db22-0c50-4d48-93ca-3a966b4810c7 div.sk-dashed-wrapped {border: 1px dashed gray;margin: 0.2em;box-sizing: border-box;padding-bottom: 0.1em;background-color: white;position: relative;}#sk-2d23db22-0c50-4d48-93ca-3a966b4810c7 div.sk-label label {font-family: monospace;font-weight: bold;background-color: white;display: inline-block;line-height: 1.2em;}#sk-2d23db22-0c50-4d48-93ca-3a966b4810c7 div.sk-label-container {position: relative;z-index: 2;text-align: center;}#sk-2d23db22-0c50-4d48-93ca-3a966b4810c7 div.sk-container {display: inline-block;position: relative;}</style><div id=\"sk-2d23db22-0c50-4d48-93ca-3a966b4810c7\" class\"sk-top-container\"><div class=\"sk-container\"><div class=\"sk-item sk-dashed-wrapped\"><div class=\"sk-label-container\"><div class=\"sk-label sk-toggleable\"><input class=\"sk-toggleable__control sk-hidden--visually\" id=\"0f634f5e-4b6d-4bac-b039-b6af6d40bc7c\" type=\"checkbox\" ><label class=\"sk-toggleable__label\" for=\"0f634f5e-4b6d-4bac-b039-b6af6d40bc7c\">Pipeline</label><div class=\"sk-toggleable__content\"><pre>Pipeline(steps=[('standard_sclaer', StandardScaler()),\n",
       "                ('classifier', LogisticRegression())])</pre></div></div></div><div class=\"sk-serial\"><div class=\"sk-item\"><div class=\"sk-estimator sk-toggleable\"><input class=\"sk-toggleable__control sk-hidden--visually\" id=\"37d51fd8-7a9d-494a-9768-2e38c792e119\" type=\"checkbox\" ><label class=\"sk-toggleable__label\" for=\"37d51fd8-7a9d-494a-9768-2e38c792e119\">StandardScaler</label><div class=\"sk-toggleable__content\"><pre>StandardScaler()</pre></div></div></div><div class=\"sk-item\"><div class=\"sk-estimator sk-toggleable\"><input class=\"sk-toggleable__control sk-hidden--visually\" id=\"c9aeee7d-4934-4f01-98cf-9cd1c21625e0\" type=\"checkbox\" ><label class=\"sk-toggleable__label\" for=\"c9aeee7d-4934-4f01-98cf-9cd1c21625e0\">LogisticRegression</label><div class=\"sk-toggleable__content\"><pre>LogisticRegression()</pre></div></div></div></div></div></div></div>"
      ],
      "text/plain": [
       "Pipeline(steps=[('standard_sclaer', StandardScaler()),\n",
       "                ('classifier', LogisticRegression())])"
      ]
     },
     "execution_count": 12,
     "metadata": {},
     "output_type": "execute_result"
    }
   ],
   "source": [
    "pipe.fit(X_train, y_train)  # we don't need to transform data separetly using standardscaler. The data transformation will be done inside \n",
    "                            # the pipeline and logistic regression will be performed."
   ]
  },
  {
   "cell_type": "code",
   "execution_count": 13,
   "metadata": {},
   "outputs": [],
   "source": [
    "y_pred = pipe.predict(X_test) # only transform is performed (no fit is required)"
   ]
  },
  {
   "cell_type": "code",
   "execution_count": 14,
   "metadata": {},
   "outputs": [
    {
     "data": {
      "text/plain": [
       "array([1, 1, 0, 0, 0, 0, 1, 1, 0, 0, 0, 1, 0, 1, 0, 0, 0, 1, 0, 0, 1, 0,\n",
       "       0, 1, 1, 0, 0, 0, 1, 1, 0, 1, 1, 0, 0, 0, 0, 0, 1, 0, 0, 0, 1, 0,\n",
       "       1, 1, 0, 1, 0, 0, 1, 1, 1, 1, 1, 0, 0, 0, 0, 1, 1, 1, 0, 0, 0, 1,\n",
       "       0, 0, 1, 0, 0, 0, 1, 0, 1, 0, 0, 1, 0, 0, 0, 1, 0, 1, 1, 1, 1, 0,\n",
       "       1, 1, 0, 0, 1, 0, 1, 1, 1, 1, 1, 0, 1, 0, 1, 1, 1, 1, 0, 1, 1, 0,\n",
       "       1, 1, 1, 0, 0, 1, 0, 0, 0, 0, 0, 0, 1, 1, 1, 1, 0, 1, 0, 0, 0, 1,\n",
       "       1, 1, 0, 0, 1, 0, 1, 0, 1, 1, 1, 1, 1, 1, 0, 0, 1, 1, 0, 1, 0, 0,\n",
       "       1, 1, 1, 1, 0, 1, 0, 0, 1, 0, 0, 1, 1, 0, 0, 1, 1, 0, 0, 1, 0, 0,\n",
       "       1, 1, 0, 0, 1, 1, 0, 0, 0, 0, 0, 1, 0, 1, 1, 0, 0, 1, 1, 1, 1, 1,\n",
       "       1, 1, 1, 1, 1, 0, 1, 1, 0, 1, 1, 0, 1, 0, 1, 1, 1, 0, 0, 1, 0, 0,\n",
       "       1, 0, 0, 1, 0, 0, 0, 1, 1, 0, 1, 0, 0, 1, 1, 1, 1, 0, 0, 1, 0, 1,\n",
       "       1, 1, 1, 1, 0, 1, 0, 0, 0, 1, 0, 1, 0, 1, 0, 0, 1, 1, 1, 0, 1, 0,\n",
       "       1, 0, 1, 0, 1, 1, 1, 1, 0, 1, 1, 1, 1, 1, 0, 0, 1, 1, 0, 0, 1, 1,\n",
       "       1, 1, 1, 0, 1, 1, 0, 0, 1, 1, 1, 1, 0, 0])"
      ]
     },
     "execution_count": 14,
     "metadata": {},
     "output_type": "execute_result"
    }
   ],
   "source": [
    "y_pred"
   ]
  },
  {
   "cell_type": "markdown",
   "metadata": {},
   "source": [
    "This time we will combine pre-processing steps. Let's see how we can perform this using pipeline.\n",
    "\n",
    "Standard Scaling ---> PCA ---> Estimator"
   ]
  },
  {
   "cell_type": "code",
   "execution_count": 15,
   "metadata": {},
   "outputs": [],
   "source": [
    "from sklearn.decomposition import PCA\n",
    "from sklearn.svm import SVC"
   ]
  },
  {
   "cell_type": "code",
   "execution_count": 16,
   "metadata": {},
   "outputs": [],
   "source": [
    "steps = [(\"standard_scaler\", StandardScaler()), \n",
    "        (\"pca\", PCA(n_components = 3)),\n",
    "        (\"svc\", SVC())]"
   ]
  },
  {
   "cell_type": "code",
   "execution_count": 17,
   "metadata": {},
   "outputs": [
    {
     "data": {
      "text/plain": [
       "[('standard_scaler', StandardScaler()),\n",
       " ('pca', PCA(n_components=3)),\n",
       " ('svc', SVC())]"
      ]
     },
     "execution_count": 17,
     "metadata": {},
     "output_type": "execute_result"
    }
   ],
   "source": [
    "steps"
   ]
  },
  {
   "cell_type": "code",
   "execution_count": 18,
   "metadata": {},
   "outputs": [
    {
     "name": "stdout",
     "output_type": "stream",
     "text": [
      "Pipeline(steps=[('standard_scaler', StandardScaler()),\n",
      "                ('pca', PCA(n_components=3)), ('svc', SVC())])\n"
     ]
    }
   ],
   "source": [
    "pipe = Pipeline(steps)\n",
    "print(pipe)"
   ]
  },
  {
   "cell_type": "code",
   "execution_count": 19,
   "metadata": {},
   "outputs": [
    {
     "data": {
      "text/html": [
       "<style>#sk-e99ef9d0-b403-4ef4-b2d9-82b9386b0f4b {color: black;background-color: white;}#sk-e99ef9d0-b403-4ef4-b2d9-82b9386b0f4b pre{padding: 0;}#sk-e99ef9d0-b403-4ef4-b2d9-82b9386b0f4b div.sk-toggleable {background-color: white;}#sk-e99ef9d0-b403-4ef4-b2d9-82b9386b0f4b label.sk-toggleable__label {cursor: pointer;display: block;width: 100%;margin-bottom: 0;padding: 0.2em 0.3em;box-sizing: border-box;text-align: center;}#sk-e99ef9d0-b403-4ef4-b2d9-82b9386b0f4b div.sk-toggleable__content {max-height: 0;max-width: 0;overflow: hidden;text-align: left;background-color: #f0f8ff;}#sk-e99ef9d0-b403-4ef4-b2d9-82b9386b0f4b div.sk-toggleable__content pre {margin: 0.2em;color: black;border-radius: 0.25em;background-color: #f0f8ff;}#sk-e99ef9d0-b403-4ef4-b2d9-82b9386b0f4b input.sk-toggleable__control:checked~div.sk-toggleable__content {max-height: 200px;max-width: 100%;overflow: auto;}#sk-e99ef9d0-b403-4ef4-b2d9-82b9386b0f4b div.sk-estimator input.sk-toggleable__control:checked~label.sk-toggleable__label {background-color: #d4ebff;}#sk-e99ef9d0-b403-4ef4-b2d9-82b9386b0f4b div.sk-label input.sk-toggleable__control:checked~label.sk-toggleable__label {background-color: #d4ebff;}#sk-e99ef9d0-b403-4ef4-b2d9-82b9386b0f4b input.sk-hidden--visually {border: 0;clip: rect(1px 1px 1px 1px);clip: rect(1px, 1px, 1px, 1px);height: 1px;margin: -1px;overflow: hidden;padding: 0;position: absolute;width: 1px;}#sk-e99ef9d0-b403-4ef4-b2d9-82b9386b0f4b div.sk-estimator {font-family: monospace;background-color: #f0f8ff;margin: 0.25em 0.25em;border: 1px dotted black;border-radius: 0.25em;box-sizing: border-box;}#sk-e99ef9d0-b403-4ef4-b2d9-82b9386b0f4b div.sk-estimator:hover {background-color: #d4ebff;}#sk-e99ef9d0-b403-4ef4-b2d9-82b9386b0f4b div.sk-parallel-item::after {content: \"\";width: 100%;border-bottom: 1px solid gray;flex-grow: 1;}#sk-e99ef9d0-b403-4ef4-b2d9-82b9386b0f4b div.sk-label:hover label.sk-toggleable__label {background-color: #d4ebff;}#sk-e99ef9d0-b403-4ef4-b2d9-82b9386b0f4b div.sk-serial::before {content: \"\";position: absolute;border-left: 1px solid gray;box-sizing: border-box;top: 2em;bottom: 0;left: 50%;}#sk-e99ef9d0-b403-4ef4-b2d9-82b9386b0f4b div.sk-serial {display: flex;flex-direction: column;align-items: center;background-color: white;}#sk-e99ef9d0-b403-4ef4-b2d9-82b9386b0f4b div.sk-item {z-index: 1;}#sk-e99ef9d0-b403-4ef4-b2d9-82b9386b0f4b div.sk-parallel {display: flex;align-items: stretch;justify-content: center;background-color: white;}#sk-e99ef9d0-b403-4ef4-b2d9-82b9386b0f4b div.sk-parallel-item {display: flex;flex-direction: column;position: relative;background-color: white;}#sk-e99ef9d0-b403-4ef4-b2d9-82b9386b0f4b div.sk-parallel-item:first-child::after {align-self: flex-end;width: 50%;}#sk-e99ef9d0-b403-4ef4-b2d9-82b9386b0f4b div.sk-parallel-item:last-child::after {align-self: flex-start;width: 50%;}#sk-e99ef9d0-b403-4ef4-b2d9-82b9386b0f4b div.sk-parallel-item:only-child::after {width: 0;}#sk-e99ef9d0-b403-4ef4-b2d9-82b9386b0f4b div.sk-dashed-wrapped {border: 1px dashed gray;margin: 0.2em;box-sizing: border-box;padding-bottom: 0.1em;background-color: white;position: relative;}#sk-e99ef9d0-b403-4ef4-b2d9-82b9386b0f4b div.sk-label label {font-family: monospace;font-weight: bold;background-color: white;display: inline-block;line-height: 1.2em;}#sk-e99ef9d0-b403-4ef4-b2d9-82b9386b0f4b div.sk-label-container {position: relative;z-index: 2;text-align: center;}#sk-e99ef9d0-b403-4ef4-b2d9-82b9386b0f4b div.sk-container {display: inline-block;position: relative;}</style><div id=\"sk-e99ef9d0-b403-4ef4-b2d9-82b9386b0f4b\" class\"sk-top-container\"><div class=\"sk-container\"><div class=\"sk-item sk-dashed-wrapped\"><div class=\"sk-label-container\"><div class=\"sk-label sk-toggleable\"><input class=\"sk-toggleable__control sk-hidden--visually\" id=\"e6174eb0-5690-4a4d-81b7-c5355daccfa4\" type=\"checkbox\" ><label class=\"sk-toggleable__label\" for=\"e6174eb0-5690-4a4d-81b7-c5355daccfa4\">Pipeline</label><div class=\"sk-toggleable__content\"><pre>Pipeline(steps=[('standard_scaler', StandardScaler()),\n",
       "                ('pca', PCA(n_components=3)), ('svc', SVC())])</pre></div></div></div><div class=\"sk-serial\"><div class=\"sk-item\"><div class=\"sk-estimator sk-toggleable\"><input class=\"sk-toggleable__control sk-hidden--visually\" id=\"55eff48d-78e8-4ea8-96bf-92f2b32f7701\" type=\"checkbox\" ><label class=\"sk-toggleable__label\" for=\"55eff48d-78e8-4ea8-96bf-92f2b32f7701\">StandardScaler</label><div class=\"sk-toggleable__content\"><pre>StandardScaler()</pre></div></div></div><div class=\"sk-item\"><div class=\"sk-estimator sk-toggleable\"><input class=\"sk-toggleable__control sk-hidden--visually\" id=\"ac3e8003-1ea6-45cc-a9f7-caa8af6607de\" type=\"checkbox\" ><label class=\"sk-toggleable__label\" for=\"ac3e8003-1ea6-45cc-a9f7-caa8af6607de\">PCA</label><div class=\"sk-toggleable__content\"><pre>PCA(n_components=3)</pre></div></div></div><div class=\"sk-item\"><div class=\"sk-estimator sk-toggleable\"><input class=\"sk-toggleable__control sk-hidden--visually\" id=\"ff1aaf5d-45d0-4685-9616-47a1e229cb7e\" type=\"checkbox\" ><label class=\"sk-toggleable__label\" for=\"ff1aaf5d-45d0-4685-9616-47a1e229cb7e\">SVC</label><div class=\"sk-toggleable__content\"><pre>SVC()</pre></div></div></div></div></div></div></div>"
      ],
      "text/plain": [
       "Pipeline(steps=[('standard_scaler', StandardScaler()),\n",
       "                ('pca', PCA(n_components=3)), ('svc', SVC())])"
      ]
     },
     "execution_count": 19,
     "metadata": {},
     "output_type": "execute_result"
    }
   ],
   "source": [
    "pipe"
   ]
  },
  {
   "cell_type": "code",
   "execution_count": 20,
   "metadata": {},
   "outputs": [],
   "source": [
    "# pipe['standard_scaler'].fit_transform(X_train)   # In case, if we want to check if a particular pipeline is working correctly\n",
    "                                                # we need to use the key to access it"
   ]
  },
  {
   "cell_type": "code",
   "execution_count": 21,
   "metadata": {},
   "outputs": [
    {
     "data": {
      "text/html": [
       "<style>#sk-fb729fb3-dc91-4ae6-9303-c9ded19cea9a {color: black;background-color: white;}#sk-fb729fb3-dc91-4ae6-9303-c9ded19cea9a pre{padding: 0;}#sk-fb729fb3-dc91-4ae6-9303-c9ded19cea9a div.sk-toggleable {background-color: white;}#sk-fb729fb3-dc91-4ae6-9303-c9ded19cea9a label.sk-toggleable__label {cursor: pointer;display: block;width: 100%;margin-bottom: 0;padding: 0.2em 0.3em;box-sizing: border-box;text-align: center;}#sk-fb729fb3-dc91-4ae6-9303-c9ded19cea9a div.sk-toggleable__content {max-height: 0;max-width: 0;overflow: hidden;text-align: left;background-color: #f0f8ff;}#sk-fb729fb3-dc91-4ae6-9303-c9ded19cea9a div.sk-toggleable__content pre {margin: 0.2em;color: black;border-radius: 0.25em;background-color: #f0f8ff;}#sk-fb729fb3-dc91-4ae6-9303-c9ded19cea9a input.sk-toggleable__control:checked~div.sk-toggleable__content {max-height: 200px;max-width: 100%;overflow: auto;}#sk-fb729fb3-dc91-4ae6-9303-c9ded19cea9a div.sk-estimator input.sk-toggleable__control:checked~label.sk-toggleable__label {background-color: #d4ebff;}#sk-fb729fb3-dc91-4ae6-9303-c9ded19cea9a div.sk-label input.sk-toggleable__control:checked~label.sk-toggleable__label {background-color: #d4ebff;}#sk-fb729fb3-dc91-4ae6-9303-c9ded19cea9a input.sk-hidden--visually {border: 0;clip: rect(1px 1px 1px 1px);clip: rect(1px, 1px, 1px, 1px);height: 1px;margin: -1px;overflow: hidden;padding: 0;position: absolute;width: 1px;}#sk-fb729fb3-dc91-4ae6-9303-c9ded19cea9a div.sk-estimator {font-family: monospace;background-color: #f0f8ff;margin: 0.25em 0.25em;border: 1px dotted black;border-radius: 0.25em;box-sizing: border-box;}#sk-fb729fb3-dc91-4ae6-9303-c9ded19cea9a div.sk-estimator:hover {background-color: #d4ebff;}#sk-fb729fb3-dc91-4ae6-9303-c9ded19cea9a div.sk-parallel-item::after {content: \"\";width: 100%;border-bottom: 1px solid gray;flex-grow: 1;}#sk-fb729fb3-dc91-4ae6-9303-c9ded19cea9a div.sk-label:hover label.sk-toggleable__label {background-color: #d4ebff;}#sk-fb729fb3-dc91-4ae6-9303-c9ded19cea9a div.sk-serial::before {content: \"\";position: absolute;border-left: 1px solid gray;box-sizing: border-box;top: 2em;bottom: 0;left: 50%;}#sk-fb729fb3-dc91-4ae6-9303-c9ded19cea9a div.sk-serial {display: flex;flex-direction: column;align-items: center;background-color: white;}#sk-fb729fb3-dc91-4ae6-9303-c9ded19cea9a div.sk-item {z-index: 1;}#sk-fb729fb3-dc91-4ae6-9303-c9ded19cea9a div.sk-parallel {display: flex;align-items: stretch;justify-content: center;background-color: white;}#sk-fb729fb3-dc91-4ae6-9303-c9ded19cea9a div.sk-parallel-item {display: flex;flex-direction: column;position: relative;background-color: white;}#sk-fb729fb3-dc91-4ae6-9303-c9ded19cea9a div.sk-parallel-item:first-child::after {align-self: flex-end;width: 50%;}#sk-fb729fb3-dc91-4ae6-9303-c9ded19cea9a div.sk-parallel-item:last-child::after {align-self: flex-start;width: 50%;}#sk-fb729fb3-dc91-4ae6-9303-c9ded19cea9a div.sk-parallel-item:only-child::after {width: 0;}#sk-fb729fb3-dc91-4ae6-9303-c9ded19cea9a div.sk-dashed-wrapped {border: 1px dashed gray;margin: 0.2em;box-sizing: border-box;padding-bottom: 0.1em;background-color: white;position: relative;}#sk-fb729fb3-dc91-4ae6-9303-c9ded19cea9a div.sk-label label {font-family: monospace;font-weight: bold;background-color: white;display: inline-block;line-height: 1.2em;}#sk-fb729fb3-dc91-4ae6-9303-c9ded19cea9a div.sk-label-container {position: relative;z-index: 2;text-align: center;}#sk-fb729fb3-dc91-4ae6-9303-c9ded19cea9a div.sk-container {display: inline-block;position: relative;}</style><div id=\"sk-fb729fb3-dc91-4ae6-9303-c9ded19cea9a\" class\"sk-top-container\"><div class=\"sk-container\"><div class=\"sk-item sk-dashed-wrapped\"><div class=\"sk-label-container\"><div class=\"sk-label sk-toggleable\"><input class=\"sk-toggleable__control sk-hidden--visually\" id=\"77cf791d-5960-421f-97d3-296c33450d8c\" type=\"checkbox\" ><label class=\"sk-toggleable__label\" for=\"77cf791d-5960-421f-97d3-296c33450d8c\">Pipeline</label><div class=\"sk-toggleable__content\"><pre>Pipeline(steps=[('standard_scaler', StandardScaler()),\n",
       "                ('pca', PCA(n_components=3)), ('svc', SVC())])</pre></div></div></div><div class=\"sk-serial\"><div class=\"sk-item\"><div class=\"sk-estimator sk-toggleable\"><input class=\"sk-toggleable__control sk-hidden--visually\" id=\"3b42057e-ac49-44c3-85fa-5bca264f8211\" type=\"checkbox\" ><label class=\"sk-toggleable__label\" for=\"3b42057e-ac49-44c3-85fa-5bca264f8211\">StandardScaler</label><div class=\"sk-toggleable__content\"><pre>StandardScaler()</pre></div></div></div><div class=\"sk-item\"><div class=\"sk-estimator sk-toggleable\"><input class=\"sk-toggleable__control sk-hidden--visually\" id=\"f52ba1ad-2ac2-4dac-bb1e-a65ee3d225c6\" type=\"checkbox\" ><label class=\"sk-toggleable__label\" for=\"f52ba1ad-2ac2-4dac-bb1e-a65ee3d225c6\">PCA</label><div class=\"sk-toggleable__content\"><pre>PCA(n_components=3)</pre></div></div></div><div class=\"sk-item\"><div class=\"sk-estimator sk-toggleable\"><input class=\"sk-toggleable__control sk-hidden--visually\" id=\"62a76e3a-e529-4b94-9b3c-772b2d8acfd2\" type=\"checkbox\" ><label class=\"sk-toggleable__label\" for=\"62a76e3a-e529-4b94-9b3c-772b2d8acfd2\">SVC</label><div class=\"sk-toggleable__content\"><pre>SVC()</pre></div></div></div></div></div></div></div>"
      ],
      "text/plain": [
       "Pipeline(steps=[('standard_scaler', StandardScaler()),\n",
       "                ('pca', PCA(n_components=3)), ('svc', SVC())])"
      ]
     },
     "execution_count": 21,
     "metadata": {},
     "output_type": "execute_result"
    }
   ],
   "source": [
    "pipe.fit(X_train, y_train)"
   ]
  },
  {
   "cell_type": "code",
   "execution_count": 22,
   "metadata": {},
   "outputs": [
    {
     "data": {
      "text/plain": [
       "array([0, 0, 0, 0, 0, 0, 1, 1, 0, 0, 0, 1, 0, 0, 0, 0, 0, 1, 1, 0, 1, 0,\n",
       "       0, 0, 1, 0, 0, 0, 1, 0, 0, 1, 0, 0, 0, 0, 0, 0, 1, 0, 0, 0, 0, 0,\n",
       "       1, 0, 0, 1, 0, 0, 1, 1, 0, 1, 1, 0, 1, 0, 0, 1, 1, 0, 0, 0, 0, 0,\n",
       "       0, 1, 1, 0, 0, 1, 1, 0, 0, 1, 0, 1, 0, 0, 0, 1, 0, 0, 1, 1, 0, 0,\n",
       "       0, 0, 0, 0, 0, 0, 1, 1, 1, 0, 1, 0, 1, 0, 0, 1, 1, 0, 0, 0, 1, 0,\n",
       "       1, 1, 1, 0, 0, 1, 0, 0, 1, 0, 1, 1, 0, 1, 1, 1, 0, 1, 0, 0, 0, 1,\n",
       "       1, 1, 0, 0, 1, 1, 1, 0, 1, 1, 1, 1, 0, 0, 0, 0, 0, 1, 0, 0, 1, 1,\n",
       "       1, 1, 0, 1, 1, 0, 0, 0, 1, 0, 1, 0, 0, 0, 0, 1, 1, 1, 1, 1, 0, 0,\n",
       "       1, 1, 0, 0, 1, 1, 0, 0, 0, 0, 0, 1, 0, 1, 1, 0, 0, 0, 1, 1, 0, 1,\n",
       "       0, 1, 0, 1, 1, 0, 1, 1, 0, 1, 1, 0, 0, 0, 1, 1, 1, 0, 0, 1, 0, 0,\n",
       "       1, 0, 0, 0, 0, 0, 0, 1, 1, 0, 0, 0, 1, 1, 1, 1, 0, 0, 0, 1, 1, 1,\n",
       "       1, 1, 0, 1, 0, 1, 1, 0, 0, 1, 0, 1, 0, 0, 0, 1, 1, 1, 0, 0, 1, 0,\n",
       "       1, 0, 1, 0, 1, 1, 1, 0, 0, 0, 0, 1, 1, 1, 0, 1, 0, 1, 0, 0, 1, 1,\n",
       "       1, 1, 0, 0, 1, 1, 0, 0, 1, 1, 1, 1, 1, 0])"
      ]
     },
     "execution_count": 22,
     "metadata": {},
     "output_type": "execute_result"
    }
   ],
   "source": [
    "pipe.predict(X_test)"
   ]
  },
  {
   "cell_type": "markdown",
   "metadata": {},
   "source": [
    "Now we are going to see a new example of column transformer."
   ]
  },
  {
   "cell_type": "code",
   "execution_count": 23,
   "metadata": {},
   "outputs": [],
   "source": [
    "from sklearn.impute import SimpleImputer  # numerical variable imputing\n",
    "import numpy as np"
   ]
  },
  {
   "cell_type": "code",
   "execution_count": 24,
   "metadata": {},
   "outputs": [],
   "source": [
    "numeric_processor = Pipeline(steps = [(\"imputation_mean\", SimpleImputer(missing_values=np.nan, strategy=\"mean\")),\n",
    "                    (\"standard_scaler\", StandardScaler())])\n",
    "\n",
    "                    # this pipeline is created for creating numerical data processing"
   ]
  },
  {
   "cell_type": "code",
   "execution_count": 25,
   "metadata": {},
   "outputs": [
    {
     "data": {
      "text/html": [
       "<style>#sk-5494f8ee-649e-4844-a327-a0522190732b {color: black;background-color: white;}#sk-5494f8ee-649e-4844-a327-a0522190732b pre{padding: 0;}#sk-5494f8ee-649e-4844-a327-a0522190732b div.sk-toggleable {background-color: white;}#sk-5494f8ee-649e-4844-a327-a0522190732b label.sk-toggleable__label {cursor: pointer;display: block;width: 100%;margin-bottom: 0;padding: 0.2em 0.3em;box-sizing: border-box;text-align: center;}#sk-5494f8ee-649e-4844-a327-a0522190732b div.sk-toggleable__content {max-height: 0;max-width: 0;overflow: hidden;text-align: left;background-color: #f0f8ff;}#sk-5494f8ee-649e-4844-a327-a0522190732b div.sk-toggleable__content pre {margin: 0.2em;color: black;border-radius: 0.25em;background-color: #f0f8ff;}#sk-5494f8ee-649e-4844-a327-a0522190732b input.sk-toggleable__control:checked~div.sk-toggleable__content {max-height: 200px;max-width: 100%;overflow: auto;}#sk-5494f8ee-649e-4844-a327-a0522190732b div.sk-estimator input.sk-toggleable__control:checked~label.sk-toggleable__label {background-color: #d4ebff;}#sk-5494f8ee-649e-4844-a327-a0522190732b div.sk-label input.sk-toggleable__control:checked~label.sk-toggleable__label {background-color: #d4ebff;}#sk-5494f8ee-649e-4844-a327-a0522190732b input.sk-hidden--visually {border: 0;clip: rect(1px 1px 1px 1px);clip: rect(1px, 1px, 1px, 1px);height: 1px;margin: -1px;overflow: hidden;padding: 0;position: absolute;width: 1px;}#sk-5494f8ee-649e-4844-a327-a0522190732b div.sk-estimator {font-family: monospace;background-color: #f0f8ff;margin: 0.25em 0.25em;border: 1px dotted black;border-radius: 0.25em;box-sizing: border-box;}#sk-5494f8ee-649e-4844-a327-a0522190732b div.sk-estimator:hover {background-color: #d4ebff;}#sk-5494f8ee-649e-4844-a327-a0522190732b div.sk-parallel-item::after {content: \"\";width: 100%;border-bottom: 1px solid gray;flex-grow: 1;}#sk-5494f8ee-649e-4844-a327-a0522190732b div.sk-label:hover label.sk-toggleable__label {background-color: #d4ebff;}#sk-5494f8ee-649e-4844-a327-a0522190732b div.sk-serial::before {content: \"\";position: absolute;border-left: 1px solid gray;box-sizing: border-box;top: 2em;bottom: 0;left: 50%;}#sk-5494f8ee-649e-4844-a327-a0522190732b div.sk-serial {display: flex;flex-direction: column;align-items: center;background-color: white;}#sk-5494f8ee-649e-4844-a327-a0522190732b div.sk-item {z-index: 1;}#sk-5494f8ee-649e-4844-a327-a0522190732b div.sk-parallel {display: flex;align-items: stretch;justify-content: center;background-color: white;}#sk-5494f8ee-649e-4844-a327-a0522190732b div.sk-parallel-item {display: flex;flex-direction: column;position: relative;background-color: white;}#sk-5494f8ee-649e-4844-a327-a0522190732b div.sk-parallel-item:first-child::after {align-self: flex-end;width: 50%;}#sk-5494f8ee-649e-4844-a327-a0522190732b div.sk-parallel-item:last-child::after {align-self: flex-start;width: 50%;}#sk-5494f8ee-649e-4844-a327-a0522190732b div.sk-parallel-item:only-child::after {width: 0;}#sk-5494f8ee-649e-4844-a327-a0522190732b div.sk-dashed-wrapped {border: 1px dashed gray;margin: 0.2em;box-sizing: border-box;padding-bottom: 0.1em;background-color: white;position: relative;}#sk-5494f8ee-649e-4844-a327-a0522190732b div.sk-label label {font-family: monospace;font-weight: bold;background-color: white;display: inline-block;line-height: 1.2em;}#sk-5494f8ee-649e-4844-a327-a0522190732b div.sk-label-container {position: relative;z-index: 2;text-align: center;}#sk-5494f8ee-649e-4844-a327-a0522190732b div.sk-container {display: inline-block;position: relative;}</style><div id=\"sk-5494f8ee-649e-4844-a327-a0522190732b\" class\"sk-top-container\"><div class=\"sk-container\"><div class=\"sk-item sk-dashed-wrapped\"><div class=\"sk-label-container\"><div class=\"sk-label sk-toggleable\"><input class=\"sk-toggleable__control sk-hidden--visually\" id=\"5d03b436-d587-44fa-91f5-2081e6b579a1\" type=\"checkbox\" ><label class=\"sk-toggleable__label\" for=\"5d03b436-d587-44fa-91f5-2081e6b579a1\">Pipeline</label><div class=\"sk-toggleable__content\"><pre>Pipeline(steps=[('imputation_mean', SimpleImputer()),\n",
       "                ('standard_scaler', StandardScaler())])</pre></div></div></div><div class=\"sk-serial\"><div class=\"sk-item\"><div class=\"sk-estimator sk-toggleable\"><input class=\"sk-toggleable__control sk-hidden--visually\" id=\"e5a6005b-9ce0-45ae-a2b7-f114ba3d5638\" type=\"checkbox\" ><label class=\"sk-toggleable__label\" for=\"e5a6005b-9ce0-45ae-a2b7-f114ba3d5638\">SimpleImputer</label><div class=\"sk-toggleable__content\"><pre>SimpleImputer()</pre></div></div></div><div class=\"sk-item\"><div class=\"sk-estimator sk-toggleable\"><input class=\"sk-toggleable__control sk-hidden--visually\" id=\"30601721-ef33-411b-9c6f-1583bc6b8b50\" type=\"checkbox\" ><label class=\"sk-toggleable__label\" for=\"30601721-ef33-411b-9c6f-1583bc6b8b50\">StandardScaler</label><div class=\"sk-toggleable__content\"><pre>StandardScaler()</pre></div></div></div></div></div></div></div>"
      ],
      "text/plain": [
       "Pipeline(steps=[('imputation_mean', SimpleImputer()),\n",
       "                ('standard_scaler', StandardScaler())])"
      ]
     },
     "execution_count": 25,
     "metadata": {},
     "output_type": "execute_result"
    }
   ],
   "source": [
    "numeric_processor"
   ]
  },
  {
   "cell_type": "code",
   "execution_count": 26,
   "metadata": {},
   "outputs": [],
   "source": [
    "from sklearn.preprocessing import OneHotEncoder\n",
    "\n",
    "categorical_processor = Pipeline(steps = [(\"imputation_constant\", SimpleImputer(fill_value= \"missing\", strategy=\"constant\")),\n",
    "                        (\"onehot\", OneHotEncoder(handle_unknown = \"ignore\"))])"
   ]
  },
  {
   "cell_type": "code",
   "execution_count": 27,
   "metadata": {},
   "outputs": [
    {
     "data": {
      "text/html": [
       "<style>#sk-f6531cd7-219d-4492-aa9e-d34316d913bc {color: black;background-color: white;}#sk-f6531cd7-219d-4492-aa9e-d34316d913bc pre{padding: 0;}#sk-f6531cd7-219d-4492-aa9e-d34316d913bc div.sk-toggleable {background-color: white;}#sk-f6531cd7-219d-4492-aa9e-d34316d913bc label.sk-toggleable__label {cursor: pointer;display: block;width: 100%;margin-bottom: 0;padding: 0.2em 0.3em;box-sizing: border-box;text-align: center;}#sk-f6531cd7-219d-4492-aa9e-d34316d913bc div.sk-toggleable__content {max-height: 0;max-width: 0;overflow: hidden;text-align: left;background-color: #f0f8ff;}#sk-f6531cd7-219d-4492-aa9e-d34316d913bc div.sk-toggleable__content pre {margin: 0.2em;color: black;border-radius: 0.25em;background-color: #f0f8ff;}#sk-f6531cd7-219d-4492-aa9e-d34316d913bc input.sk-toggleable__control:checked~div.sk-toggleable__content {max-height: 200px;max-width: 100%;overflow: auto;}#sk-f6531cd7-219d-4492-aa9e-d34316d913bc div.sk-estimator input.sk-toggleable__control:checked~label.sk-toggleable__label {background-color: #d4ebff;}#sk-f6531cd7-219d-4492-aa9e-d34316d913bc div.sk-label input.sk-toggleable__control:checked~label.sk-toggleable__label {background-color: #d4ebff;}#sk-f6531cd7-219d-4492-aa9e-d34316d913bc input.sk-hidden--visually {border: 0;clip: rect(1px 1px 1px 1px);clip: rect(1px, 1px, 1px, 1px);height: 1px;margin: -1px;overflow: hidden;padding: 0;position: absolute;width: 1px;}#sk-f6531cd7-219d-4492-aa9e-d34316d913bc div.sk-estimator {font-family: monospace;background-color: #f0f8ff;margin: 0.25em 0.25em;border: 1px dotted black;border-radius: 0.25em;box-sizing: border-box;}#sk-f6531cd7-219d-4492-aa9e-d34316d913bc div.sk-estimator:hover {background-color: #d4ebff;}#sk-f6531cd7-219d-4492-aa9e-d34316d913bc div.sk-parallel-item::after {content: \"\";width: 100%;border-bottom: 1px solid gray;flex-grow: 1;}#sk-f6531cd7-219d-4492-aa9e-d34316d913bc div.sk-label:hover label.sk-toggleable__label {background-color: #d4ebff;}#sk-f6531cd7-219d-4492-aa9e-d34316d913bc div.sk-serial::before {content: \"\";position: absolute;border-left: 1px solid gray;box-sizing: border-box;top: 2em;bottom: 0;left: 50%;}#sk-f6531cd7-219d-4492-aa9e-d34316d913bc div.sk-serial {display: flex;flex-direction: column;align-items: center;background-color: white;}#sk-f6531cd7-219d-4492-aa9e-d34316d913bc div.sk-item {z-index: 1;}#sk-f6531cd7-219d-4492-aa9e-d34316d913bc div.sk-parallel {display: flex;align-items: stretch;justify-content: center;background-color: white;}#sk-f6531cd7-219d-4492-aa9e-d34316d913bc div.sk-parallel-item {display: flex;flex-direction: column;position: relative;background-color: white;}#sk-f6531cd7-219d-4492-aa9e-d34316d913bc div.sk-parallel-item:first-child::after {align-self: flex-end;width: 50%;}#sk-f6531cd7-219d-4492-aa9e-d34316d913bc div.sk-parallel-item:last-child::after {align-self: flex-start;width: 50%;}#sk-f6531cd7-219d-4492-aa9e-d34316d913bc div.sk-parallel-item:only-child::after {width: 0;}#sk-f6531cd7-219d-4492-aa9e-d34316d913bc div.sk-dashed-wrapped {border: 1px dashed gray;margin: 0.2em;box-sizing: border-box;padding-bottom: 0.1em;background-color: white;position: relative;}#sk-f6531cd7-219d-4492-aa9e-d34316d913bc div.sk-label label {font-family: monospace;font-weight: bold;background-color: white;display: inline-block;line-height: 1.2em;}#sk-f6531cd7-219d-4492-aa9e-d34316d913bc div.sk-label-container {position: relative;z-index: 2;text-align: center;}#sk-f6531cd7-219d-4492-aa9e-d34316d913bc div.sk-container {display: inline-block;position: relative;}</style><div id=\"sk-f6531cd7-219d-4492-aa9e-d34316d913bc\" class\"sk-top-container\"><div class=\"sk-container\"><div class=\"sk-item sk-dashed-wrapped\"><div class=\"sk-label-container\"><div class=\"sk-label sk-toggleable\"><input class=\"sk-toggleable__control sk-hidden--visually\" id=\"757f09a1-f2a9-4dbd-b285-9e2f64e6ab68\" type=\"checkbox\" ><label class=\"sk-toggleable__label\" for=\"757f09a1-f2a9-4dbd-b285-9e2f64e6ab68\">Pipeline</label><div class=\"sk-toggleable__content\"><pre>Pipeline(steps=[('imputation_constant',\n",
       "                 SimpleImputer(fill_value='missing', strategy='constant')),\n",
       "                ('onehot', OneHotEncoder(handle_unknown='ignore'))])</pre></div></div></div><div class=\"sk-serial\"><div class=\"sk-item\"><div class=\"sk-estimator sk-toggleable\"><input class=\"sk-toggleable__control sk-hidden--visually\" id=\"1d2a1dc8-6bc5-47c0-9bdc-4874d579f0a5\" type=\"checkbox\" ><label class=\"sk-toggleable__label\" for=\"1d2a1dc8-6bc5-47c0-9bdc-4874d579f0a5\">SimpleImputer</label><div class=\"sk-toggleable__content\"><pre>SimpleImputer(fill_value='missing', strategy='constant')</pre></div></div></div><div class=\"sk-item\"><div class=\"sk-estimator sk-toggleable\"><input class=\"sk-toggleable__control sk-hidden--visually\" id=\"a113b0d2-14ea-4ffd-aaa5-afdc7565d4ea\" type=\"checkbox\" ><label class=\"sk-toggleable__label\" for=\"a113b0d2-14ea-4ffd-aaa5-afdc7565d4ea\">OneHotEncoder</label><div class=\"sk-toggleable__content\"><pre>OneHotEncoder(handle_unknown='ignore')</pre></div></div></div></div></div></div></div>"
      ],
      "text/plain": [
       "Pipeline(steps=[('imputation_constant',\n",
       "                 SimpleImputer(fill_value='missing', strategy='constant')),\n",
       "                ('onehot', OneHotEncoder(handle_unknown='ignore'))])"
      ]
     },
     "execution_count": 27,
     "metadata": {},
     "output_type": "execute_result"
    }
   ],
   "source": [
    "categorical_processor"
   ]
  },
  {
   "cell_type": "markdown",
   "metadata": {},
   "source": [
    "Now are going to combine both of these pipelines."
   ]
  },
  {
   "cell_type": "code",
   "execution_count": 28,
   "metadata": {},
   "outputs": [],
   "source": [
    "from sklearn.compose import ColumnTransformer\n",
    "\n",
    "preprocessor=ColumnTransformer(\n",
    "    [(\"categorical\",categorical_processor,[\"gender\",\"City\"]),\n",
    "    (\"numerical\",numeric_processor,[\"age\",\"height\"])])"
   ]
  },
  {
   "cell_type": "code",
   "execution_count": 29,
   "metadata": {},
   "outputs": [
    {
     "data": {
      "text/html": [
       "<style>#sk-e7e9bffb-07b1-4fb8-81f1-293ab55db6bd {color: black;background-color: white;}#sk-e7e9bffb-07b1-4fb8-81f1-293ab55db6bd pre{padding: 0;}#sk-e7e9bffb-07b1-4fb8-81f1-293ab55db6bd div.sk-toggleable {background-color: white;}#sk-e7e9bffb-07b1-4fb8-81f1-293ab55db6bd label.sk-toggleable__label {cursor: pointer;display: block;width: 100%;margin-bottom: 0;padding: 0.2em 0.3em;box-sizing: border-box;text-align: center;}#sk-e7e9bffb-07b1-4fb8-81f1-293ab55db6bd div.sk-toggleable__content {max-height: 0;max-width: 0;overflow: hidden;text-align: left;background-color: #f0f8ff;}#sk-e7e9bffb-07b1-4fb8-81f1-293ab55db6bd div.sk-toggleable__content pre {margin: 0.2em;color: black;border-radius: 0.25em;background-color: #f0f8ff;}#sk-e7e9bffb-07b1-4fb8-81f1-293ab55db6bd input.sk-toggleable__control:checked~div.sk-toggleable__content {max-height: 200px;max-width: 100%;overflow: auto;}#sk-e7e9bffb-07b1-4fb8-81f1-293ab55db6bd div.sk-estimator input.sk-toggleable__control:checked~label.sk-toggleable__label {background-color: #d4ebff;}#sk-e7e9bffb-07b1-4fb8-81f1-293ab55db6bd div.sk-label input.sk-toggleable__control:checked~label.sk-toggleable__label {background-color: #d4ebff;}#sk-e7e9bffb-07b1-4fb8-81f1-293ab55db6bd input.sk-hidden--visually {border: 0;clip: rect(1px 1px 1px 1px);clip: rect(1px, 1px, 1px, 1px);height: 1px;margin: -1px;overflow: hidden;padding: 0;position: absolute;width: 1px;}#sk-e7e9bffb-07b1-4fb8-81f1-293ab55db6bd div.sk-estimator {font-family: monospace;background-color: #f0f8ff;margin: 0.25em 0.25em;border: 1px dotted black;border-radius: 0.25em;box-sizing: border-box;}#sk-e7e9bffb-07b1-4fb8-81f1-293ab55db6bd div.sk-estimator:hover {background-color: #d4ebff;}#sk-e7e9bffb-07b1-4fb8-81f1-293ab55db6bd div.sk-parallel-item::after {content: \"\";width: 100%;border-bottom: 1px solid gray;flex-grow: 1;}#sk-e7e9bffb-07b1-4fb8-81f1-293ab55db6bd div.sk-label:hover label.sk-toggleable__label {background-color: #d4ebff;}#sk-e7e9bffb-07b1-4fb8-81f1-293ab55db6bd div.sk-serial::before {content: \"\";position: absolute;border-left: 1px solid gray;box-sizing: border-box;top: 2em;bottom: 0;left: 50%;}#sk-e7e9bffb-07b1-4fb8-81f1-293ab55db6bd div.sk-serial {display: flex;flex-direction: column;align-items: center;background-color: white;}#sk-e7e9bffb-07b1-4fb8-81f1-293ab55db6bd div.sk-item {z-index: 1;}#sk-e7e9bffb-07b1-4fb8-81f1-293ab55db6bd div.sk-parallel {display: flex;align-items: stretch;justify-content: center;background-color: white;}#sk-e7e9bffb-07b1-4fb8-81f1-293ab55db6bd div.sk-parallel-item {display: flex;flex-direction: column;position: relative;background-color: white;}#sk-e7e9bffb-07b1-4fb8-81f1-293ab55db6bd div.sk-parallel-item:first-child::after {align-self: flex-end;width: 50%;}#sk-e7e9bffb-07b1-4fb8-81f1-293ab55db6bd div.sk-parallel-item:last-child::after {align-self: flex-start;width: 50%;}#sk-e7e9bffb-07b1-4fb8-81f1-293ab55db6bd div.sk-parallel-item:only-child::after {width: 0;}#sk-e7e9bffb-07b1-4fb8-81f1-293ab55db6bd div.sk-dashed-wrapped {border: 1px dashed gray;margin: 0.2em;box-sizing: border-box;padding-bottom: 0.1em;background-color: white;position: relative;}#sk-e7e9bffb-07b1-4fb8-81f1-293ab55db6bd div.sk-label label {font-family: monospace;font-weight: bold;background-color: white;display: inline-block;line-height: 1.2em;}#sk-e7e9bffb-07b1-4fb8-81f1-293ab55db6bd div.sk-label-container {position: relative;z-index: 2;text-align: center;}#sk-e7e9bffb-07b1-4fb8-81f1-293ab55db6bd div.sk-container {display: inline-block;position: relative;}</style><div id=\"sk-e7e9bffb-07b1-4fb8-81f1-293ab55db6bd\" class\"sk-top-container\"><div class=\"sk-container\"><div class=\"sk-item sk-dashed-wrapped\"><div class=\"sk-label-container\"><div class=\"sk-label sk-toggleable\"><input class=\"sk-toggleable__control sk-hidden--visually\" id=\"59030e6f-a96e-4109-87fb-a2ec5ed86a5b\" type=\"checkbox\" ><label class=\"sk-toggleable__label\" for=\"59030e6f-a96e-4109-87fb-a2ec5ed86a5b\">ColumnTransformer</label><div class=\"sk-toggleable__content\"><pre>ColumnTransformer(transformers=[('categorical',\n",
       "                                 Pipeline(steps=[('imputation_constant',\n",
       "                                                  SimpleImputer(fill_value='missing',\n",
       "                                                                strategy='constant')),\n",
       "                                                 ('onehot',\n",
       "                                                  OneHotEncoder(handle_unknown='ignore'))]),\n",
       "                                 ['gender', 'City']),\n",
       "                                ('numerical',\n",
       "                                 Pipeline(steps=[('imputation_mean',\n",
       "                                                  SimpleImputer()),\n",
       "                                                 ('standard_scaler',\n",
       "                                                  StandardScaler())]),\n",
       "                                 ['age', 'height'])])</pre></div></div></div><div class=\"sk-parallel\"><div class=\"sk-parallel-item\"><div class=\"sk-item\"><div class=\"sk-label-container\"><div class=\"sk-label sk-toggleable\"><input class=\"sk-toggleable__control sk-hidden--visually\" id=\"c59ce751-b825-4dd0-a87f-cf947dab3010\" type=\"checkbox\" ><label class=\"sk-toggleable__label\" for=\"c59ce751-b825-4dd0-a87f-cf947dab3010\">categorical</label><div class=\"sk-toggleable__content\"><pre>['gender', 'City']</pre></div></div></div><div class=\"sk-serial\"><div class=\"sk-item\"><div class=\"sk-serial\"><div class=\"sk-item\"><div class=\"sk-estimator sk-toggleable\"><input class=\"sk-toggleable__control sk-hidden--visually\" id=\"f8697e6c-06c4-48e8-bc43-990a180a86ca\" type=\"checkbox\" ><label class=\"sk-toggleable__label\" for=\"f8697e6c-06c4-48e8-bc43-990a180a86ca\">SimpleImputer</label><div class=\"sk-toggleable__content\"><pre>SimpleImputer(fill_value='missing', strategy='constant')</pre></div></div></div><div class=\"sk-item\"><div class=\"sk-estimator sk-toggleable\"><input class=\"sk-toggleable__control sk-hidden--visually\" id=\"c468941f-a365-457c-9a86-bafb456e0a56\" type=\"checkbox\" ><label class=\"sk-toggleable__label\" for=\"c468941f-a365-457c-9a86-bafb456e0a56\">OneHotEncoder</label><div class=\"sk-toggleable__content\"><pre>OneHotEncoder(handle_unknown='ignore')</pre></div></div></div></div></div></div></div></div><div class=\"sk-parallel-item\"><div class=\"sk-item\"><div class=\"sk-label-container\"><div class=\"sk-label sk-toggleable\"><input class=\"sk-toggleable__control sk-hidden--visually\" id=\"3a037eed-2939-4367-a03f-8283808b1652\" type=\"checkbox\" ><label class=\"sk-toggleable__label\" for=\"3a037eed-2939-4367-a03f-8283808b1652\">numerical</label><div class=\"sk-toggleable__content\"><pre>['age', 'height']</pre></div></div></div><div class=\"sk-serial\"><div class=\"sk-item\"><div class=\"sk-serial\"><div class=\"sk-item\"><div class=\"sk-estimator sk-toggleable\"><input class=\"sk-toggleable__control sk-hidden--visually\" id=\"54965182-8789-42a6-ac09-90e361b79683\" type=\"checkbox\" ><label class=\"sk-toggleable__label\" for=\"54965182-8789-42a6-ac09-90e361b79683\">SimpleImputer</label><div class=\"sk-toggleable__content\"><pre>SimpleImputer()</pre></div></div></div><div class=\"sk-item\"><div class=\"sk-estimator sk-toggleable\"><input class=\"sk-toggleable__control sk-hidden--visually\" id=\"eed2c2d9-83a8-469d-89e1-f2d4619f8172\" type=\"checkbox\" ><label class=\"sk-toggleable__label\" for=\"eed2c2d9-83a8-469d-89e1-f2d4619f8172\">StandardScaler</label><div class=\"sk-toggleable__content\"><pre>StandardScaler()</pre></div></div></div></div></div></div></div></div></div></div></div></div>"
      ],
      "text/plain": [
       "ColumnTransformer(transformers=[('categorical',\n",
       "                                 Pipeline(steps=[('imputation_constant',\n",
       "                                                  SimpleImputer(fill_value='missing',\n",
       "                                                                strategy='constant')),\n",
       "                                                 ('onehot',\n",
       "                                                  OneHotEncoder(handle_unknown='ignore'))]),\n",
       "                                 ['gender', 'City']),\n",
       "                                ('numerical',\n",
       "                                 Pipeline(steps=[('imputation_mean',\n",
       "                                                  SimpleImputer()),\n",
       "                                                 ('standard_scaler',\n",
       "                                                  StandardScaler())]),\n",
       "                                 ['age', 'height'])])"
      ]
     },
     "execution_count": 29,
     "metadata": {},
     "output_type": "execute_result"
    }
   ],
   "source": [
    "preprocessor"
   ]
  },
  {
   "cell_type": "markdown",
   "metadata": {},
   "source": [
    "**Making final pipeline**"
   ]
  },
  {
   "cell_type": "code",
   "execution_count": 30,
   "metadata": {},
   "outputs": [],
   "source": [
    "from sklearn.pipeline import make_pipeline\n",
    "\n",
    "pipe = make_pipeline(preprocessor, LogisticRegression())"
   ]
  },
  {
   "cell_type": "code",
   "execution_count": 31,
   "metadata": {},
   "outputs": [
    {
     "data": {
      "text/html": [
       "<style>#sk-4237fcb9-9b4f-4ed1-85cb-2c34adac0462 {color: black;background-color: white;}#sk-4237fcb9-9b4f-4ed1-85cb-2c34adac0462 pre{padding: 0;}#sk-4237fcb9-9b4f-4ed1-85cb-2c34adac0462 div.sk-toggleable {background-color: white;}#sk-4237fcb9-9b4f-4ed1-85cb-2c34adac0462 label.sk-toggleable__label {cursor: pointer;display: block;width: 100%;margin-bottom: 0;padding: 0.2em 0.3em;box-sizing: border-box;text-align: center;}#sk-4237fcb9-9b4f-4ed1-85cb-2c34adac0462 div.sk-toggleable__content {max-height: 0;max-width: 0;overflow: hidden;text-align: left;background-color: #f0f8ff;}#sk-4237fcb9-9b4f-4ed1-85cb-2c34adac0462 div.sk-toggleable__content pre {margin: 0.2em;color: black;border-radius: 0.25em;background-color: #f0f8ff;}#sk-4237fcb9-9b4f-4ed1-85cb-2c34adac0462 input.sk-toggleable__control:checked~div.sk-toggleable__content {max-height: 200px;max-width: 100%;overflow: auto;}#sk-4237fcb9-9b4f-4ed1-85cb-2c34adac0462 div.sk-estimator input.sk-toggleable__control:checked~label.sk-toggleable__label {background-color: #d4ebff;}#sk-4237fcb9-9b4f-4ed1-85cb-2c34adac0462 div.sk-label input.sk-toggleable__control:checked~label.sk-toggleable__label {background-color: #d4ebff;}#sk-4237fcb9-9b4f-4ed1-85cb-2c34adac0462 input.sk-hidden--visually {border: 0;clip: rect(1px 1px 1px 1px);clip: rect(1px, 1px, 1px, 1px);height: 1px;margin: -1px;overflow: hidden;padding: 0;position: absolute;width: 1px;}#sk-4237fcb9-9b4f-4ed1-85cb-2c34adac0462 div.sk-estimator {font-family: monospace;background-color: #f0f8ff;margin: 0.25em 0.25em;border: 1px dotted black;border-radius: 0.25em;box-sizing: border-box;}#sk-4237fcb9-9b4f-4ed1-85cb-2c34adac0462 div.sk-estimator:hover {background-color: #d4ebff;}#sk-4237fcb9-9b4f-4ed1-85cb-2c34adac0462 div.sk-parallel-item::after {content: \"\";width: 100%;border-bottom: 1px solid gray;flex-grow: 1;}#sk-4237fcb9-9b4f-4ed1-85cb-2c34adac0462 div.sk-label:hover label.sk-toggleable__label {background-color: #d4ebff;}#sk-4237fcb9-9b4f-4ed1-85cb-2c34adac0462 div.sk-serial::before {content: \"\";position: absolute;border-left: 1px solid gray;box-sizing: border-box;top: 2em;bottom: 0;left: 50%;}#sk-4237fcb9-9b4f-4ed1-85cb-2c34adac0462 div.sk-serial {display: flex;flex-direction: column;align-items: center;background-color: white;}#sk-4237fcb9-9b4f-4ed1-85cb-2c34adac0462 div.sk-item {z-index: 1;}#sk-4237fcb9-9b4f-4ed1-85cb-2c34adac0462 div.sk-parallel {display: flex;align-items: stretch;justify-content: center;background-color: white;}#sk-4237fcb9-9b4f-4ed1-85cb-2c34adac0462 div.sk-parallel-item {display: flex;flex-direction: column;position: relative;background-color: white;}#sk-4237fcb9-9b4f-4ed1-85cb-2c34adac0462 div.sk-parallel-item:first-child::after {align-self: flex-end;width: 50%;}#sk-4237fcb9-9b4f-4ed1-85cb-2c34adac0462 div.sk-parallel-item:last-child::after {align-self: flex-start;width: 50%;}#sk-4237fcb9-9b4f-4ed1-85cb-2c34adac0462 div.sk-parallel-item:only-child::after {width: 0;}#sk-4237fcb9-9b4f-4ed1-85cb-2c34adac0462 div.sk-dashed-wrapped {border: 1px dashed gray;margin: 0.2em;box-sizing: border-box;padding-bottom: 0.1em;background-color: white;position: relative;}#sk-4237fcb9-9b4f-4ed1-85cb-2c34adac0462 div.sk-label label {font-family: monospace;font-weight: bold;background-color: white;display: inline-block;line-height: 1.2em;}#sk-4237fcb9-9b4f-4ed1-85cb-2c34adac0462 div.sk-label-container {position: relative;z-index: 2;text-align: center;}#sk-4237fcb9-9b4f-4ed1-85cb-2c34adac0462 div.sk-container {display: inline-block;position: relative;}</style><div id=\"sk-4237fcb9-9b4f-4ed1-85cb-2c34adac0462\" class\"sk-top-container\"><div class=\"sk-container\"><div class=\"sk-item sk-dashed-wrapped\"><div class=\"sk-label-container\"><div class=\"sk-label sk-toggleable\"><input class=\"sk-toggleable__control sk-hidden--visually\" id=\"c2eecadd-6620-4fc5-87b7-780c6e21e875\" type=\"checkbox\" ><label class=\"sk-toggleable__label\" for=\"c2eecadd-6620-4fc5-87b7-780c6e21e875\">Pipeline</label><div class=\"sk-toggleable__content\"><pre>Pipeline(steps=[('columntransformer',\n",
       "                 ColumnTransformer(transformers=[('categorical',\n",
       "                                                  Pipeline(steps=[('imputation_constant',\n",
       "                                                                   SimpleImputer(fill_value='missing',\n",
       "                                                                                 strategy='constant')),\n",
       "                                                                  ('onehot',\n",
       "                                                                   OneHotEncoder(handle_unknown='ignore'))]),\n",
       "                                                  ['gender', 'City']),\n",
       "                                                 ('numerical',\n",
       "                                                  Pipeline(steps=[('imputation_mean',\n",
       "                                                                   SimpleImputer()),\n",
       "                                                                  ('standard_scaler',\n",
       "                                                                   StandardScaler())]),\n",
       "                                                  ['age', 'height'])])),\n",
       "                ('logisticregression', LogisticRegression())])</pre></div></div></div><div class=\"sk-serial\"><div class=\"sk-item sk-dashed-wrapped\"><div class=\"sk-label-container\"><div class=\"sk-label sk-toggleable\"><input class=\"sk-toggleable__control sk-hidden--visually\" id=\"2f3fe38b-a996-4d34-bd08-cbced9f46573\" type=\"checkbox\" ><label class=\"sk-toggleable__label\" for=\"2f3fe38b-a996-4d34-bd08-cbced9f46573\">columntransformer: ColumnTransformer</label><div class=\"sk-toggleable__content\"><pre>ColumnTransformer(transformers=[('categorical',\n",
       "                                 Pipeline(steps=[('imputation_constant',\n",
       "                                                  SimpleImputer(fill_value='missing',\n",
       "                                                                strategy='constant')),\n",
       "                                                 ('onehot',\n",
       "                                                  OneHotEncoder(handle_unknown='ignore'))]),\n",
       "                                 ['gender', 'City']),\n",
       "                                ('numerical',\n",
       "                                 Pipeline(steps=[('imputation_mean',\n",
       "                                                  SimpleImputer()),\n",
       "                                                 ('standard_scaler',\n",
       "                                                  StandardScaler())]),\n",
       "                                 ['age', 'height'])])</pre></div></div></div><div class=\"sk-parallel\"><div class=\"sk-parallel-item\"><div class=\"sk-item\"><div class=\"sk-label-container\"><div class=\"sk-label sk-toggleable\"><input class=\"sk-toggleable__control sk-hidden--visually\" id=\"389d8aad-e2cc-481b-b1dc-dce2d471b5b5\" type=\"checkbox\" ><label class=\"sk-toggleable__label\" for=\"389d8aad-e2cc-481b-b1dc-dce2d471b5b5\">categorical</label><div class=\"sk-toggleable__content\"><pre>['gender', 'City']</pre></div></div></div><div class=\"sk-serial\"><div class=\"sk-item\"><div class=\"sk-serial\"><div class=\"sk-item\"><div class=\"sk-estimator sk-toggleable\"><input class=\"sk-toggleable__control sk-hidden--visually\" id=\"14983793-f587-4aed-a54a-9cc9aa343226\" type=\"checkbox\" ><label class=\"sk-toggleable__label\" for=\"14983793-f587-4aed-a54a-9cc9aa343226\">SimpleImputer</label><div class=\"sk-toggleable__content\"><pre>SimpleImputer(fill_value='missing', strategy='constant')</pre></div></div></div><div class=\"sk-item\"><div class=\"sk-estimator sk-toggleable\"><input class=\"sk-toggleable__control sk-hidden--visually\" id=\"4b0b0727-8e5e-4a6f-9e87-787bbf55f01d\" type=\"checkbox\" ><label class=\"sk-toggleable__label\" for=\"4b0b0727-8e5e-4a6f-9e87-787bbf55f01d\">OneHotEncoder</label><div class=\"sk-toggleable__content\"><pre>OneHotEncoder(handle_unknown='ignore')</pre></div></div></div></div></div></div></div></div><div class=\"sk-parallel-item\"><div class=\"sk-item\"><div class=\"sk-label-container\"><div class=\"sk-label sk-toggleable\"><input class=\"sk-toggleable__control sk-hidden--visually\" id=\"12c398e4-d991-41a8-80fa-2f9e64e2bad2\" type=\"checkbox\" ><label class=\"sk-toggleable__label\" for=\"12c398e4-d991-41a8-80fa-2f9e64e2bad2\">numerical</label><div class=\"sk-toggleable__content\"><pre>['age', 'height']</pre></div></div></div><div class=\"sk-serial\"><div class=\"sk-item\"><div class=\"sk-serial\"><div class=\"sk-item\"><div class=\"sk-estimator sk-toggleable\"><input class=\"sk-toggleable__control sk-hidden--visually\" id=\"0f1ca09c-a2be-4e68-8f1f-bab4a91d991a\" type=\"checkbox\" ><label class=\"sk-toggleable__label\" for=\"0f1ca09c-a2be-4e68-8f1f-bab4a91d991a\">SimpleImputer</label><div class=\"sk-toggleable__content\"><pre>SimpleImputer()</pre></div></div></div><div class=\"sk-item\"><div class=\"sk-estimator sk-toggleable\"><input class=\"sk-toggleable__control sk-hidden--visually\" id=\"74d58b2b-cc7e-40b2-b775-808b9161d2b8\" type=\"checkbox\" ><label class=\"sk-toggleable__label\" for=\"74d58b2b-cc7e-40b2-b775-808b9161d2b8\">StandardScaler</label><div class=\"sk-toggleable__content\"><pre>StandardScaler()</pre></div></div></div></div></div></div></div></div></div></div><div class=\"sk-item\"><div class=\"sk-estimator sk-toggleable\"><input class=\"sk-toggleable__control sk-hidden--visually\" id=\"04b7e38f-150f-49d0-bf74-a8252114bfc2\" type=\"checkbox\" ><label class=\"sk-toggleable__label\" for=\"04b7e38f-150f-49d0-bf74-a8252114bfc2\">LogisticRegression</label><div class=\"sk-toggleable__content\"><pre>LogisticRegression()</pre></div></div></div></div></div></div></div>"
      ],
      "text/plain": [
       "Pipeline(steps=[('columntransformer',\n",
       "                 ColumnTransformer(transformers=[('categorical',\n",
       "                                                  Pipeline(steps=[('imputation_constant',\n",
       "                                                                   SimpleImputer(fill_value='missing',\n",
       "                                                                                 strategy='constant')),\n",
       "                                                                  ('onehot',\n",
       "                                                                   OneHotEncoder(handle_unknown='ignore'))]),\n",
       "                                                  ['gender', 'City']),\n",
       "                                                 ('numerical',\n",
       "                                                  Pipeline(steps=[('imputation_mean',\n",
       "                                                                   SimpleImputer()),\n",
       "                                                                  ('standard_scaler',\n",
       "                                                                   StandardScaler())]),\n",
       "                                                  ['age', 'height'])])),\n",
       "                ('logisticregression', LogisticRegression())])"
      ]
     },
     "execution_count": 31,
     "metadata": {},
     "output_type": "execute_result"
    }
   ],
   "source": [
    "pipe"
   ]
  },
  {
   "cell_type": "code",
   "execution_count": 33,
   "metadata": {},
   "outputs": [
    {
     "data": {
      "text/html": [
       "<div>\n",
       "<style scoped>\n",
       "    .dataframe tbody tr th:only-of-type {\n",
       "        vertical-align: middle;\n",
       "    }\n",
       "\n",
       "    .dataframe tbody tr th {\n",
       "        vertical-align: top;\n",
       "    }\n",
       "\n",
       "    .dataframe thead th {\n",
       "        text-align: right;\n",
       "    }\n",
       "</style>\n",
       "<table border=\"1\" class=\"dataframe\">\n",
       "  <thead>\n",
       "    <tr style=\"text-align: right;\">\n",
       "      <th></th>\n",
       "      <th>gender</th>\n",
       "      <th>City</th>\n",
       "      <th>age</th>\n",
       "      <th>height</th>\n",
       "      <th>passed</th>\n",
       "    </tr>\n",
       "  </thead>\n",
       "  <tbody>\n",
       "    <tr>\n",
       "      <th>0</th>\n",
       "      <td>M</td>\n",
       "      <td>D</td>\n",
       "      <td>23</td>\n",
       "      <td>170</td>\n",
       "      <td>1</td>\n",
       "    </tr>\n",
       "    <tr>\n",
       "      <th>1</th>\n",
       "      <td>F</td>\n",
       "      <td>C</td>\n",
       "      <td>19</td>\n",
       "      <td>154</td>\n",
       "      <td>1</td>\n",
       "    </tr>\n",
       "    <tr>\n",
       "      <th>2</th>\n",
       "      <td>F</td>\n",
       "      <td>R</td>\n",
       "      <td>21</td>\n",
       "      <td>148</td>\n",
       "      <td>0</td>\n",
       "    </tr>\n",
       "    <tr>\n",
       "      <th>3</th>\n",
       "      <td>M</td>\n",
       "      <td>B</td>\n",
       "      <td>20</td>\n",
       "      <td>160</td>\n",
       "      <td>1</td>\n",
       "    </tr>\n",
       "    <tr>\n",
       "      <th>4</th>\n",
       "      <td>F</td>\n",
       "      <td>K</td>\n",
       "      <td>24</td>\n",
       "      <td>151</td>\n",
       "      <td>1</td>\n",
       "    </tr>\n",
       "  </tbody>\n",
       "</table>\n",
       "</div>"
      ],
      "text/plain": [
       "  gender City  age  height  passed\n",
       "0      M    D   23     170       1\n",
       "1      F    C   19     154       1\n",
       "2      F    R   21     148       0\n",
       "3      M    B   20     160       1\n",
       "4      F    K   24     151       1"
      ]
     },
     "execution_count": 33,
     "metadata": {},
     "output_type": "execute_result"
    }
   ],
   "source": [
    "import pandas as pd\n",
    "df = pd.read_csv(r\"C:\\Users\\USER\\Desktop\\Project\\Brushing Up Machine Learning\\pipeline_dataset.csv\")\n",
    "df.head()"
   ]
  },
  {
   "cell_type": "code",
   "execution_count": 34,
   "metadata": {},
   "outputs": [],
   "source": [
    "X = df.iloc[:, 0:4]\n",
    "y = df.iloc[:, 4]"
   ]
  },
  {
   "cell_type": "code",
   "execution_count": 35,
   "metadata": {},
   "outputs": [
    {
     "data": {
      "text/html": [
       "<div>\n",
       "<style scoped>\n",
       "    .dataframe tbody tr th:only-of-type {\n",
       "        vertical-align: middle;\n",
       "    }\n",
       "\n",
       "    .dataframe tbody tr th {\n",
       "        vertical-align: top;\n",
       "    }\n",
       "\n",
       "    .dataframe thead th {\n",
       "        text-align: right;\n",
       "    }\n",
       "</style>\n",
       "<table border=\"1\" class=\"dataframe\">\n",
       "  <thead>\n",
       "    <tr style=\"text-align: right;\">\n",
       "      <th></th>\n",
       "      <th>gender</th>\n",
       "      <th>City</th>\n",
       "      <th>age</th>\n",
       "      <th>height</th>\n",
       "    </tr>\n",
       "  </thead>\n",
       "  <tbody>\n",
       "    <tr>\n",
       "      <th>0</th>\n",
       "      <td>M</td>\n",
       "      <td>D</td>\n",
       "      <td>23</td>\n",
       "      <td>170</td>\n",
       "    </tr>\n",
       "    <tr>\n",
       "      <th>1</th>\n",
       "      <td>F</td>\n",
       "      <td>C</td>\n",
       "      <td>19</td>\n",
       "      <td>154</td>\n",
       "    </tr>\n",
       "    <tr>\n",
       "      <th>2</th>\n",
       "      <td>F</td>\n",
       "      <td>R</td>\n",
       "      <td>21</td>\n",
       "      <td>148</td>\n",
       "    </tr>\n",
       "    <tr>\n",
       "      <th>3</th>\n",
       "      <td>M</td>\n",
       "      <td>B</td>\n",
       "      <td>20</td>\n",
       "      <td>160</td>\n",
       "    </tr>\n",
       "    <tr>\n",
       "      <th>4</th>\n",
       "      <td>F</td>\n",
       "      <td>K</td>\n",
       "      <td>24</td>\n",
       "      <td>151</td>\n",
       "    </tr>\n",
       "  </tbody>\n",
       "</table>\n",
       "</div>"
      ],
      "text/plain": [
       "  gender City  age  height\n",
       "0      M    D   23     170\n",
       "1      F    C   19     154\n",
       "2      F    R   21     148\n",
       "3      M    B   20     160\n",
       "4      F    K   24     151"
      ]
     },
     "execution_count": 35,
     "metadata": {},
     "output_type": "execute_result"
    }
   ],
   "source": [
    "X.head()"
   ]
  },
  {
   "cell_type": "code",
   "execution_count": 36,
   "metadata": {},
   "outputs": [
    {
     "data": {
      "text/plain": [
       "0    1\n",
       "1    1\n",
       "2    0\n",
       "3    1\n",
       "4    1\n",
       "Name: passed, dtype: int64"
      ]
     },
     "execution_count": 36,
     "metadata": {},
     "output_type": "execute_result"
    }
   ],
   "source": [
    "y.head()"
   ]
  },
  {
   "cell_type": "code",
   "execution_count": 37,
   "metadata": {},
   "outputs": [],
   "source": [
    "X_train, X_test, y_train, y_test = train_test_split(X, y, random_state = 3, test_size = 0.3)"
   ]
  },
  {
   "cell_type": "code",
   "execution_count": 38,
   "metadata": {},
   "outputs": [
    {
     "data": {
      "text/plain": [
       "((3, 4), (2, 4), (3,), (2,))"
      ]
     },
     "execution_count": 38,
     "metadata": {},
     "output_type": "execute_result"
    }
   ],
   "source": [
    "X_train.shape, X_test.shape, y_train.shape, y_test.shape"
   ]
  },
  {
   "cell_type": "code",
   "execution_count": 39,
   "metadata": {},
   "outputs": [
    {
     "data": {
      "text/html": [
       "<style>#sk-632602ca-8d08-4e1b-8771-a2c8a06818c3 {color: black;background-color: white;}#sk-632602ca-8d08-4e1b-8771-a2c8a06818c3 pre{padding: 0;}#sk-632602ca-8d08-4e1b-8771-a2c8a06818c3 div.sk-toggleable {background-color: white;}#sk-632602ca-8d08-4e1b-8771-a2c8a06818c3 label.sk-toggleable__label {cursor: pointer;display: block;width: 100%;margin-bottom: 0;padding: 0.2em 0.3em;box-sizing: border-box;text-align: center;}#sk-632602ca-8d08-4e1b-8771-a2c8a06818c3 div.sk-toggleable__content {max-height: 0;max-width: 0;overflow: hidden;text-align: left;background-color: #f0f8ff;}#sk-632602ca-8d08-4e1b-8771-a2c8a06818c3 div.sk-toggleable__content pre {margin: 0.2em;color: black;border-radius: 0.25em;background-color: #f0f8ff;}#sk-632602ca-8d08-4e1b-8771-a2c8a06818c3 input.sk-toggleable__control:checked~div.sk-toggleable__content {max-height: 200px;max-width: 100%;overflow: auto;}#sk-632602ca-8d08-4e1b-8771-a2c8a06818c3 div.sk-estimator input.sk-toggleable__control:checked~label.sk-toggleable__label {background-color: #d4ebff;}#sk-632602ca-8d08-4e1b-8771-a2c8a06818c3 div.sk-label input.sk-toggleable__control:checked~label.sk-toggleable__label {background-color: #d4ebff;}#sk-632602ca-8d08-4e1b-8771-a2c8a06818c3 input.sk-hidden--visually {border: 0;clip: rect(1px 1px 1px 1px);clip: rect(1px, 1px, 1px, 1px);height: 1px;margin: -1px;overflow: hidden;padding: 0;position: absolute;width: 1px;}#sk-632602ca-8d08-4e1b-8771-a2c8a06818c3 div.sk-estimator {font-family: monospace;background-color: #f0f8ff;margin: 0.25em 0.25em;border: 1px dotted black;border-radius: 0.25em;box-sizing: border-box;}#sk-632602ca-8d08-4e1b-8771-a2c8a06818c3 div.sk-estimator:hover {background-color: #d4ebff;}#sk-632602ca-8d08-4e1b-8771-a2c8a06818c3 div.sk-parallel-item::after {content: \"\";width: 100%;border-bottom: 1px solid gray;flex-grow: 1;}#sk-632602ca-8d08-4e1b-8771-a2c8a06818c3 div.sk-label:hover label.sk-toggleable__label {background-color: #d4ebff;}#sk-632602ca-8d08-4e1b-8771-a2c8a06818c3 div.sk-serial::before {content: \"\";position: absolute;border-left: 1px solid gray;box-sizing: border-box;top: 2em;bottom: 0;left: 50%;}#sk-632602ca-8d08-4e1b-8771-a2c8a06818c3 div.sk-serial {display: flex;flex-direction: column;align-items: center;background-color: white;}#sk-632602ca-8d08-4e1b-8771-a2c8a06818c3 div.sk-item {z-index: 1;}#sk-632602ca-8d08-4e1b-8771-a2c8a06818c3 div.sk-parallel {display: flex;align-items: stretch;justify-content: center;background-color: white;}#sk-632602ca-8d08-4e1b-8771-a2c8a06818c3 div.sk-parallel-item {display: flex;flex-direction: column;position: relative;background-color: white;}#sk-632602ca-8d08-4e1b-8771-a2c8a06818c3 div.sk-parallel-item:first-child::after {align-self: flex-end;width: 50%;}#sk-632602ca-8d08-4e1b-8771-a2c8a06818c3 div.sk-parallel-item:last-child::after {align-self: flex-start;width: 50%;}#sk-632602ca-8d08-4e1b-8771-a2c8a06818c3 div.sk-parallel-item:only-child::after {width: 0;}#sk-632602ca-8d08-4e1b-8771-a2c8a06818c3 div.sk-dashed-wrapped {border: 1px dashed gray;margin: 0.2em;box-sizing: border-box;padding-bottom: 0.1em;background-color: white;position: relative;}#sk-632602ca-8d08-4e1b-8771-a2c8a06818c3 div.sk-label label {font-family: monospace;font-weight: bold;background-color: white;display: inline-block;line-height: 1.2em;}#sk-632602ca-8d08-4e1b-8771-a2c8a06818c3 div.sk-label-container {position: relative;z-index: 2;text-align: center;}#sk-632602ca-8d08-4e1b-8771-a2c8a06818c3 div.sk-container {display: inline-block;position: relative;}</style><div id=\"sk-632602ca-8d08-4e1b-8771-a2c8a06818c3\" class\"sk-top-container\"><div class=\"sk-container\"><div class=\"sk-item sk-dashed-wrapped\"><div class=\"sk-label-container\"><div class=\"sk-label sk-toggleable\"><input class=\"sk-toggleable__control sk-hidden--visually\" id=\"74d8c861-13eb-486a-9d55-1e140ec09928\" type=\"checkbox\" ><label class=\"sk-toggleable__label\" for=\"74d8c861-13eb-486a-9d55-1e140ec09928\">Pipeline</label><div class=\"sk-toggleable__content\"><pre>Pipeline(steps=[('columntransformer',\n",
       "                 ColumnTransformer(transformers=[('categorical',\n",
       "                                                  Pipeline(steps=[('imputation_constant',\n",
       "                                                                   SimpleImputer(fill_value='missing',\n",
       "                                                                                 strategy='constant')),\n",
       "                                                                  ('onehot',\n",
       "                                                                   OneHotEncoder(handle_unknown='ignore'))]),\n",
       "                                                  ['gender', 'City']),\n",
       "                                                 ('numerical',\n",
       "                                                  Pipeline(steps=[('imputation_mean',\n",
       "                                                                   SimpleImputer()),\n",
       "                                                                  ('standard_scaler',\n",
       "                                                                   StandardScaler())]),\n",
       "                                                  ['age', 'height'])])),\n",
       "                ('logisticregression', LogisticRegression())])</pre></div></div></div><div class=\"sk-serial\"><div class=\"sk-item sk-dashed-wrapped\"><div class=\"sk-label-container\"><div class=\"sk-label sk-toggleable\"><input class=\"sk-toggleable__control sk-hidden--visually\" id=\"4d44cb51-52e3-491b-8ef3-25bd9bc61a26\" type=\"checkbox\" ><label class=\"sk-toggleable__label\" for=\"4d44cb51-52e3-491b-8ef3-25bd9bc61a26\">columntransformer: ColumnTransformer</label><div class=\"sk-toggleable__content\"><pre>ColumnTransformer(transformers=[('categorical',\n",
       "                                 Pipeline(steps=[('imputation_constant',\n",
       "                                                  SimpleImputer(fill_value='missing',\n",
       "                                                                strategy='constant')),\n",
       "                                                 ('onehot',\n",
       "                                                  OneHotEncoder(handle_unknown='ignore'))]),\n",
       "                                 ['gender', 'City']),\n",
       "                                ('numerical',\n",
       "                                 Pipeline(steps=[('imputation_mean',\n",
       "                                                  SimpleImputer()),\n",
       "                                                 ('standard_scaler',\n",
       "                                                  StandardScaler())]),\n",
       "                                 ['age', 'height'])])</pre></div></div></div><div class=\"sk-parallel\"><div class=\"sk-parallel-item\"><div class=\"sk-item\"><div class=\"sk-label-container\"><div class=\"sk-label sk-toggleable\"><input class=\"sk-toggleable__control sk-hidden--visually\" id=\"72e64dcb-0a81-40c0-be01-42e391f4d8df\" type=\"checkbox\" ><label class=\"sk-toggleable__label\" for=\"72e64dcb-0a81-40c0-be01-42e391f4d8df\">categorical</label><div class=\"sk-toggleable__content\"><pre>['gender', 'City']</pre></div></div></div><div class=\"sk-serial\"><div class=\"sk-item\"><div class=\"sk-serial\"><div class=\"sk-item\"><div class=\"sk-estimator sk-toggleable\"><input class=\"sk-toggleable__control sk-hidden--visually\" id=\"636daae7-8aaf-4688-9d4d-6d1bb8f08280\" type=\"checkbox\" ><label class=\"sk-toggleable__label\" for=\"636daae7-8aaf-4688-9d4d-6d1bb8f08280\">SimpleImputer</label><div class=\"sk-toggleable__content\"><pre>SimpleImputer(fill_value='missing', strategy='constant')</pre></div></div></div><div class=\"sk-item\"><div class=\"sk-estimator sk-toggleable\"><input class=\"sk-toggleable__control sk-hidden--visually\" id=\"4c4b7fca-98a0-4722-86cf-13bc3727de97\" type=\"checkbox\" ><label class=\"sk-toggleable__label\" for=\"4c4b7fca-98a0-4722-86cf-13bc3727de97\">OneHotEncoder</label><div class=\"sk-toggleable__content\"><pre>OneHotEncoder(handle_unknown='ignore')</pre></div></div></div></div></div></div></div></div><div class=\"sk-parallel-item\"><div class=\"sk-item\"><div class=\"sk-label-container\"><div class=\"sk-label sk-toggleable\"><input class=\"sk-toggleable__control sk-hidden--visually\" id=\"e23085e1-9259-4b1d-b871-d17cd8548159\" type=\"checkbox\" ><label class=\"sk-toggleable__label\" for=\"e23085e1-9259-4b1d-b871-d17cd8548159\">numerical</label><div class=\"sk-toggleable__content\"><pre>['age', 'height']</pre></div></div></div><div class=\"sk-serial\"><div class=\"sk-item\"><div class=\"sk-serial\"><div class=\"sk-item\"><div class=\"sk-estimator sk-toggleable\"><input class=\"sk-toggleable__control sk-hidden--visually\" id=\"e2fea65f-4352-4e37-9ab5-b928b0712464\" type=\"checkbox\" ><label class=\"sk-toggleable__label\" for=\"e2fea65f-4352-4e37-9ab5-b928b0712464\">SimpleImputer</label><div class=\"sk-toggleable__content\"><pre>SimpleImputer()</pre></div></div></div><div class=\"sk-item\"><div class=\"sk-estimator sk-toggleable\"><input class=\"sk-toggleable__control sk-hidden--visually\" id=\"b89749b9-52ba-43af-ad96-dde1ef6b5d3e\" type=\"checkbox\" ><label class=\"sk-toggleable__label\" for=\"b89749b9-52ba-43af-ad96-dde1ef6b5d3e\">StandardScaler</label><div class=\"sk-toggleable__content\"><pre>StandardScaler()</pre></div></div></div></div></div></div></div></div></div></div><div class=\"sk-item\"><div class=\"sk-estimator sk-toggleable\"><input class=\"sk-toggleable__control sk-hidden--visually\" id=\"9ca49b1c-b794-433e-b0f7-f78f1342dc57\" type=\"checkbox\" ><label class=\"sk-toggleable__label\" for=\"9ca49b1c-b794-433e-b0f7-f78f1342dc57\">LogisticRegression</label><div class=\"sk-toggleable__content\"><pre>LogisticRegression()</pre></div></div></div></div></div></div></div>"
      ],
      "text/plain": [
       "Pipeline(steps=[('columntransformer',\n",
       "                 ColumnTransformer(transformers=[('categorical',\n",
       "                                                  Pipeline(steps=[('imputation_constant',\n",
       "                                                                   SimpleImputer(fill_value='missing',\n",
       "                                                                                 strategy='constant')),\n",
       "                                                                  ('onehot',\n",
       "                                                                   OneHotEncoder(handle_unknown='ignore'))]),\n",
       "                                                  ['gender', 'City']),\n",
       "                                                 ('numerical',\n",
       "                                                  Pipeline(steps=[('imputation_mean',\n",
       "                                                                   SimpleImputer()),\n",
       "                                                                  ('standard_scaler',\n",
       "                                                                   StandardScaler())]),\n",
       "                                                  ['age', 'height'])])),\n",
       "                ('logisticregression', LogisticRegression())])"
      ]
     },
     "execution_count": 39,
     "metadata": {},
     "output_type": "execute_result"
    }
   ],
   "source": [
    "pipe.fit(X_train, y_train)"
   ]
  },
  {
   "cell_type": "code",
   "execution_count": 40,
   "metadata": {},
   "outputs": [],
   "source": [
    "y_pred = pipe.predict(X_test)"
   ]
  },
  {
   "cell_type": "code",
   "execution_count": 41,
   "metadata": {},
   "outputs": [
    {
     "data": {
      "text/plain": [
       "array([1, 1], dtype=int64)"
      ]
     },
     "execution_count": 41,
     "metadata": {},
     "output_type": "execute_result"
    }
   ],
   "source": [
    "y_pred"
   ]
  },
  {
   "cell_type": "code",
   "execution_count": 42,
   "metadata": {},
   "outputs": [
    {
     "name": "stdout",
     "output_type": "stream",
     "text": [
      "              precision    recall  f1-score   support\n",
      "\n",
      "           1       1.00      1.00      1.00         2\n",
      "\n",
      "    accuracy                           1.00         2\n",
      "   macro avg       1.00      1.00      1.00         2\n",
      "weighted avg       1.00      1.00      1.00         2\n",
      "\n"
     ]
    }
   ],
   "source": [
    "from sklearn.metrics import classification_report\n",
    "\n",
    "print(classification_report(y_test, y_pred))"
   ]
  },
  {
   "cell_type": "code",
   "execution_count": 43,
   "metadata": {},
   "outputs": [],
   "source": [
    "from sklearn.ensemble import RandomForestRegressor\n",
    "from sklearn.model_selection import GridSearchCV"
   ]
  },
  {
   "cell_type": "code",
   "execution_count": 44,
   "metadata": {},
   "outputs": [
    {
     "data": {
      "text/html": [
       "<div>\n",
       "<style scoped>\n",
       "    .dataframe tbody tr th:only-of-type {\n",
       "        vertical-align: middle;\n",
       "    }\n",
       "\n",
       "    .dataframe tbody tr th {\n",
       "        vertical-align: top;\n",
       "    }\n",
       "\n",
       "    .dataframe thead th {\n",
       "        text-align: right;\n",
       "    }\n",
       "</style>\n",
       "<table border=\"1\" class=\"dataframe\">\n",
       "  <thead>\n",
       "    <tr style=\"text-align: right;\">\n",
       "      <th></th>\n",
       "      <th>total_bill</th>\n",
       "      <th>tip</th>\n",
       "      <th>sex</th>\n",
       "      <th>smoker</th>\n",
       "      <th>day</th>\n",
       "      <th>time</th>\n",
       "      <th>size</th>\n",
       "    </tr>\n",
       "  </thead>\n",
       "  <tbody>\n",
       "    <tr>\n",
       "      <th>0</th>\n",
       "      <td>16.99</td>\n",
       "      <td>1.01</td>\n",
       "      <td>Female</td>\n",
       "      <td>No</td>\n",
       "      <td>Sun</td>\n",
       "      <td>Dinner</td>\n",
       "      <td>2</td>\n",
       "    </tr>\n",
       "    <tr>\n",
       "      <th>1</th>\n",
       "      <td>10.34</td>\n",
       "      <td>1.66</td>\n",
       "      <td>Male</td>\n",
       "      <td>No</td>\n",
       "      <td>Sun</td>\n",
       "      <td>Dinner</td>\n",
       "      <td>3</td>\n",
       "    </tr>\n",
       "    <tr>\n",
       "      <th>2</th>\n",
       "      <td>21.01</td>\n",
       "      <td>3.50</td>\n",
       "      <td>Male</td>\n",
       "      <td>No</td>\n",
       "      <td>Sun</td>\n",
       "      <td>Dinner</td>\n",
       "      <td>3</td>\n",
       "    </tr>\n",
       "    <tr>\n",
       "      <th>3</th>\n",
       "      <td>23.68</td>\n",
       "      <td>3.31</td>\n",
       "      <td>Male</td>\n",
       "      <td>No</td>\n",
       "      <td>Sun</td>\n",
       "      <td>Dinner</td>\n",
       "      <td>2</td>\n",
       "    </tr>\n",
       "    <tr>\n",
       "      <th>4</th>\n",
       "      <td>24.59</td>\n",
       "      <td>3.61</td>\n",
       "      <td>Female</td>\n",
       "      <td>No</td>\n",
       "      <td>Sun</td>\n",
       "      <td>Dinner</td>\n",
       "      <td>4</td>\n",
       "    </tr>\n",
       "  </tbody>\n",
       "</table>\n",
       "</div>"
      ],
      "text/plain": [
       "   total_bill   tip     sex smoker  day    time  size\n",
       "0       16.99  1.01  Female     No  Sun  Dinner     2\n",
       "1       10.34  1.66    Male     No  Sun  Dinner     3\n",
       "2       21.01  3.50    Male     No  Sun  Dinner     3\n",
       "3       23.68  3.31    Male     No  Sun  Dinner     2\n",
       "4       24.59  3.61  Female     No  Sun  Dinner     4"
      ]
     },
     "execution_count": 44,
     "metadata": {},
     "output_type": "execute_result"
    }
   ],
   "source": [
    "import seaborn as sns\n",
    "\n",
    "df = sns.load_dataset('tips')\n",
    "df.head()"
   ]
  },
  {
   "cell_type": "code",
   "execution_count": 55,
   "metadata": {},
   "outputs": [],
   "source": [
    "X = df.iloc[:, 1:]\n",
    "y = df.iloc[:, 0]"
   ]
  },
  {
   "cell_type": "code",
   "execution_count": 56,
   "metadata": {},
   "outputs": [
    {
     "data": {
      "text/html": [
       "<div>\n",
       "<style scoped>\n",
       "    .dataframe tbody tr th:only-of-type {\n",
       "        vertical-align: middle;\n",
       "    }\n",
       "\n",
       "    .dataframe tbody tr th {\n",
       "        vertical-align: top;\n",
       "    }\n",
       "\n",
       "    .dataframe thead th {\n",
       "        text-align: right;\n",
       "    }\n",
       "</style>\n",
       "<table border=\"1\" class=\"dataframe\">\n",
       "  <thead>\n",
       "    <tr style=\"text-align: right;\">\n",
       "      <th></th>\n",
       "      <th>tip</th>\n",
       "      <th>sex</th>\n",
       "      <th>smoker</th>\n",
       "      <th>day</th>\n",
       "      <th>time</th>\n",
       "      <th>size</th>\n",
       "    </tr>\n",
       "  </thead>\n",
       "  <tbody>\n",
       "    <tr>\n",
       "      <th>0</th>\n",
       "      <td>1.01</td>\n",
       "      <td>Female</td>\n",
       "      <td>No</td>\n",
       "      <td>Sun</td>\n",
       "      <td>Dinner</td>\n",
       "      <td>2</td>\n",
       "    </tr>\n",
       "    <tr>\n",
       "      <th>1</th>\n",
       "      <td>1.66</td>\n",
       "      <td>Male</td>\n",
       "      <td>No</td>\n",
       "      <td>Sun</td>\n",
       "      <td>Dinner</td>\n",
       "      <td>3</td>\n",
       "    </tr>\n",
       "    <tr>\n",
       "      <th>2</th>\n",
       "      <td>3.50</td>\n",
       "      <td>Male</td>\n",
       "      <td>No</td>\n",
       "      <td>Sun</td>\n",
       "      <td>Dinner</td>\n",
       "      <td>3</td>\n",
       "    </tr>\n",
       "    <tr>\n",
       "      <th>3</th>\n",
       "      <td>3.31</td>\n",
       "      <td>Male</td>\n",
       "      <td>No</td>\n",
       "      <td>Sun</td>\n",
       "      <td>Dinner</td>\n",
       "      <td>2</td>\n",
       "    </tr>\n",
       "    <tr>\n",
       "      <th>4</th>\n",
       "      <td>3.61</td>\n",
       "      <td>Female</td>\n",
       "      <td>No</td>\n",
       "      <td>Sun</td>\n",
       "      <td>Dinner</td>\n",
       "      <td>4</td>\n",
       "    </tr>\n",
       "  </tbody>\n",
       "</table>\n",
       "</div>"
      ],
      "text/plain": [
       "    tip     sex smoker  day    time  size\n",
       "0  1.01  Female     No  Sun  Dinner     2\n",
       "1  1.66    Male     No  Sun  Dinner     3\n",
       "2  3.50    Male     No  Sun  Dinner     3\n",
       "3  3.31    Male     No  Sun  Dinner     2\n",
       "4  3.61  Female     No  Sun  Dinner     4"
      ]
     },
     "execution_count": 56,
     "metadata": {},
     "output_type": "execute_result"
    }
   ],
   "source": [
    "X.head()"
   ]
  },
  {
   "cell_type": "code",
   "execution_count": 57,
   "metadata": {},
   "outputs": [
    {
     "data": {
      "text/plain": [
       "0    16.99\n",
       "1    10.34\n",
       "2    21.01\n",
       "3    23.68\n",
       "4    24.59\n",
       "Name: total_bill, dtype: float64"
      ]
     },
     "execution_count": 57,
     "metadata": {},
     "output_type": "execute_result"
    }
   ],
   "source": [
    "y.head()"
   ]
  },
  {
   "cell_type": "code",
   "execution_count": 58,
   "metadata": {},
   "outputs": [],
   "source": [
    "from sklearn.model_selection import train_test_split\n",
    "X_train, X_test, y_train, y_test = train_test_split(X, y, random_state=42, test_size = 0.3)"
   ]
  },
  {
   "cell_type": "code",
   "execution_count": 59,
   "metadata": {},
   "outputs": [
    {
     "data": {
      "text/plain": [
       "((170, 6), (74, 6), (170,), (74,))"
      ]
     },
     "execution_count": 59,
     "metadata": {},
     "output_type": "execute_result"
    }
   ],
   "source": [
    "X_train.shape, X_test.shape, y_train.shape, y_test.shape"
   ]
  },
  {
   "cell_type": "code",
   "execution_count": 60,
   "metadata": {},
   "outputs": [],
   "source": [
    "numeric_processor = Pipeline(steps = [(\"imputation_mean\", SimpleImputer(missing_values=np.nan, strategy=\"mean\")),\n",
    "                            (\"scaler\", StandardScaler())])   "
   ]
  },
  {
   "cell_type": "code",
   "execution_count": 61,
   "metadata": {},
   "outputs": [],
   "source": [
    "categorical_processor = Pipeline(steps = [(\"imputation_constant\", SimpleImputer(fill_value=\"missing\", strategy= \"constant\")),\n",
    "                                (\"onehot\", OneHotEncoder(handle_unknown=\"ignore\"))])"
   ]
  },
  {
   "cell_type": "code",
   "execution_count": 65,
   "metadata": {},
   "outputs": [],
   "source": [
    "from sklearn.compose import ColumnTransformer\n",
    "\n",
    "preprocessor = ColumnTransformer(\n",
    "    [(\"categorical\", categorical_processor, [\"sex\", \"smoker\", \"day\", \"time\"]),\n",
    "    (\"numerical\", numeric_processor, [\"tip\", \"size\"]),\n",
    "    ]\n",
    ")"
   ]
  },
  {
   "cell_type": "code",
   "execution_count": 66,
   "metadata": {},
   "outputs": [],
   "source": [
    "pipe = Pipeline(steps=[(\"preprocessor\", preprocessor),\n",
    "                (\"regressor\", RandomForestRegressor())])"
   ]
  },
  {
   "cell_type": "code",
   "execution_count": 67,
   "metadata": {},
   "outputs": [],
   "source": [
    "from sklearn import set_config\n",
    "\n",
    "set_config(display=\"diagram\")"
   ]
  },
  {
   "cell_type": "code",
   "execution_count": 68,
   "metadata": {},
   "outputs": [
    {
     "data": {
      "text/html": [
       "<style>#sk-618416ec-d676-43db-9fc9-d5bc73778664 {color: black;background-color: white;}#sk-618416ec-d676-43db-9fc9-d5bc73778664 pre{padding: 0;}#sk-618416ec-d676-43db-9fc9-d5bc73778664 div.sk-toggleable {background-color: white;}#sk-618416ec-d676-43db-9fc9-d5bc73778664 label.sk-toggleable__label {cursor: pointer;display: block;width: 100%;margin-bottom: 0;padding: 0.2em 0.3em;box-sizing: border-box;text-align: center;}#sk-618416ec-d676-43db-9fc9-d5bc73778664 div.sk-toggleable__content {max-height: 0;max-width: 0;overflow: hidden;text-align: left;background-color: #f0f8ff;}#sk-618416ec-d676-43db-9fc9-d5bc73778664 div.sk-toggleable__content pre {margin: 0.2em;color: black;border-radius: 0.25em;background-color: #f0f8ff;}#sk-618416ec-d676-43db-9fc9-d5bc73778664 input.sk-toggleable__control:checked~div.sk-toggleable__content {max-height: 200px;max-width: 100%;overflow: auto;}#sk-618416ec-d676-43db-9fc9-d5bc73778664 div.sk-estimator input.sk-toggleable__control:checked~label.sk-toggleable__label {background-color: #d4ebff;}#sk-618416ec-d676-43db-9fc9-d5bc73778664 div.sk-label input.sk-toggleable__control:checked~label.sk-toggleable__label {background-color: #d4ebff;}#sk-618416ec-d676-43db-9fc9-d5bc73778664 input.sk-hidden--visually {border: 0;clip: rect(1px 1px 1px 1px);clip: rect(1px, 1px, 1px, 1px);height: 1px;margin: -1px;overflow: hidden;padding: 0;position: absolute;width: 1px;}#sk-618416ec-d676-43db-9fc9-d5bc73778664 div.sk-estimator {font-family: monospace;background-color: #f0f8ff;margin: 0.25em 0.25em;border: 1px dotted black;border-radius: 0.25em;box-sizing: border-box;}#sk-618416ec-d676-43db-9fc9-d5bc73778664 div.sk-estimator:hover {background-color: #d4ebff;}#sk-618416ec-d676-43db-9fc9-d5bc73778664 div.sk-parallel-item::after {content: \"\";width: 100%;border-bottom: 1px solid gray;flex-grow: 1;}#sk-618416ec-d676-43db-9fc9-d5bc73778664 div.sk-label:hover label.sk-toggleable__label {background-color: #d4ebff;}#sk-618416ec-d676-43db-9fc9-d5bc73778664 div.sk-serial::before {content: \"\";position: absolute;border-left: 1px solid gray;box-sizing: border-box;top: 2em;bottom: 0;left: 50%;}#sk-618416ec-d676-43db-9fc9-d5bc73778664 div.sk-serial {display: flex;flex-direction: column;align-items: center;background-color: white;}#sk-618416ec-d676-43db-9fc9-d5bc73778664 div.sk-item {z-index: 1;}#sk-618416ec-d676-43db-9fc9-d5bc73778664 div.sk-parallel {display: flex;align-items: stretch;justify-content: center;background-color: white;}#sk-618416ec-d676-43db-9fc9-d5bc73778664 div.sk-parallel-item {display: flex;flex-direction: column;position: relative;background-color: white;}#sk-618416ec-d676-43db-9fc9-d5bc73778664 div.sk-parallel-item:first-child::after {align-self: flex-end;width: 50%;}#sk-618416ec-d676-43db-9fc9-d5bc73778664 div.sk-parallel-item:last-child::after {align-self: flex-start;width: 50%;}#sk-618416ec-d676-43db-9fc9-d5bc73778664 div.sk-parallel-item:only-child::after {width: 0;}#sk-618416ec-d676-43db-9fc9-d5bc73778664 div.sk-dashed-wrapped {border: 1px dashed gray;margin: 0.2em;box-sizing: border-box;padding-bottom: 0.1em;background-color: white;position: relative;}#sk-618416ec-d676-43db-9fc9-d5bc73778664 div.sk-label label {font-family: monospace;font-weight: bold;background-color: white;display: inline-block;line-height: 1.2em;}#sk-618416ec-d676-43db-9fc9-d5bc73778664 div.sk-label-container {position: relative;z-index: 2;text-align: center;}#sk-618416ec-d676-43db-9fc9-d5bc73778664 div.sk-container {display: inline-block;position: relative;}</style><div id=\"sk-618416ec-d676-43db-9fc9-d5bc73778664\" class\"sk-top-container\"><div class=\"sk-container\"><div class=\"sk-item sk-dashed-wrapped\"><div class=\"sk-label-container\"><div class=\"sk-label sk-toggleable\"><input class=\"sk-toggleable__control sk-hidden--visually\" id=\"00573dd4-01cf-4c70-a1a1-2748f9def6e0\" type=\"checkbox\" ><label class=\"sk-toggleable__label\" for=\"00573dd4-01cf-4c70-a1a1-2748f9def6e0\">Pipeline</label><div class=\"sk-toggleable__content\"><pre>Pipeline(steps=[('preprocessor',\n",
       "                 ColumnTransformer(transformers=[('categorical',\n",
       "                                                  Pipeline(steps=[('imputation_constant',\n",
       "                                                                   SimpleImputer(fill_value='missing',\n",
       "                                                                                 strategy='constant')),\n",
       "                                                                  ('onehot',\n",
       "                                                                   OneHotEncoder(handle_unknown='ignore'))]),\n",
       "                                                  ['sex', 'smoker', 'day',\n",
       "                                                   'time']),\n",
       "                                                 ('numerical',\n",
       "                                                  Pipeline(steps=[('imputation_mean',\n",
       "                                                                   SimpleImputer()),\n",
       "                                                                  ('scaler',\n",
       "                                                                   StandardScaler())]),\n",
       "                                                  ['tip', 'size'])])),\n",
       "                ('regressor', RandomForestRegressor())])</pre></div></div></div><div class=\"sk-serial\"><div class=\"sk-item sk-dashed-wrapped\"><div class=\"sk-label-container\"><div class=\"sk-label sk-toggleable\"><input class=\"sk-toggleable__control sk-hidden--visually\" id=\"39de2b30-1839-4235-bc0a-bba0eb0831de\" type=\"checkbox\" ><label class=\"sk-toggleable__label\" for=\"39de2b30-1839-4235-bc0a-bba0eb0831de\">preprocessor: ColumnTransformer</label><div class=\"sk-toggleable__content\"><pre>ColumnTransformer(transformers=[('categorical',\n",
       "                                 Pipeline(steps=[('imputation_constant',\n",
       "                                                  SimpleImputer(fill_value='missing',\n",
       "                                                                strategy='constant')),\n",
       "                                                 ('onehot',\n",
       "                                                  OneHotEncoder(handle_unknown='ignore'))]),\n",
       "                                 ['sex', 'smoker', 'day', 'time']),\n",
       "                                ('numerical',\n",
       "                                 Pipeline(steps=[('imputation_mean',\n",
       "                                                  SimpleImputer()),\n",
       "                                                 ('scaler', StandardScaler())]),\n",
       "                                 ['tip', 'size'])])</pre></div></div></div><div class=\"sk-parallel\"><div class=\"sk-parallel-item\"><div class=\"sk-item\"><div class=\"sk-label-container\"><div class=\"sk-label sk-toggleable\"><input class=\"sk-toggleable__control sk-hidden--visually\" id=\"5c8a48c0-f9a5-4e4b-8cd0-c6183166644b\" type=\"checkbox\" ><label class=\"sk-toggleable__label\" for=\"5c8a48c0-f9a5-4e4b-8cd0-c6183166644b\">categorical</label><div class=\"sk-toggleable__content\"><pre>['sex', 'smoker', 'day', 'time']</pre></div></div></div><div class=\"sk-serial\"><div class=\"sk-item\"><div class=\"sk-serial\"><div class=\"sk-item\"><div class=\"sk-estimator sk-toggleable\"><input class=\"sk-toggleable__control sk-hidden--visually\" id=\"bdca5a18-93c8-41cb-adca-8a8b0b7fca5b\" type=\"checkbox\" ><label class=\"sk-toggleable__label\" for=\"bdca5a18-93c8-41cb-adca-8a8b0b7fca5b\">SimpleImputer</label><div class=\"sk-toggleable__content\"><pre>SimpleImputer(fill_value='missing', strategy='constant')</pre></div></div></div><div class=\"sk-item\"><div class=\"sk-estimator sk-toggleable\"><input class=\"sk-toggleable__control sk-hidden--visually\" id=\"ead2c2e7-4938-48cc-ab3e-d87f6fca0dee\" type=\"checkbox\" ><label class=\"sk-toggleable__label\" for=\"ead2c2e7-4938-48cc-ab3e-d87f6fca0dee\">OneHotEncoder</label><div class=\"sk-toggleable__content\"><pre>OneHotEncoder(handle_unknown='ignore')</pre></div></div></div></div></div></div></div></div><div class=\"sk-parallel-item\"><div class=\"sk-item\"><div class=\"sk-label-container\"><div class=\"sk-label sk-toggleable\"><input class=\"sk-toggleable__control sk-hidden--visually\" id=\"e328b731-577b-468e-9623-ff6a8f7346ab\" type=\"checkbox\" ><label class=\"sk-toggleable__label\" for=\"e328b731-577b-468e-9623-ff6a8f7346ab\">numerical</label><div class=\"sk-toggleable__content\"><pre>['tip', 'size']</pre></div></div></div><div class=\"sk-serial\"><div class=\"sk-item\"><div class=\"sk-serial\"><div class=\"sk-item\"><div class=\"sk-estimator sk-toggleable\"><input class=\"sk-toggleable__control sk-hidden--visually\" id=\"769bae3e-d4d5-4ad3-a2f7-90ef0edfc6e3\" type=\"checkbox\" ><label class=\"sk-toggleable__label\" for=\"769bae3e-d4d5-4ad3-a2f7-90ef0edfc6e3\">SimpleImputer</label><div class=\"sk-toggleable__content\"><pre>SimpleImputer()</pre></div></div></div><div class=\"sk-item\"><div class=\"sk-estimator sk-toggleable\"><input class=\"sk-toggleable__control sk-hidden--visually\" id=\"130433a5-9d61-4da1-aa1d-d68d790fba98\" type=\"checkbox\" ><label class=\"sk-toggleable__label\" for=\"130433a5-9d61-4da1-aa1d-d68d790fba98\">StandardScaler</label><div class=\"sk-toggleable__content\"><pre>StandardScaler()</pre></div></div></div></div></div></div></div></div></div></div><div class=\"sk-item\"><div class=\"sk-estimator sk-toggleable\"><input class=\"sk-toggleable__control sk-hidden--visually\" id=\"dae6ea39-4979-4cb6-9608-cb051768e80d\" type=\"checkbox\" ><label class=\"sk-toggleable__label\" for=\"dae6ea39-4979-4cb6-9608-cb051768e80d\">RandomForestRegressor</label><div class=\"sk-toggleable__content\"><pre>RandomForestRegressor()</pre></div></div></div></div></div></div></div>"
      ],
      "text/plain": [
       "Pipeline(steps=[('preprocessor',\n",
       "                 ColumnTransformer(transformers=[('categorical',\n",
       "                                                  Pipeline(steps=[('imputation_constant',\n",
       "                                                                   SimpleImputer(fill_value='missing',\n",
       "                                                                                 strategy='constant')),\n",
       "                                                                  ('onehot',\n",
       "                                                                   OneHotEncoder(handle_unknown='ignore'))]),\n",
       "                                                  ['sex', 'smoker', 'day',\n",
       "                                                   'time']),\n",
       "                                                 ('numerical',\n",
       "                                                  Pipeline(steps=[('imputation_mean',\n",
       "                                                                   SimpleImputer()),\n",
       "                                                                  ('scaler',\n",
       "                                                                   StandardScaler())]),\n",
       "                                                  ['tip', 'size'])])),\n",
       "                ('regressor', RandomForestRegressor())])"
      ]
     },
     "execution_count": 68,
     "metadata": {},
     "output_type": "execute_result"
    }
   ],
   "source": [
    "pipe"
   ]
  },
  {
   "cell_type": "code",
   "execution_count": 69,
   "metadata": {},
   "outputs": [
    {
     "data": {
      "text/html": [
       "<style>#sk-7f759639-869f-453f-b7cc-9b666edef1ae {color: black;background-color: white;}#sk-7f759639-869f-453f-b7cc-9b666edef1ae pre{padding: 0;}#sk-7f759639-869f-453f-b7cc-9b666edef1ae div.sk-toggleable {background-color: white;}#sk-7f759639-869f-453f-b7cc-9b666edef1ae label.sk-toggleable__label {cursor: pointer;display: block;width: 100%;margin-bottom: 0;padding: 0.2em 0.3em;box-sizing: border-box;text-align: center;}#sk-7f759639-869f-453f-b7cc-9b666edef1ae div.sk-toggleable__content {max-height: 0;max-width: 0;overflow: hidden;text-align: left;background-color: #f0f8ff;}#sk-7f759639-869f-453f-b7cc-9b666edef1ae div.sk-toggleable__content pre {margin: 0.2em;color: black;border-radius: 0.25em;background-color: #f0f8ff;}#sk-7f759639-869f-453f-b7cc-9b666edef1ae input.sk-toggleable__control:checked~div.sk-toggleable__content {max-height: 200px;max-width: 100%;overflow: auto;}#sk-7f759639-869f-453f-b7cc-9b666edef1ae div.sk-estimator input.sk-toggleable__control:checked~label.sk-toggleable__label {background-color: #d4ebff;}#sk-7f759639-869f-453f-b7cc-9b666edef1ae div.sk-label input.sk-toggleable__control:checked~label.sk-toggleable__label {background-color: #d4ebff;}#sk-7f759639-869f-453f-b7cc-9b666edef1ae input.sk-hidden--visually {border: 0;clip: rect(1px 1px 1px 1px);clip: rect(1px, 1px, 1px, 1px);height: 1px;margin: -1px;overflow: hidden;padding: 0;position: absolute;width: 1px;}#sk-7f759639-869f-453f-b7cc-9b666edef1ae div.sk-estimator {font-family: monospace;background-color: #f0f8ff;margin: 0.25em 0.25em;border: 1px dotted black;border-radius: 0.25em;box-sizing: border-box;}#sk-7f759639-869f-453f-b7cc-9b666edef1ae div.sk-estimator:hover {background-color: #d4ebff;}#sk-7f759639-869f-453f-b7cc-9b666edef1ae div.sk-parallel-item::after {content: \"\";width: 100%;border-bottom: 1px solid gray;flex-grow: 1;}#sk-7f759639-869f-453f-b7cc-9b666edef1ae div.sk-label:hover label.sk-toggleable__label {background-color: #d4ebff;}#sk-7f759639-869f-453f-b7cc-9b666edef1ae div.sk-serial::before {content: \"\";position: absolute;border-left: 1px solid gray;box-sizing: border-box;top: 2em;bottom: 0;left: 50%;}#sk-7f759639-869f-453f-b7cc-9b666edef1ae div.sk-serial {display: flex;flex-direction: column;align-items: center;background-color: white;}#sk-7f759639-869f-453f-b7cc-9b666edef1ae div.sk-item {z-index: 1;}#sk-7f759639-869f-453f-b7cc-9b666edef1ae div.sk-parallel {display: flex;align-items: stretch;justify-content: center;background-color: white;}#sk-7f759639-869f-453f-b7cc-9b666edef1ae div.sk-parallel-item {display: flex;flex-direction: column;position: relative;background-color: white;}#sk-7f759639-869f-453f-b7cc-9b666edef1ae div.sk-parallel-item:first-child::after {align-self: flex-end;width: 50%;}#sk-7f759639-869f-453f-b7cc-9b666edef1ae div.sk-parallel-item:last-child::after {align-self: flex-start;width: 50%;}#sk-7f759639-869f-453f-b7cc-9b666edef1ae div.sk-parallel-item:only-child::after {width: 0;}#sk-7f759639-869f-453f-b7cc-9b666edef1ae div.sk-dashed-wrapped {border: 1px dashed gray;margin: 0.2em;box-sizing: border-box;padding-bottom: 0.1em;background-color: white;position: relative;}#sk-7f759639-869f-453f-b7cc-9b666edef1ae div.sk-label label {font-family: monospace;font-weight: bold;background-color: white;display: inline-block;line-height: 1.2em;}#sk-7f759639-869f-453f-b7cc-9b666edef1ae div.sk-label-container {position: relative;z-index: 2;text-align: center;}#sk-7f759639-869f-453f-b7cc-9b666edef1ae div.sk-container {display: inline-block;position: relative;}</style><div id=\"sk-7f759639-869f-453f-b7cc-9b666edef1ae\" class\"sk-top-container\"><div class=\"sk-container\"><div class=\"sk-item sk-dashed-wrapped\"><div class=\"sk-label-container\"><div class=\"sk-label sk-toggleable\"><input class=\"sk-toggleable__control sk-hidden--visually\" id=\"7a2d7fa5-3fae-4a17-89d9-47f6f225fa3d\" type=\"checkbox\" ><label class=\"sk-toggleable__label\" for=\"7a2d7fa5-3fae-4a17-89d9-47f6f225fa3d\">Pipeline</label><div class=\"sk-toggleable__content\"><pre>Pipeline(steps=[('preprocessor',\n",
       "                 ColumnTransformer(transformers=[('categorical',\n",
       "                                                  Pipeline(steps=[('imputation_constant',\n",
       "                                                                   SimpleImputer(fill_value='missing',\n",
       "                                                                                 strategy='constant')),\n",
       "                                                                  ('onehot',\n",
       "                                                                   OneHotEncoder(handle_unknown='ignore'))]),\n",
       "                                                  ['sex', 'smoker', 'day',\n",
       "                                                   'time']),\n",
       "                                                 ('numerical',\n",
       "                                                  Pipeline(steps=[('imputation_mean',\n",
       "                                                                   SimpleImputer()),\n",
       "                                                                  ('scaler',\n",
       "                                                                   StandardScaler())]),\n",
       "                                                  ['tip', 'size'])])),\n",
       "                ('regressor', RandomForestRegressor())])</pre></div></div></div><div class=\"sk-serial\"><div class=\"sk-item sk-dashed-wrapped\"><div class=\"sk-label-container\"><div class=\"sk-label sk-toggleable\"><input class=\"sk-toggleable__control sk-hidden--visually\" id=\"5368584f-fcf1-4a68-97ed-2a83913abc09\" type=\"checkbox\" ><label class=\"sk-toggleable__label\" for=\"5368584f-fcf1-4a68-97ed-2a83913abc09\">preprocessor: ColumnTransformer</label><div class=\"sk-toggleable__content\"><pre>ColumnTransformer(transformers=[('categorical',\n",
       "                                 Pipeline(steps=[('imputation_constant',\n",
       "                                                  SimpleImputer(fill_value='missing',\n",
       "                                                                strategy='constant')),\n",
       "                                                 ('onehot',\n",
       "                                                  OneHotEncoder(handle_unknown='ignore'))]),\n",
       "                                 ['sex', 'smoker', 'day', 'time']),\n",
       "                                ('numerical',\n",
       "                                 Pipeline(steps=[('imputation_mean',\n",
       "                                                  SimpleImputer()),\n",
       "                                                 ('scaler', StandardScaler())]),\n",
       "                                 ['tip', 'size'])])</pre></div></div></div><div class=\"sk-parallel\"><div class=\"sk-parallel-item\"><div class=\"sk-item\"><div class=\"sk-label-container\"><div class=\"sk-label sk-toggleable\"><input class=\"sk-toggleable__control sk-hidden--visually\" id=\"3506b52d-4567-4534-bf91-403509bca0ae\" type=\"checkbox\" ><label class=\"sk-toggleable__label\" for=\"3506b52d-4567-4534-bf91-403509bca0ae\">categorical</label><div class=\"sk-toggleable__content\"><pre>['sex', 'smoker', 'day', 'time']</pre></div></div></div><div class=\"sk-serial\"><div class=\"sk-item\"><div class=\"sk-serial\"><div class=\"sk-item\"><div class=\"sk-estimator sk-toggleable\"><input class=\"sk-toggleable__control sk-hidden--visually\" id=\"19f4185d-d838-41ea-adef-3314a0cfa765\" type=\"checkbox\" ><label class=\"sk-toggleable__label\" for=\"19f4185d-d838-41ea-adef-3314a0cfa765\">SimpleImputer</label><div class=\"sk-toggleable__content\"><pre>SimpleImputer(fill_value='missing', strategy='constant')</pre></div></div></div><div class=\"sk-item\"><div class=\"sk-estimator sk-toggleable\"><input class=\"sk-toggleable__control sk-hidden--visually\" id=\"845150c0-3b7e-47ab-8127-8d330286594a\" type=\"checkbox\" ><label class=\"sk-toggleable__label\" for=\"845150c0-3b7e-47ab-8127-8d330286594a\">OneHotEncoder</label><div class=\"sk-toggleable__content\"><pre>OneHotEncoder(handle_unknown='ignore')</pre></div></div></div></div></div></div></div></div><div class=\"sk-parallel-item\"><div class=\"sk-item\"><div class=\"sk-label-container\"><div class=\"sk-label sk-toggleable\"><input class=\"sk-toggleable__control sk-hidden--visually\" id=\"9ff88cf2-f174-4fca-8898-27fddd805108\" type=\"checkbox\" ><label class=\"sk-toggleable__label\" for=\"9ff88cf2-f174-4fca-8898-27fddd805108\">numerical</label><div class=\"sk-toggleable__content\"><pre>['tip', 'size']</pre></div></div></div><div class=\"sk-serial\"><div class=\"sk-item\"><div class=\"sk-serial\"><div class=\"sk-item\"><div class=\"sk-estimator sk-toggleable\"><input class=\"sk-toggleable__control sk-hidden--visually\" id=\"4cc87f71-2bf7-4d50-a871-4cd6338e3be8\" type=\"checkbox\" ><label class=\"sk-toggleable__label\" for=\"4cc87f71-2bf7-4d50-a871-4cd6338e3be8\">SimpleImputer</label><div class=\"sk-toggleable__content\"><pre>SimpleImputer()</pre></div></div></div><div class=\"sk-item\"><div class=\"sk-estimator sk-toggleable\"><input class=\"sk-toggleable__control sk-hidden--visually\" id=\"53347767-c2e7-4f20-931e-22dc811927e1\" type=\"checkbox\" ><label class=\"sk-toggleable__label\" for=\"53347767-c2e7-4f20-931e-22dc811927e1\">StandardScaler</label><div class=\"sk-toggleable__content\"><pre>StandardScaler()</pre></div></div></div></div></div></div></div></div></div></div><div class=\"sk-item\"><div class=\"sk-estimator sk-toggleable\"><input class=\"sk-toggleable__control sk-hidden--visually\" id=\"c2f645c1-cc9f-4482-bfa7-1aab4a56704b\" type=\"checkbox\" ><label class=\"sk-toggleable__label\" for=\"c2f645c1-cc9f-4482-bfa7-1aab4a56704b\">RandomForestRegressor</label><div class=\"sk-toggleable__content\"><pre>RandomForestRegressor()</pre></div></div></div></div></div></div></div>"
      ],
      "text/plain": [
       "Pipeline(steps=[('preprocessor',\n",
       "                 ColumnTransformer(transformers=[('categorical',\n",
       "                                                  Pipeline(steps=[('imputation_constant',\n",
       "                                                                   SimpleImputer(fill_value='missing',\n",
       "                                                                                 strategy='constant')),\n",
       "                                                                  ('onehot',\n",
       "                                                                   OneHotEncoder(handle_unknown='ignore'))]),\n",
       "                                                  ['sex', 'smoker', 'day',\n",
       "                                                   'time']),\n",
       "                                                 ('numerical',\n",
       "                                                  Pipeline(steps=[('imputation_mean',\n",
       "                                                                   SimpleImputer()),\n",
       "                                                                  ('scaler',\n",
       "                                                                   StandardScaler())]),\n",
       "                                                  ['tip', 'size'])])),\n",
       "                ('regressor', RandomForestRegressor())])"
      ]
     },
     "execution_count": 69,
     "metadata": {},
     "output_type": "execute_result"
    }
   ],
   "source": [
    "pipe.fit(X_train, y_train)"
   ]
  },
  {
   "cell_type": "code",
   "execution_count": 70,
   "metadata": {},
   "outputs": [
    {
     "data": {
      "text/plain": [
       "array([17.8572    , 13.61934952, 21.4211    , 28.67476   , 13.04691262,\n",
       "       14.14390952, 16.186     , 16.1605069 , 21.8257    , 21.443     ,\n",
       "       19.17306667, 14.3143    , 10.89408   , 14.14390952, 11.59153095,\n",
       "       15.4882    , 21.98434   , 19.563     , 14.717585  , 28.4399    ,\n",
       "       20.6526    , 18.8079    , 20.0389    , 14.3143    , 23.8965    ,\n",
       "       15.94487   , 13.46413333, 27.4667    , 21.4211    , 24.702     ,\n",
       "       22.9147    , 14.6801    , 19.782     , 18.37893333, 20.7461    ,\n",
       "       22.2433    , 12.9969    , 28.9715    , 19.67635   , 14.12793833,\n",
       "       13.1534    , 11.92732171, 16.13089   , 15.7453    , 14.42991905,\n",
       "       13.8564    , 19.6995    , 17.7591    , 11.45245   , 16.712675  ,\n",
       "       14.33768   , 20.02703333, 26.5003    , 14.16387667, 21.6238    ,\n",
       "       12.70275167, 26.73      , 12.4921    , 19.36401667, 33.44638667,\n",
       "       31.196     , 19.1865    , 26.5362    , 12.30998857, 13.09687333,\n",
       "       18.7556    , 14.43088   , 14.8506    , 30.831     , 21.1004    ,\n",
       "       21.4211    , 36.7317    , 19.03403095, 16.2635    ])"
      ]
     },
     "execution_count": 70,
     "metadata": {},
     "output_type": "execute_result"
    }
   ],
   "source": [
    "pipe.predict(X_test)"
   ]
  },
  {
   "cell_type": "code",
   "execution_count": 71,
   "metadata": {},
   "outputs": [],
   "source": [
    "import warnings\n",
    "warnings.filterwarnings('ignore')"
   ]
  },
  {
   "cell_type": "code",
   "execution_count": 72,
   "metadata": {},
   "outputs": [],
   "source": [
    "#hyperparameter tuning\n",
    "\n",
    "param_grid = {\n",
    "    \"regressor__n_estimators\": [100, 200, 500],\n",
    "    \"regressor__max_features\": [\"auto\", \"log2\", \"sqrt\"],\n",
    "    \"regressor__max_depth\": [4, 5, 6, 7, 8]\n",
    "}\n",
    "\n",
    "grid_search = GridSearchCV(param_grid=param_grid, estimator=pipe, n_jobs=-1)"
   ]
  },
  {
   "cell_type": "code",
   "execution_count": 73,
   "metadata": {},
   "outputs": [
    {
     "data": {
      "text/html": [
       "<style>#sk-cc6af8a9-9745-44e0-b919-a1359e85911b {color: black;background-color: white;}#sk-cc6af8a9-9745-44e0-b919-a1359e85911b pre{padding: 0;}#sk-cc6af8a9-9745-44e0-b919-a1359e85911b div.sk-toggleable {background-color: white;}#sk-cc6af8a9-9745-44e0-b919-a1359e85911b label.sk-toggleable__label {cursor: pointer;display: block;width: 100%;margin-bottom: 0;padding: 0.2em 0.3em;box-sizing: border-box;text-align: center;}#sk-cc6af8a9-9745-44e0-b919-a1359e85911b div.sk-toggleable__content {max-height: 0;max-width: 0;overflow: hidden;text-align: left;background-color: #f0f8ff;}#sk-cc6af8a9-9745-44e0-b919-a1359e85911b div.sk-toggleable__content pre {margin: 0.2em;color: black;border-radius: 0.25em;background-color: #f0f8ff;}#sk-cc6af8a9-9745-44e0-b919-a1359e85911b input.sk-toggleable__control:checked~div.sk-toggleable__content {max-height: 200px;max-width: 100%;overflow: auto;}#sk-cc6af8a9-9745-44e0-b919-a1359e85911b div.sk-estimator input.sk-toggleable__control:checked~label.sk-toggleable__label {background-color: #d4ebff;}#sk-cc6af8a9-9745-44e0-b919-a1359e85911b div.sk-label input.sk-toggleable__control:checked~label.sk-toggleable__label {background-color: #d4ebff;}#sk-cc6af8a9-9745-44e0-b919-a1359e85911b input.sk-hidden--visually {border: 0;clip: rect(1px 1px 1px 1px);clip: rect(1px, 1px, 1px, 1px);height: 1px;margin: -1px;overflow: hidden;padding: 0;position: absolute;width: 1px;}#sk-cc6af8a9-9745-44e0-b919-a1359e85911b div.sk-estimator {font-family: monospace;background-color: #f0f8ff;margin: 0.25em 0.25em;border: 1px dotted black;border-radius: 0.25em;box-sizing: border-box;}#sk-cc6af8a9-9745-44e0-b919-a1359e85911b div.sk-estimator:hover {background-color: #d4ebff;}#sk-cc6af8a9-9745-44e0-b919-a1359e85911b div.sk-parallel-item::after {content: \"\";width: 100%;border-bottom: 1px solid gray;flex-grow: 1;}#sk-cc6af8a9-9745-44e0-b919-a1359e85911b div.sk-label:hover label.sk-toggleable__label {background-color: #d4ebff;}#sk-cc6af8a9-9745-44e0-b919-a1359e85911b div.sk-serial::before {content: \"\";position: absolute;border-left: 1px solid gray;box-sizing: border-box;top: 2em;bottom: 0;left: 50%;}#sk-cc6af8a9-9745-44e0-b919-a1359e85911b div.sk-serial {display: flex;flex-direction: column;align-items: center;background-color: white;}#sk-cc6af8a9-9745-44e0-b919-a1359e85911b div.sk-item {z-index: 1;}#sk-cc6af8a9-9745-44e0-b919-a1359e85911b div.sk-parallel {display: flex;align-items: stretch;justify-content: center;background-color: white;}#sk-cc6af8a9-9745-44e0-b919-a1359e85911b div.sk-parallel-item {display: flex;flex-direction: column;position: relative;background-color: white;}#sk-cc6af8a9-9745-44e0-b919-a1359e85911b div.sk-parallel-item:first-child::after {align-self: flex-end;width: 50%;}#sk-cc6af8a9-9745-44e0-b919-a1359e85911b div.sk-parallel-item:last-child::after {align-self: flex-start;width: 50%;}#sk-cc6af8a9-9745-44e0-b919-a1359e85911b div.sk-parallel-item:only-child::after {width: 0;}#sk-cc6af8a9-9745-44e0-b919-a1359e85911b div.sk-dashed-wrapped {border: 1px dashed gray;margin: 0.2em;box-sizing: border-box;padding-bottom: 0.1em;background-color: white;position: relative;}#sk-cc6af8a9-9745-44e0-b919-a1359e85911b div.sk-label label {font-family: monospace;font-weight: bold;background-color: white;display: inline-block;line-height: 1.2em;}#sk-cc6af8a9-9745-44e0-b919-a1359e85911b div.sk-label-container {position: relative;z-index: 2;text-align: center;}#sk-cc6af8a9-9745-44e0-b919-a1359e85911b div.sk-container {display: inline-block;position: relative;}</style><div id=\"sk-cc6af8a9-9745-44e0-b919-a1359e85911b\" class\"sk-top-container\"><div class=\"sk-container\"><div class=\"sk-item sk-dashed-wrapped\"><div class=\"sk-label-container\"><div class=\"sk-label sk-toggleable\"><input class=\"sk-toggleable__control sk-hidden--visually\" id=\"3e25c6ef-017a-4a8c-a1df-605a7bc566e5\" type=\"checkbox\" ><label class=\"sk-toggleable__label\" for=\"3e25c6ef-017a-4a8c-a1df-605a7bc566e5\">GridSearchCV</label><div class=\"sk-toggleable__content\"><pre>GridSearchCV(estimator=Pipeline(steps=[('preprocessor',\n",
       "                                        ColumnTransformer(transformers=[('categorical',\n",
       "                                                                         Pipeline(steps=[('imputation_constant',\n",
       "                                                                                          SimpleImputer(fill_value='missing',\n",
       "                                                                                                        strategy='constant')),\n",
       "                                                                                         ('onehot',\n",
       "                                                                                          OneHotEncoder(handle_unknown='ignore'))]),\n",
       "                                                                         ['sex',\n",
       "                                                                          'smoker',\n",
       "                                                                          'day',\n",
       "                                                                          'time']),\n",
       "                                                                        ('numerical',\n",
       "                                                                         Pipeline(steps=[('imputation_mean',\n",
       "                                                                                          SimpleImputer()),\n",
       "                                                                                         ('scaler',\n",
       "                                                                                          StandardScaler())]),\n",
       "                                                                         ['tip',\n",
       "                                                                          'size'])])),\n",
       "                                       ('regressor', RandomForestRegressor())]),\n",
       "             n_jobs=-1,\n",
       "             param_grid={'regressor__max_depth': [4, 5, 6, 7, 8],\n",
       "                         'regressor__max_features': ['auto', 'log2', 'sqrt'],\n",
       "                         'regressor__n_estimators': [100, 200, 500]})</pre></div></div></div><div class=\"sk-parallel\"><div class=\"sk-parallel-item\"><div class=\"sk-item\"><div class=\"sk-serial\"><div class=\"sk-item\"><div class=\"sk-serial\"><div class=\"sk-item sk-dashed-wrapped\"><div class=\"sk-label-container\"><div class=\"sk-label sk-toggleable\"><input class=\"sk-toggleable__control sk-hidden--visually\" id=\"e5e99d0e-48d0-41d6-9656-fd92c27b3af4\" type=\"checkbox\" ><label class=\"sk-toggleable__label\" for=\"e5e99d0e-48d0-41d6-9656-fd92c27b3af4\">preprocessor: ColumnTransformer</label><div class=\"sk-toggleable__content\"><pre>ColumnTransformer(transformers=[('categorical',\n",
       "                                 Pipeline(steps=[('imputation_constant',\n",
       "                                                  SimpleImputer(fill_value='missing',\n",
       "                                                                strategy='constant')),\n",
       "                                                 ('onehot',\n",
       "                                                  OneHotEncoder(handle_unknown='ignore'))]),\n",
       "                                 ['sex', 'smoker', 'day', 'time']),\n",
       "                                ('numerical',\n",
       "                                 Pipeline(steps=[('imputation_mean',\n",
       "                                                  SimpleImputer()),\n",
       "                                                 ('scaler', StandardScaler())]),\n",
       "                                 ['tip', 'size'])])</pre></div></div></div><div class=\"sk-parallel\"><div class=\"sk-parallel-item\"><div class=\"sk-item\"><div class=\"sk-label-container\"><div class=\"sk-label sk-toggleable\"><input class=\"sk-toggleable__control sk-hidden--visually\" id=\"335944d1-6827-4c14-afb1-3d7d2beb1a66\" type=\"checkbox\" ><label class=\"sk-toggleable__label\" for=\"335944d1-6827-4c14-afb1-3d7d2beb1a66\">categorical</label><div class=\"sk-toggleable__content\"><pre>['sex', 'smoker', 'day', 'time']</pre></div></div></div><div class=\"sk-serial\"><div class=\"sk-item\"><div class=\"sk-serial\"><div class=\"sk-item\"><div class=\"sk-estimator sk-toggleable\"><input class=\"sk-toggleable__control sk-hidden--visually\" id=\"5a26a32a-9efd-46fa-8b99-9c972699910d\" type=\"checkbox\" ><label class=\"sk-toggleable__label\" for=\"5a26a32a-9efd-46fa-8b99-9c972699910d\">SimpleImputer</label><div class=\"sk-toggleable__content\"><pre>SimpleImputer(fill_value='missing', strategy='constant')</pre></div></div></div><div class=\"sk-item\"><div class=\"sk-estimator sk-toggleable\"><input class=\"sk-toggleable__control sk-hidden--visually\" id=\"43850679-390e-4513-a8f4-1e7dd8f83e30\" type=\"checkbox\" ><label class=\"sk-toggleable__label\" for=\"43850679-390e-4513-a8f4-1e7dd8f83e30\">OneHotEncoder</label><div class=\"sk-toggleable__content\"><pre>OneHotEncoder(handle_unknown='ignore')</pre></div></div></div></div></div></div></div></div><div class=\"sk-parallel-item\"><div class=\"sk-item\"><div class=\"sk-label-container\"><div class=\"sk-label sk-toggleable\"><input class=\"sk-toggleable__control sk-hidden--visually\" id=\"a9b0fcc3-5a17-41c4-a021-61517da64a35\" type=\"checkbox\" ><label class=\"sk-toggleable__label\" for=\"a9b0fcc3-5a17-41c4-a021-61517da64a35\">numerical</label><div class=\"sk-toggleable__content\"><pre>['tip', 'size']</pre></div></div></div><div class=\"sk-serial\"><div class=\"sk-item\"><div class=\"sk-serial\"><div class=\"sk-item\"><div class=\"sk-estimator sk-toggleable\"><input class=\"sk-toggleable__control sk-hidden--visually\" id=\"5d2f6df3-b066-4ed4-a608-23a0eeda6f24\" type=\"checkbox\" ><label class=\"sk-toggleable__label\" for=\"5d2f6df3-b066-4ed4-a608-23a0eeda6f24\">SimpleImputer</label><div class=\"sk-toggleable__content\"><pre>SimpleImputer()</pre></div></div></div><div class=\"sk-item\"><div class=\"sk-estimator sk-toggleable\"><input class=\"sk-toggleable__control sk-hidden--visually\" id=\"58f4bca3-60c3-45b3-be51-0311f978aad2\" type=\"checkbox\" ><label class=\"sk-toggleable__label\" for=\"58f4bca3-60c3-45b3-be51-0311f978aad2\">StandardScaler</label><div class=\"sk-toggleable__content\"><pre>StandardScaler()</pre></div></div></div></div></div></div></div></div></div></div><div class=\"sk-item\"><div class=\"sk-estimator sk-toggleable\"><input class=\"sk-toggleable__control sk-hidden--visually\" id=\"5c570328-76c5-4f0d-b033-5b1cb5a54da6\" type=\"checkbox\" ><label class=\"sk-toggleable__label\" for=\"5c570328-76c5-4f0d-b033-5b1cb5a54da6\">RandomForestRegressor</label><div class=\"sk-toggleable__content\"><pre>RandomForestRegressor()</pre></div></div></div></div></div></div></div></div></div></div></div></div>"
      ],
      "text/plain": [
       "GridSearchCV(estimator=Pipeline(steps=[('preprocessor',\n",
       "                                        ColumnTransformer(transformers=[('categorical',\n",
       "                                                                         Pipeline(steps=[('imputation_constant',\n",
       "                                                                                          SimpleImputer(fill_value='missing',\n",
       "                                                                                                        strategy='constant')),\n",
       "                                                                                         ('onehot',\n",
       "                                                                                          OneHotEncoder(handle_unknown='ignore'))]),\n",
       "                                                                         ['sex',\n",
       "                                                                          'smoker',\n",
       "                                                                          'day',\n",
       "                                                                          'time']),\n",
       "                                                                        ('numerical',\n",
       "                                                                         Pipeline(steps=[('imputation_mean',\n",
       "                                                                                          SimpleImputer()),\n",
       "                                                                                         ('scaler',\n",
       "                                                                                          StandardScaler())]),\n",
       "                                                                         ['tip',\n",
       "                                                                          'size'])])),\n",
       "                                       ('regressor', RandomForestRegressor())]),\n",
       "             n_jobs=-1,\n",
       "             param_grid={'regressor__max_depth': [4, 5, 6, 7, 8],\n",
       "                         'regressor__max_features': ['auto', 'log2', 'sqrt'],\n",
       "                         'regressor__n_estimators': [100, 200, 500]})"
      ]
     },
     "execution_count": 73,
     "metadata": {},
     "output_type": "execute_result"
    }
   ],
   "source": [
    "grid_search.fit(X_train, y_train)"
   ]
  },
  {
   "cell_type": "code",
   "execution_count": 74,
   "metadata": {},
   "outputs": [
    {
     "data": {
      "text/plain": [
       "{'regressor__max_depth': 5,\n",
       " 'regressor__max_features': 'sqrt',\n",
       " 'regressor__n_estimators': 100}"
      ]
     },
     "execution_count": 74,
     "metadata": {},
     "output_type": "execute_result"
    }
   ],
   "source": [
    "grid_search.best_params_"
   ]
  },
  {
   "cell_type": "code",
   "execution_count": 75,
   "metadata": {},
   "outputs": [
    {
     "data": {
      "text/html": [
       "<style>#sk-ce9ad799-7b00-4f99-8dbe-c2f3f1f17aca {color: black;background-color: white;}#sk-ce9ad799-7b00-4f99-8dbe-c2f3f1f17aca pre{padding: 0;}#sk-ce9ad799-7b00-4f99-8dbe-c2f3f1f17aca div.sk-toggleable {background-color: white;}#sk-ce9ad799-7b00-4f99-8dbe-c2f3f1f17aca label.sk-toggleable__label {cursor: pointer;display: block;width: 100%;margin-bottom: 0;padding: 0.2em 0.3em;box-sizing: border-box;text-align: center;}#sk-ce9ad799-7b00-4f99-8dbe-c2f3f1f17aca div.sk-toggleable__content {max-height: 0;max-width: 0;overflow: hidden;text-align: left;background-color: #f0f8ff;}#sk-ce9ad799-7b00-4f99-8dbe-c2f3f1f17aca div.sk-toggleable__content pre {margin: 0.2em;color: black;border-radius: 0.25em;background-color: #f0f8ff;}#sk-ce9ad799-7b00-4f99-8dbe-c2f3f1f17aca input.sk-toggleable__control:checked~div.sk-toggleable__content {max-height: 200px;max-width: 100%;overflow: auto;}#sk-ce9ad799-7b00-4f99-8dbe-c2f3f1f17aca div.sk-estimator input.sk-toggleable__control:checked~label.sk-toggleable__label {background-color: #d4ebff;}#sk-ce9ad799-7b00-4f99-8dbe-c2f3f1f17aca div.sk-label input.sk-toggleable__control:checked~label.sk-toggleable__label {background-color: #d4ebff;}#sk-ce9ad799-7b00-4f99-8dbe-c2f3f1f17aca input.sk-hidden--visually {border: 0;clip: rect(1px 1px 1px 1px);clip: rect(1px, 1px, 1px, 1px);height: 1px;margin: -1px;overflow: hidden;padding: 0;position: absolute;width: 1px;}#sk-ce9ad799-7b00-4f99-8dbe-c2f3f1f17aca div.sk-estimator {font-family: monospace;background-color: #f0f8ff;margin: 0.25em 0.25em;border: 1px dotted black;border-radius: 0.25em;box-sizing: border-box;}#sk-ce9ad799-7b00-4f99-8dbe-c2f3f1f17aca div.sk-estimator:hover {background-color: #d4ebff;}#sk-ce9ad799-7b00-4f99-8dbe-c2f3f1f17aca div.sk-parallel-item::after {content: \"\";width: 100%;border-bottom: 1px solid gray;flex-grow: 1;}#sk-ce9ad799-7b00-4f99-8dbe-c2f3f1f17aca div.sk-label:hover label.sk-toggleable__label {background-color: #d4ebff;}#sk-ce9ad799-7b00-4f99-8dbe-c2f3f1f17aca div.sk-serial::before {content: \"\";position: absolute;border-left: 1px solid gray;box-sizing: border-box;top: 2em;bottom: 0;left: 50%;}#sk-ce9ad799-7b00-4f99-8dbe-c2f3f1f17aca div.sk-serial {display: flex;flex-direction: column;align-items: center;background-color: white;}#sk-ce9ad799-7b00-4f99-8dbe-c2f3f1f17aca div.sk-item {z-index: 1;}#sk-ce9ad799-7b00-4f99-8dbe-c2f3f1f17aca div.sk-parallel {display: flex;align-items: stretch;justify-content: center;background-color: white;}#sk-ce9ad799-7b00-4f99-8dbe-c2f3f1f17aca div.sk-parallel-item {display: flex;flex-direction: column;position: relative;background-color: white;}#sk-ce9ad799-7b00-4f99-8dbe-c2f3f1f17aca div.sk-parallel-item:first-child::after {align-self: flex-end;width: 50%;}#sk-ce9ad799-7b00-4f99-8dbe-c2f3f1f17aca div.sk-parallel-item:last-child::after {align-self: flex-start;width: 50%;}#sk-ce9ad799-7b00-4f99-8dbe-c2f3f1f17aca div.sk-parallel-item:only-child::after {width: 0;}#sk-ce9ad799-7b00-4f99-8dbe-c2f3f1f17aca div.sk-dashed-wrapped {border: 1px dashed gray;margin: 0.2em;box-sizing: border-box;padding-bottom: 0.1em;background-color: white;position: relative;}#sk-ce9ad799-7b00-4f99-8dbe-c2f3f1f17aca div.sk-label label {font-family: monospace;font-weight: bold;background-color: white;display: inline-block;line-height: 1.2em;}#sk-ce9ad799-7b00-4f99-8dbe-c2f3f1f17aca div.sk-label-container {position: relative;z-index: 2;text-align: center;}#sk-ce9ad799-7b00-4f99-8dbe-c2f3f1f17aca div.sk-container {display: inline-block;position: relative;}</style><div id=\"sk-ce9ad799-7b00-4f99-8dbe-c2f3f1f17aca\" class\"sk-top-container\"><div class=\"sk-container\"><div class=\"sk-item sk-dashed-wrapped\"><div class=\"sk-label-container\"><div class=\"sk-label sk-toggleable\"><input class=\"sk-toggleable__control sk-hidden--visually\" id=\"870f549a-0c24-4e97-bdf3-187c7e2076ff\" type=\"checkbox\" ><label class=\"sk-toggleable__label\" for=\"870f549a-0c24-4e97-bdf3-187c7e2076ff\">Pipeline</label><div class=\"sk-toggleable__content\"><pre>Pipeline(steps=[('preprocessor',\n",
       "                 ColumnTransformer(transformers=[('categorical',\n",
       "                                                  Pipeline(steps=[('imputation_constant',\n",
       "                                                                   SimpleImputer(fill_value='missing',\n",
       "                                                                                 strategy='constant')),\n",
       "                                                                  ('onehot',\n",
       "                                                                   OneHotEncoder(handle_unknown='ignore'))]),\n",
       "                                                  ['sex', 'smoker', 'day',\n",
       "                                                   'time']),\n",
       "                                                 ('numerical',\n",
       "                                                  Pipeline(steps=[('imputation_mean',\n",
       "                                                                   SimpleImputer()),\n",
       "                                                                  ('scaler',\n",
       "                                                                   StandardScaler())]),\n",
       "                                                  ['tip', 'size'])])),\n",
       "                ('regressor',\n",
       "                 RandomForestRegressor(max_depth=5, max_features='sqrt'))])</pre></div></div></div><div class=\"sk-serial\"><div class=\"sk-item sk-dashed-wrapped\"><div class=\"sk-label-container\"><div class=\"sk-label sk-toggleable\"><input class=\"sk-toggleable__control sk-hidden--visually\" id=\"d5e5f5ed-6a33-4c8f-951c-6a77ad676e10\" type=\"checkbox\" ><label class=\"sk-toggleable__label\" for=\"d5e5f5ed-6a33-4c8f-951c-6a77ad676e10\">preprocessor: ColumnTransformer</label><div class=\"sk-toggleable__content\"><pre>ColumnTransformer(transformers=[('categorical',\n",
       "                                 Pipeline(steps=[('imputation_constant',\n",
       "                                                  SimpleImputer(fill_value='missing',\n",
       "                                                                strategy='constant')),\n",
       "                                                 ('onehot',\n",
       "                                                  OneHotEncoder(handle_unknown='ignore'))]),\n",
       "                                 ['sex', 'smoker', 'day', 'time']),\n",
       "                                ('numerical',\n",
       "                                 Pipeline(steps=[('imputation_mean',\n",
       "                                                  SimpleImputer()),\n",
       "                                                 ('scaler', StandardScaler())]),\n",
       "                                 ['tip', 'size'])])</pre></div></div></div><div class=\"sk-parallel\"><div class=\"sk-parallel-item\"><div class=\"sk-item\"><div class=\"sk-label-container\"><div class=\"sk-label sk-toggleable\"><input class=\"sk-toggleable__control sk-hidden--visually\" id=\"3397de9d-62fb-483c-84bb-35878575b24e\" type=\"checkbox\" ><label class=\"sk-toggleable__label\" for=\"3397de9d-62fb-483c-84bb-35878575b24e\">categorical</label><div class=\"sk-toggleable__content\"><pre>['sex', 'smoker', 'day', 'time']</pre></div></div></div><div class=\"sk-serial\"><div class=\"sk-item\"><div class=\"sk-serial\"><div class=\"sk-item\"><div class=\"sk-estimator sk-toggleable\"><input class=\"sk-toggleable__control sk-hidden--visually\" id=\"32d6c652-b3fc-4f2e-a4fe-fab64fbc68cd\" type=\"checkbox\" ><label class=\"sk-toggleable__label\" for=\"32d6c652-b3fc-4f2e-a4fe-fab64fbc68cd\">SimpleImputer</label><div class=\"sk-toggleable__content\"><pre>SimpleImputer(fill_value='missing', strategy='constant')</pre></div></div></div><div class=\"sk-item\"><div class=\"sk-estimator sk-toggleable\"><input class=\"sk-toggleable__control sk-hidden--visually\" id=\"7cddbf59-3c9d-4f42-ae96-a33f1d47e645\" type=\"checkbox\" ><label class=\"sk-toggleable__label\" for=\"7cddbf59-3c9d-4f42-ae96-a33f1d47e645\">OneHotEncoder</label><div class=\"sk-toggleable__content\"><pre>OneHotEncoder(handle_unknown='ignore')</pre></div></div></div></div></div></div></div></div><div class=\"sk-parallel-item\"><div class=\"sk-item\"><div class=\"sk-label-container\"><div class=\"sk-label sk-toggleable\"><input class=\"sk-toggleable__control sk-hidden--visually\" id=\"407ca75c-4404-457b-a147-277850d95f29\" type=\"checkbox\" ><label class=\"sk-toggleable__label\" for=\"407ca75c-4404-457b-a147-277850d95f29\">numerical</label><div class=\"sk-toggleable__content\"><pre>['tip', 'size']</pre></div></div></div><div class=\"sk-serial\"><div class=\"sk-item\"><div class=\"sk-serial\"><div class=\"sk-item\"><div class=\"sk-estimator sk-toggleable\"><input class=\"sk-toggleable__control sk-hidden--visually\" id=\"ee32c322-b860-46ad-a938-aecb8b3b919d\" type=\"checkbox\" ><label class=\"sk-toggleable__label\" for=\"ee32c322-b860-46ad-a938-aecb8b3b919d\">SimpleImputer</label><div class=\"sk-toggleable__content\"><pre>SimpleImputer()</pre></div></div></div><div class=\"sk-item\"><div class=\"sk-estimator sk-toggleable\"><input class=\"sk-toggleable__control sk-hidden--visually\" id=\"07972e7e-c834-409e-b462-fe6ca97d4041\" type=\"checkbox\" ><label class=\"sk-toggleable__label\" for=\"07972e7e-c834-409e-b462-fe6ca97d4041\">StandardScaler</label><div class=\"sk-toggleable__content\"><pre>StandardScaler()</pre></div></div></div></div></div></div></div></div></div></div><div class=\"sk-item\"><div class=\"sk-estimator sk-toggleable\"><input class=\"sk-toggleable__control sk-hidden--visually\" id=\"94d8c514-25ba-45b2-98b6-856e8dc3ee33\" type=\"checkbox\" ><label class=\"sk-toggleable__label\" for=\"94d8c514-25ba-45b2-98b6-856e8dc3ee33\">RandomForestRegressor</label><div class=\"sk-toggleable__content\"><pre>RandomForestRegressor(max_depth=5, max_features='sqrt')</pre></div></div></div></div></div></div></div>"
      ],
      "text/plain": [
       "Pipeline(steps=[('preprocessor',\n",
       "                 ColumnTransformer(transformers=[('categorical',\n",
       "                                                  Pipeline(steps=[('imputation_constant',\n",
       "                                                                   SimpleImputer(fill_value='missing',\n",
       "                                                                                 strategy='constant')),\n",
       "                                                                  ('onehot',\n",
       "                                                                   OneHotEncoder(handle_unknown='ignore'))]),\n",
       "                                                  ['sex', 'smoker', 'day',\n",
       "                                                   'time']),\n",
       "                                                 ('numerical',\n",
       "                                                  Pipeline(steps=[('imputation_mean',\n",
       "                                                                   SimpleImputer()),\n",
       "                                                                  ('scaler',\n",
       "                                                                   StandardScaler())]),\n",
       "                                                  ['tip', 'size'])])),\n",
       "                ('regressor',\n",
       "                 RandomForestRegressor(max_depth=5, max_features='sqrt'))])"
      ]
     },
     "execution_count": 75,
     "metadata": {},
     "output_type": "execute_result"
    }
   ],
   "source": [
    "grid_search.best_estimator_"
   ]
  },
  {
   "cell_type": "code",
   "execution_count": 76,
   "metadata": {},
   "outputs": [],
   "source": [
    "pipe = Pipeline(steps=[(\"preprocessor\", preprocessor),\n",
    "                (\"regressor\", RandomForestRegressor(max_depth=5, n_estimators=100, max_features=\"sqrt\"))])"
   ]
  },
  {
   "cell_type": "code",
   "execution_count": 77,
   "metadata": {},
   "outputs": [
    {
     "data": {
      "text/html": [
       "<style>#sk-7039723a-eae2-4702-b753-a89b9818d2a9 {color: black;background-color: white;}#sk-7039723a-eae2-4702-b753-a89b9818d2a9 pre{padding: 0;}#sk-7039723a-eae2-4702-b753-a89b9818d2a9 div.sk-toggleable {background-color: white;}#sk-7039723a-eae2-4702-b753-a89b9818d2a9 label.sk-toggleable__label {cursor: pointer;display: block;width: 100%;margin-bottom: 0;padding: 0.2em 0.3em;box-sizing: border-box;text-align: center;}#sk-7039723a-eae2-4702-b753-a89b9818d2a9 div.sk-toggleable__content {max-height: 0;max-width: 0;overflow: hidden;text-align: left;background-color: #f0f8ff;}#sk-7039723a-eae2-4702-b753-a89b9818d2a9 div.sk-toggleable__content pre {margin: 0.2em;color: black;border-radius: 0.25em;background-color: #f0f8ff;}#sk-7039723a-eae2-4702-b753-a89b9818d2a9 input.sk-toggleable__control:checked~div.sk-toggleable__content {max-height: 200px;max-width: 100%;overflow: auto;}#sk-7039723a-eae2-4702-b753-a89b9818d2a9 div.sk-estimator input.sk-toggleable__control:checked~label.sk-toggleable__label {background-color: #d4ebff;}#sk-7039723a-eae2-4702-b753-a89b9818d2a9 div.sk-label input.sk-toggleable__control:checked~label.sk-toggleable__label {background-color: #d4ebff;}#sk-7039723a-eae2-4702-b753-a89b9818d2a9 input.sk-hidden--visually {border: 0;clip: rect(1px 1px 1px 1px);clip: rect(1px, 1px, 1px, 1px);height: 1px;margin: -1px;overflow: hidden;padding: 0;position: absolute;width: 1px;}#sk-7039723a-eae2-4702-b753-a89b9818d2a9 div.sk-estimator {font-family: monospace;background-color: #f0f8ff;margin: 0.25em 0.25em;border: 1px dotted black;border-radius: 0.25em;box-sizing: border-box;}#sk-7039723a-eae2-4702-b753-a89b9818d2a9 div.sk-estimator:hover {background-color: #d4ebff;}#sk-7039723a-eae2-4702-b753-a89b9818d2a9 div.sk-parallel-item::after {content: \"\";width: 100%;border-bottom: 1px solid gray;flex-grow: 1;}#sk-7039723a-eae2-4702-b753-a89b9818d2a9 div.sk-label:hover label.sk-toggleable__label {background-color: #d4ebff;}#sk-7039723a-eae2-4702-b753-a89b9818d2a9 div.sk-serial::before {content: \"\";position: absolute;border-left: 1px solid gray;box-sizing: border-box;top: 2em;bottom: 0;left: 50%;}#sk-7039723a-eae2-4702-b753-a89b9818d2a9 div.sk-serial {display: flex;flex-direction: column;align-items: center;background-color: white;}#sk-7039723a-eae2-4702-b753-a89b9818d2a9 div.sk-item {z-index: 1;}#sk-7039723a-eae2-4702-b753-a89b9818d2a9 div.sk-parallel {display: flex;align-items: stretch;justify-content: center;background-color: white;}#sk-7039723a-eae2-4702-b753-a89b9818d2a9 div.sk-parallel-item {display: flex;flex-direction: column;position: relative;background-color: white;}#sk-7039723a-eae2-4702-b753-a89b9818d2a9 div.sk-parallel-item:first-child::after {align-self: flex-end;width: 50%;}#sk-7039723a-eae2-4702-b753-a89b9818d2a9 div.sk-parallel-item:last-child::after {align-self: flex-start;width: 50%;}#sk-7039723a-eae2-4702-b753-a89b9818d2a9 div.sk-parallel-item:only-child::after {width: 0;}#sk-7039723a-eae2-4702-b753-a89b9818d2a9 div.sk-dashed-wrapped {border: 1px dashed gray;margin: 0.2em;box-sizing: border-box;padding-bottom: 0.1em;background-color: white;position: relative;}#sk-7039723a-eae2-4702-b753-a89b9818d2a9 div.sk-label label {font-family: monospace;font-weight: bold;background-color: white;display: inline-block;line-height: 1.2em;}#sk-7039723a-eae2-4702-b753-a89b9818d2a9 div.sk-label-container {position: relative;z-index: 2;text-align: center;}#sk-7039723a-eae2-4702-b753-a89b9818d2a9 div.sk-container {display: inline-block;position: relative;}</style><div id=\"sk-7039723a-eae2-4702-b753-a89b9818d2a9\" class\"sk-top-container\"><div class=\"sk-container\"><div class=\"sk-item sk-dashed-wrapped\"><div class=\"sk-label-container\"><div class=\"sk-label sk-toggleable\"><input class=\"sk-toggleable__control sk-hidden--visually\" id=\"2ac329fc-bef1-4968-9dc9-fddd4ef55811\" type=\"checkbox\" ><label class=\"sk-toggleable__label\" for=\"2ac329fc-bef1-4968-9dc9-fddd4ef55811\">Pipeline</label><div class=\"sk-toggleable__content\"><pre>Pipeline(steps=[('preprocessor',\n",
       "                 ColumnTransformer(transformers=[('categorical',\n",
       "                                                  Pipeline(steps=[('imputation_constant',\n",
       "                                                                   SimpleImputer(fill_value='missing',\n",
       "                                                                                 strategy='constant')),\n",
       "                                                                  ('onehot',\n",
       "                                                                   OneHotEncoder(handle_unknown='ignore'))]),\n",
       "                                                  ['sex', 'smoker', 'day',\n",
       "                                                   'time']),\n",
       "                                                 ('numerical',\n",
       "                                                  Pipeline(steps=[('imputation_mean',\n",
       "                                                                   SimpleImputer()),\n",
       "                                                                  ('scaler',\n",
       "                                                                   StandardScaler())]),\n",
       "                                                  ['tip', 'size'])])),\n",
       "                ('regressor',\n",
       "                 RandomForestRegressor(max_depth=5, max_features='sqrt'))])</pre></div></div></div><div class=\"sk-serial\"><div class=\"sk-item sk-dashed-wrapped\"><div class=\"sk-label-container\"><div class=\"sk-label sk-toggleable\"><input class=\"sk-toggleable__control sk-hidden--visually\" id=\"e76c8c3a-bbc5-4930-9795-ca494e8645b3\" type=\"checkbox\" ><label class=\"sk-toggleable__label\" for=\"e76c8c3a-bbc5-4930-9795-ca494e8645b3\">preprocessor: ColumnTransformer</label><div class=\"sk-toggleable__content\"><pre>ColumnTransformer(transformers=[('categorical',\n",
       "                                 Pipeline(steps=[('imputation_constant',\n",
       "                                                  SimpleImputer(fill_value='missing',\n",
       "                                                                strategy='constant')),\n",
       "                                                 ('onehot',\n",
       "                                                  OneHotEncoder(handle_unknown='ignore'))]),\n",
       "                                 ['sex', 'smoker', 'day', 'time']),\n",
       "                                ('numerical',\n",
       "                                 Pipeline(steps=[('imputation_mean',\n",
       "                                                  SimpleImputer()),\n",
       "                                                 ('scaler', StandardScaler())]),\n",
       "                                 ['tip', 'size'])])</pre></div></div></div><div class=\"sk-parallel\"><div class=\"sk-parallel-item\"><div class=\"sk-item\"><div class=\"sk-label-container\"><div class=\"sk-label sk-toggleable\"><input class=\"sk-toggleable__control sk-hidden--visually\" id=\"7e5f8fa5-a588-458d-adcb-4decaa8a1514\" type=\"checkbox\" ><label class=\"sk-toggleable__label\" for=\"7e5f8fa5-a588-458d-adcb-4decaa8a1514\">categorical</label><div class=\"sk-toggleable__content\"><pre>['sex', 'smoker', 'day', 'time']</pre></div></div></div><div class=\"sk-serial\"><div class=\"sk-item\"><div class=\"sk-serial\"><div class=\"sk-item\"><div class=\"sk-estimator sk-toggleable\"><input class=\"sk-toggleable__control sk-hidden--visually\" id=\"6e77e9d8-c008-4954-a58b-07b95c596149\" type=\"checkbox\" ><label class=\"sk-toggleable__label\" for=\"6e77e9d8-c008-4954-a58b-07b95c596149\">SimpleImputer</label><div class=\"sk-toggleable__content\"><pre>SimpleImputer(fill_value='missing', strategy='constant')</pre></div></div></div><div class=\"sk-item\"><div class=\"sk-estimator sk-toggleable\"><input class=\"sk-toggleable__control sk-hidden--visually\" id=\"a4827705-9f6b-4ee2-9596-0d755998547b\" type=\"checkbox\" ><label class=\"sk-toggleable__label\" for=\"a4827705-9f6b-4ee2-9596-0d755998547b\">OneHotEncoder</label><div class=\"sk-toggleable__content\"><pre>OneHotEncoder(handle_unknown='ignore')</pre></div></div></div></div></div></div></div></div><div class=\"sk-parallel-item\"><div class=\"sk-item\"><div class=\"sk-label-container\"><div class=\"sk-label sk-toggleable\"><input class=\"sk-toggleable__control sk-hidden--visually\" id=\"e4589ea2-8c14-4b09-b307-05e30afec8a6\" type=\"checkbox\" ><label class=\"sk-toggleable__label\" for=\"e4589ea2-8c14-4b09-b307-05e30afec8a6\">numerical</label><div class=\"sk-toggleable__content\"><pre>['tip', 'size']</pre></div></div></div><div class=\"sk-serial\"><div class=\"sk-item\"><div class=\"sk-serial\"><div class=\"sk-item\"><div class=\"sk-estimator sk-toggleable\"><input class=\"sk-toggleable__control sk-hidden--visually\" id=\"a89fd498-d19d-4925-a958-c07f56b036c4\" type=\"checkbox\" ><label class=\"sk-toggleable__label\" for=\"a89fd498-d19d-4925-a958-c07f56b036c4\">SimpleImputer</label><div class=\"sk-toggleable__content\"><pre>SimpleImputer()</pre></div></div></div><div class=\"sk-item\"><div class=\"sk-estimator sk-toggleable\"><input class=\"sk-toggleable__control sk-hidden--visually\" id=\"5c44f47c-36ef-42df-96a2-04191c05763a\" type=\"checkbox\" ><label class=\"sk-toggleable__label\" for=\"5c44f47c-36ef-42df-96a2-04191c05763a\">StandardScaler</label><div class=\"sk-toggleable__content\"><pre>StandardScaler()</pre></div></div></div></div></div></div></div></div></div></div><div class=\"sk-item\"><div class=\"sk-estimator sk-toggleable\"><input class=\"sk-toggleable__control sk-hidden--visually\" id=\"59d099b4-0c7c-4417-aeaa-586958bc42e5\" type=\"checkbox\" ><label class=\"sk-toggleable__label\" for=\"59d099b4-0c7c-4417-aeaa-586958bc42e5\">RandomForestRegressor</label><div class=\"sk-toggleable__content\"><pre>RandomForestRegressor(max_depth=5, max_features='sqrt')</pre></div></div></div></div></div></div></div>"
      ],
      "text/plain": [
       "Pipeline(steps=[('preprocessor',\n",
       "                 ColumnTransformer(transformers=[('categorical',\n",
       "                                                  Pipeline(steps=[('imputation_constant',\n",
       "                                                                   SimpleImputer(fill_value='missing',\n",
       "                                                                                 strategy='constant')),\n",
       "                                                                  ('onehot',\n",
       "                                                                   OneHotEncoder(handle_unknown='ignore'))]),\n",
       "                                                  ['sex', 'smoker', 'day',\n",
       "                                                   'time']),\n",
       "                                                 ('numerical',\n",
       "                                                  Pipeline(steps=[('imputation_mean',\n",
       "                                                                   SimpleImputer()),\n",
       "                                                                  ('scaler',\n",
       "                                                                   StandardScaler())]),\n",
       "                                                  ['tip', 'size'])])),\n",
       "                ('regressor',\n",
       "                 RandomForestRegressor(max_depth=5, max_features='sqrt'))])"
      ]
     },
     "execution_count": 77,
     "metadata": {},
     "output_type": "execute_result"
    }
   ],
   "source": [
    "pipe.fit(X_train, y_train)"
   ]
  },
  {
   "cell_type": "code",
   "execution_count": 79,
   "metadata": {},
   "outputs": [],
   "source": [
    "y_pred = pipe.predict(X_test)"
   ]
  },
  {
   "cell_type": "code",
   "execution_count": 80,
   "metadata": {},
   "outputs": [
    {
     "data": {
      "text/plain": [
       "array([18.29189307, 14.95040684, 21.28242534, 32.37069579, 13.66804027,\n",
       "       19.2273427 , 16.39544248, 15.05798717, 20.31553215, 17.44045535,\n",
       "       18.85161674, 14.84817245, 12.27899523, 19.2273427 , 12.25035381,\n",
       "       16.26690019, 20.81889965, 20.74472517, 16.65629044, 28.07401227,\n",
       "       23.6988186 , 21.62705664, 20.05318533, 14.84817245, 23.70312128,\n",
       "       15.46774019, 14.59042499, 23.81246621, 21.28242534, 25.91037758,\n",
       "       23.2069682 , 17.3302064 , 21.93054199, 22.00306995, 21.35277365,\n",
       "       24.11062409, 17.63484072, 26.3018108 , 16.856094  , 17.81751699,\n",
       "       14.84449151, 12.52809884, 15.73162425, 18.62380091, 15.061647  ,\n",
       "       15.89244817, 17.05352877, 20.04285882, 13.46097817, 16.73189958,\n",
       "       17.91380225, 23.59880196, 25.89994118, 14.45387658, 20.35220999,\n",
       "       13.8303674 , 26.45389329, 15.00409853, 20.50687296, 28.29630455,\n",
       "       29.87973918, 18.15264209, 26.55099329, 13.04312375, 15.30405872,\n",
       "       19.67560198, 17.94658392, 15.91927432, 27.27220298, 22.59375856,\n",
       "       21.28242534, 29.19783958, 17.4287406 , 17.79900675])"
      ]
     },
     "execution_count": 80,
     "metadata": {},
     "output_type": "execute_result"
    }
   ],
   "source": [
    "y_pred"
   ]
  },
  {
   "cell_type": "code",
   "execution_count": 84,
   "metadata": {},
   "outputs": [
    {
     "data": {
      "text/plain": [
       "24     19.82\n",
       "6       8.77\n",
       "153    24.55\n",
       "211    25.89\n",
       "198    13.00\n",
       "       ...  \n",
       "165    24.52\n",
       "154    19.77\n",
       "216    28.15\n",
       "79     17.29\n",
       "29     19.65\n",
       "Name: total_bill, Length: 74, dtype: float64"
      ]
     },
     "execution_count": 84,
     "metadata": {},
     "output_type": "execute_result"
    }
   ],
   "source": [
    "y_test"
   ]
  },
  {
   "cell_type": "code",
   "execution_count": 83,
   "metadata": {},
   "outputs": [
    {
     "name": "stdout",
     "output_type": "stream",
     "text": [
      "0.40572354135654387\n",
      "4.599224833281552\n",
      "41.39511725775138\n"
     ]
    }
   ],
   "source": [
    "from sklearn.metrics import r2_score, mean_absolute_error, mean_squared_error\n",
    "\n",
    "print(r2_score(y_test, y_pred))\n",
    "print(mean_absolute_error(y_test, y_pred))\n",
    "print(mean_squared_error(y_test, y_pred))"
   ]
  },
  {
   "cell_type": "code",
   "execution_count": null,
   "metadata": {},
   "outputs": [],
   "source": []
  }
 ],
 "metadata": {
  "kernelspec": {
   "display_name": "Python 3.9.7 64-bit",
   "language": "python",
   "name": "python3"
  },
  "language_info": {
   "codemirror_mode": {
    "name": "ipython",
    "version": 3
   },
   "file_extension": ".py",
   "mimetype": "text/x-python",
   "name": "python",
   "nbconvert_exporter": "python",
   "pygments_lexer": "ipython3",
   "version": "3.9.7"
  },
  "orig_nbformat": 4,
  "vscode": {
   "interpreter": {
    "hash": "d53f250bb2553594e063185717e70639c4fad0553ce47f360ebb15c939323966"
   }
  }
 },
 "nbformat": 4,
 "nbformat_minor": 2
}
